{
 "cells": [
  {
   "cell_type": "code",
   "execution_count": 1,
   "metadata": {
    "scrolled": true
   },
   "outputs": [
    {
     "name": "stdout",
     "output_type": "stream",
     "text": [
      "Requirement already satisfied: lightgbm in /Users/susanwhite/anaconda3/lib/python3.10/site-packages (3.3.5)\n",
      "Requirement already satisfied: scipy in /Users/susanwhite/anaconda3/lib/python3.10/site-packages (from lightgbm) (1.10.0)\n",
      "Requirement already satisfied: numpy in /Users/susanwhite/anaconda3/lib/python3.10/site-packages (from lightgbm) (1.23.5)\n",
      "Requirement already satisfied: wheel in /Users/susanwhite/anaconda3/lib/python3.10/site-packages (from lightgbm) (0.38.4)\n",
      "Requirement already satisfied: scikit-learn!=0.22.0 in /Users/susanwhite/anaconda3/lib/python3.10/site-packages (from lightgbm) (1.2.1)\n",
      "Requirement already satisfied: threadpoolctl>=2.0.0 in /Users/susanwhite/anaconda3/lib/python3.10/site-packages (from scikit-learn!=0.22.0->lightgbm) (2.2.0)\n",
      "Requirement already satisfied: joblib>=1.1.1 in /Users/susanwhite/anaconda3/lib/python3.10/site-packages (from scikit-learn!=0.22.0->lightgbm) (1.2.0)\n",
      "Note: you may need to restart the kernel to use updated packages.\n"
     ]
    }
   ],
   "source": [
    "pip install lightgbm"
   ]
  },
  {
   "cell_type": "code",
   "execution_count": 2,
   "metadata": {},
   "outputs": [
    {
     "name": "stdout",
     "output_type": "stream",
     "text": [
      "Retrieving notices: ...working... done\n",
      "Collecting package metadata (current_repodata.json): done\n",
      "Solving environment: done\n",
      "\n",
      "\n",
      "==> WARNING: A newer version of conda exists. <==\n",
      "  current version: 23.3.1\n",
      "  latest version: 23.5.0\n",
      "\n",
      "Please update conda by running\n",
      "\n",
      "    $ conda update -n base -c defaults conda\n",
      "\n",
      "Or to minimize the number of packages updated during conda update use\n",
      "\n",
      "     conda install conda=23.5.0\n",
      "\n",
      "\n",
      "\n",
      "## Package Plan ##\n",
      "\n",
      "  environment location: /Users/susanwhite/anaconda3\n",
      "\n",
      "  added / updated specs:\n",
      "    - lightgbm\n",
      "\n",
      "\n",
      "The following packages will be downloaded:\n",
      "\n",
      "    package                    |            build\n",
      "    ---------------------------|-----------------\n",
      "    ca-certificates-2023.05.30 |       hecd8cb5_0         121 KB\n",
      "    openssl-1.1.1u             |       hca72f7f_0         3.4 MB\n",
      "    ------------------------------------------------------------\n",
      "                                           Total:         3.5 MB\n",
      "\n",
      "The following packages will be UPDATED:\n",
      "\n",
      "  ca-certificates                     2023.01.10-hecd8cb5_0 --> 2023.05.30-hecd8cb5_0 \n",
      "  openssl                                 1.1.1t-hca72f7f_0 --> 1.1.1u-hca72f7f_0 \n",
      "\n",
      "\n",
      "\n",
      "Downloading and Extracting Packages\n",
      "openssl-1.1.1u       | 3.4 MB    |                                       |   0% \n",
      "ca-certificates-2023 | 121 KB    |                                       |   0% \u001b[A\n",
      "openssl-1.1.1u       | 3.4 MB    | 1                                     |   0% \u001b[A\n",
      "                                                                                \u001b[A\n",
      "                                                                                \u001b[A\n",
      "Preparing transaction: done\n",
      "Verifying transaction: done\n",
      "Executing transaction: done\n",
      "\n",
      "Note: you may need to restart the kernel to use updated packages.\n"
     ]
    }
   ],
   "source": [
    "conda install lightgbm"
   ]
  },
  {
   "cell_type": "code",
   "execution_count": 3,
   "metadata": {},
   "outputs": [
    {
     "name": "stdout",
     "output_type": "stream",
     "text": [
      "Collecting package metadata (current_repodata.json): done\n",
      "Solving environment: done\n",
      "\n",
      "\n",
      "==> WARNING: A newer version of conda exists. <==\n",
      "  current version: 23.3.1\n",
      "  latest version: 23.5.0\n",
      "\n",
      "Please update conda by running\n",
      "\n",
      "    $ conda update -n base -c defaults conda\n",
      "\n",
      "Or to minimize the number of packages updated during conda update use\n",
      "\n",
      "     conda install conda=23.5.0\n",
      "\n",
      "\n",
      "\n",
      "# All requested packages already installed.\n",
      "\n",
      "\n",
      "Note: you may need to restart the kernel to use updated packages.\n"
     ]
    }
   ],
   "source": [
    "conda install xgboost"
   ]
  },
  {
   "cell_type": "code",
   "execution_count": 4,
   "metadata": {},
   "outputs": [],
   "source": [
    "#importing necessary libraries\n",
    "import pandas as pd\n",
    "import numpy as np\n",
    "from tqdm import tqdm\n",
    "from sklearn.preprocessing import LabelEncoder\n",
    "from sklearn.metrics import make_scorer\n",
    "from sklearn.model_selection import RandomizedSearchCV\n",
    "from sklearn.ensemble import RandomForestRegressor\n",
    "from sklearn.ensemble import AdaBoostRegressor\n",
    "from sklearn.tree import DecisionTreeRegressor\n",
    "from sklearn.linear_model import SGDRegressor\n",
    "from sklearn.preprocessing import StandardScaler\n",
    "import lightgbm as lgb\n",
    "import xgboost as xgb\n",
    "import math\n",
    "import pickle\n",
    "import joblib\n",
    "import warnings\n",
    "warnings.filterwarnings(\"ignore\")\n",
    "pd.options.mode.chained_assignment = None\n",
    "pd.set_option('display.float_format', '{:.2f}'.format)"
   ]
  },
  {
   "cell_type": "code",
   "execution_count": 5,
   "metadata": {},
   "outputs": [],
   "source": [
    "#Reading the data from files\n",
    "calendar_df = pd.read_csv('calendar.csv')\n",
    "sales_df = pd.read_csv('sales_train_validation.csv')\n",
    "prices_df = pd.read_csv('sell_prices.csv')"
   ]
  },
  {
   "cell_type": "code",
   "execution_count": 6,
   "metadata": {},
   "outputs": [
    {
     "name": "stdout",
     "output_type": "stream",
     "text": [
      "shape of calendar_df is  (1969, 14)\n",
      "top 2 rows of calendar_df\n"
     ]
    },
    {
     "data": {
      "text/html": [
       "<div>\n",
       "<style scoped>\n",
       "    .dataframe tbody tr th:only-of-type {\n",
       "        vertical-align: middle;\n",
       "    }\n",
       "\n",
       "    .dataframe tbody tr th {\n",
       "        vertical-align: top;\n",
       "    }\n",
       "\n",
       "    .dataframe thead th {\n",
       "        text-align: right;\n",
       "    }\n",
       "</style>\n",
       "<table border=\"1\" class=\"dataframe\">\n",
       "  <thead>\n",
       "    <tr style=\"text-align: right;\">\n",
       "      <th></th>\n",
       "      <th>date</th>\n",
       "      <th>wm_yr_wk</th>\n",
       "      <th>weekday</th>\n",
       "      <th>wday</th>\n",
       "      <th>month</th>\n",
       "      <th>year</th>\n",
       "      <th>d</th>\n",
       "      <th>event_name_1</th>\n",
       "      <th>event_type_1</th>\n",
       "      <th>event_name_2</th>\n",
       "      <th>event_type_2</th>\n",
       "      <th>snap_CA</th>\n",
       "      <th>snap_TX</th>\n",
       "      <th>snap_WI</th>\n",
       "    </tr>\n",
       "  </thead>\n",
       "  <tbody>\n",
       "    <tr>\n",
       "      <th>0</th>\n",
       "      <td>2011-01-29</td>\n",
       "      <td>11101</td>\n",
       "      <td>Saturday</td>\n",
       "      <td>1</td>\n",
       "      <td>1</td>\n",
       "      <td>2011</td>\n",
       "      <td>d_1</td>\n",
       "      <td>NaN</td>\n",
       "      <td>NaN</td>\n",
       "      <td>NaN</td>\n",
       "      <td>NaN</td>\n",
       "      <td>0</td>\n",
       "      <td>0</td>\n",
       "      <td>0</td>\n",
       "    </tr>\n",
       "    <tr>\n",
       "      <th>1</th>\n",
       "      <td>2011-01-30</td>\n",
       "      <td>11101</td>\n",
       "      <td>Sunday</td>\n",
       "      <td>2</td>\n",
       "      <td>1</td>\n",
       "      <td>2011</td>\n",
       "      <td>d_2</td>\n",
       "      <td>NaN</td>\n",
       "      <td>NaN</td>\n",
       "      <td>NaN</td>\n",
       "      <td>NaN</td>\n",
       "      <td>0</td>\n",
       "      <td>0</td>\n",
       "      <td>0</td>\n",
       "    </tr>\n",
       "  </tbody>\n",
       "</table>\n",
       "</div>"
      ],
      "text/plain": [
       "         date  wm_yr_wk   weekday  wday  month  year    d event_name_1  \\\n",
       "0  2011-01-29     11101  Saturday     1      1  2011  d_1          NaN   \n",
       "1  2011-01-30     11101    Sunday     2      1  2011  d_2          NaN   \n",
       "\n",
       "  event_type_1 event_name_2 event_type_2  snap_CA  snap_TX  snap_WI  \n",
       "0          NaN          NaN          NaN        0        0        0  \n",
       "1          NaN          NaN          NaN        0        0        0  "
      ]
     },
     "execution_count": 6,
     "metadata": {},
     "output_type": "execute_result"
    }
   ],
   "source": [
    "print('shape of calendar_df is ',calendar_df.shape)\n",
    "print('top 2 rows of calendar_df')\n",
    "calendar_df.head(2)"
   ]
  },
  {
   "cell_type": "code",
   "execution_count": 7,
   "metadata": {},
   "outputs": [
    {
     "name": "stdout",
     "output_type": "stream",
     "text": [
      "shape of sales_df is  (30490, 1919)\n",
      "top 2 rows of sales_df\n"
     ]
    },
    {
     "data": {
      "text/html": [
       "<div>\n",
       "<style scoped>\n",
       "    .dataframe tbody tr th:only-of-type {\n",
       "        vertical-align: middle;\n",
       "    }\n",
       "\n",
       "    .dataframe tbody tr th {\n",
       "        vertical-align: top;\n",
       "    }\n",
       "\n",
       "    .dataframe thead th {\n",
       "        text-align: right;\n",
       "    }\n",
       "</style>\n",
       "<table border=\"1\" class=\"dataframe\">\n",
       "  <thead>\n",
       "    <tr style=\"text-align: right;\">\n",
       "      <th></th>\n",
       "      <th>id</th>\n",
       "      <th>item_id</th>\n",
       "      <th>dept_id</th>\n",
       "      <th>cat_id</th>\n",
       "      <th>store_id</th>\n",
       "      <th>state_id</th>\n",
       "      <th>d_1</th>\n",
       "      <th>d_2</th>\n",
       "      <th>d_3</th>\n",
       "      <th>d_4</th>\n",
       "      <th>...</th>\n",
       "      <th>d_1904</th>\n",
       "      <th>d_1905</th>\n",
       "      <th>d_1906</th>\n",
       "      <th>d_1907</th>\n",
       "      <th>d_1908</th>\n",
       "      <th>d_1909</th>\n",
       "      <th>d_1910</th>\n",
       "      <th>d_1911</th>\n",
       "      <th>d_1912</th>\n",
       "      <th>d_1913</th>\n",
       "    </tr>\n",
       "  </thead>\n",
       "  <tbody>\n",
       "    <tr>\n",
       "      <th>0</th>\n",
       "      <td>HOBBIES_1_001_CA_1_validation</td>\n",
       "      <td>HOBBIES_1_001</td>\n",
       "      <td>HOBBIES_1</td>\n",
       "      <td>HOBBIES</td>\n",
       "      <td>CA_1</td>\n",
       "      <td>CA</td>\n",
       "      <td>0</td>\n",
       "      <td>0</td>\n",
       "      <td>0</td>\n",
       "      <td>0</td>\n",
       "      <td>...</td>\n",
       "      <td>1</td>\n",
       "      <td>3</td>\n",
       "      <td>0</td>\n",
       "      <td>1</td>\n",
       "      <td>1</td>\n",
       "      <td>1</td>\n",
       "      <td>3</td>\n",
       "      <td>0</td>\n",
       "      <td>1</td>\n",
       "      <td>1</td>\n",
       "    </tr>\n",
       "    <tr>\n",
       "      <th>1</th>\n",
       "      <td>HOBBIES_1_002_CA_1_validation</td>\n",
       "      <td>HOBBIES_1_002</td>\n",
       "      <td>HOBBIES_1</td>\n",
       "      <td>HOBBIES</td>\n",
       "      <td>CA_1</td>\n",
       "      <td>CA</td>\n",
       "      <td>0</td>\n",
       "      <td>0</td>\n",
       "      <td>0</td>\n",
       "      <td>0</td>\n",
       "      <td>...</td>\n",
       "      <td>0</td>\n",
       "      <td>0</td>\n",
       "      <td>0</td>\n",
       "      <td>0</td>\n",
       "      <td>0</td>\n",
       "      <td>1</td>\n",
       "      <td>0</td>\n",
       "      <td>0</td>\n",
       "      <td>0</td>\n",
       "      <td>0</td>\n",
       "    </tr>\n",
       "  </tbody>\n",
       "</table>\n",
       "<p>2 rows × 1919 columns</p>\n",
       "</div>"
      ],
      "text/plain": [
       "                              id        item_id    dept_id   cat_id store_id  \\\n",
       "0  HOBBIES_1_001_CA_1_validation  HOBBIES_1_001  HOBBIES_1  HOBBIES     CA_1   \n",
       "1  HOBBIES_1_002_CA_1_validation  HOBBIES_1_002  HOBBIES_1  HOBBIES     CA_1   \n",
       "\n",
       "  state_id  d_1  d_2  d_3  d_4  ...  d_1904  d_1905  d_1906  d_1907  d_1908  \\\n",
       "0       CA    0    0    0    0  ...       1       3       0       1       1   \n",
       "1       CA    0    0    0    0  ...       0       0       0       0       0   \n",
       "\n",
       "   d_1909  d_1910  d_1911  d_1912  d_1913  \n",
       "0       1       3       0       1       1  \n",
       "1       1       0       0       0       0  \n",
       "\n",
       "[2 rows x 1919 columns]"
      ]
     },
     "execution_count": 7,
     "metadata": {},
     "output_type": "execute_result"
    }
   ],
   "source": [
    "print('shape of sales_df is ',sales_df.shape)\n",
    "print('top 2 rows of sales_df')\n",
    "sales_df.head(2)"
   ]
  },
  {
   "cell_type": "code",
   "execution_count": 8,
   "metadata": {},
   "outputs": [
    {
     "name": "stdout",
     "output_type": "stream",
     "text": [
      "shape of prices_df is  (6841121, 4)\n",
      "top 2 rows of prices_df\n"
     ]
    },
    {
     "data": {
      "text/html": [
       "<div>\n",
       "<style scoped>\n",
       "    .dataframe tbody tr th:only-of-type {\n",
       "        vertical-align: middle;\n",
       "    }\n",
       "\n",
       "    .dataframe tbody tr th {\n",
       "        vertical-align: top;\n",
       "    }\n",
       "\n",
       "    .dataframe thead th {\n",
       "        text-align: right;\n",
       "    }\n",
       "</style>\n",
       "<table border=\"1\" class=\"dataframe\">\n",
       "  <thead>\n",
       "    <tr style=\"text-align: right;\">\n",
       "      <th></th>\n",
       "      <th>store_id</th>\n",
       "      <th>item_id</th>\n",
       "      <th>wm_yr_wk</th>\n",
       "      <th>sell_price</th>\n",
       "    </tr>\n",
       "  </thead>\n",
       "  <tbody>\n",
       "    <tr>\n",
       "      <th>0</th>\n",
       "      <td>CA_1</td>\n",
       "      <td>HOBBIES_1_001</td>\n",
       "      <td>11325</td>\n",
       "      <td>9.58</td>\n",
       "    </tr>\n",
       "    <tr>\n",
       "      <th>1</th>\n",
       "      <td>CA_1</td>\n",
       "      <td>HOBBIES_1_001</td>\n",
       "      <td>11326</td>\n",
       "      <td>9.58</td>\n",
       "    </tr>\n",
       "  </tbody>\n",
       "</table>\n",
       "</div>"
      ],
      "text/plain": [
       "  store_id        item_id  wm_yr_wk  sell_price\n",
       "0     CA_1  HOBBIES_1_001     11325        9.58\n",
       "1     CA_1  HOBBIES_1_001     11326        9.58"
      ]
     },
     "execution_count": 8,
     "metadata": {},
     "output_type": "execute_result"
    }
   ],
   "source": [
    "print('shape of prices_df is ',prices_df.shape)\n",
    "print('top 2 rows of prices_df')\n",
    "prices_df.head(2)"
   ]
  },
  {
   "cell_type": "markdown",
   "metadata": {},
   "source": [
    "<h3>Feature Engineering </h3>"
   ]
  },
  {
   "cell_type": "code",
   "execution_count": 9,
   "metadata": {},
   "outputs": [],
   "source": [
    "#reference: https://www.kaggle.com/kyakovlev/m5-simple-fe\n",
    "def reduce_mem_usage(df, verbose=True):\n",
    "    numerics = ['int16', 'int32', 'int64', 'float16', 'float32', 'float64']\n",
    "    start_mem = df.memory_usage().sum() / 1024**2    \n",
    "    for col in df.columns:\n",
    "        col_type = df[col].dtypes\n",
    "        if col_type in numerics:\n",
    "            c_min = df[col].min()\n",
    "            c_max = df[col].max()\n",
    "            if str(col_type)[:3] == 'int':\n",
    "                if c_min > np.iinfo(np.int8).min and c_max < np.iinfo(np.int8).max:\n",
    "                    df[col] = df[col].astype(np.int8)\n",
    "                elif c_min > np.iinfo(np.int16).min and c_max < np.iinfo(np.int16).max:\n",
    "                       df[col] = df[col].astype(np.int16)\n",
    "                elif c_min > np.iinfo(np.int32).min and c_max < np.iinfo(np.int32).max:\n",
    "                    df[col] = df[col].astype(np.int32)\n",
    "                elif c_min > np.iinfo(np.int64).min and c_max < np.iinfo(np.int64).max:\n",
    "                    df[col] = df[col].astype(np.int64)  \n",
    "            else:\n",
    "                if c_min > np.finfo(np.float16).min and c_max < np.finfo(np.float16).max:\n",
    "                    df[col] = df[col].astype(np.float16)\n",
    "                elif c_min > np.finfo(np.float32).min and c_max < np.finfo(np.float32).max:\n",
    "                    df[col] = df[col].astype(np.float32)\n",
    "                else:\n",
    "                    df[col] = df[col].astype(np.float64)    \n",
    "    end_mem = df.memory_usage().sum() / 1024**2\n",
    "    if verbose: print('Mem. usage decreased to {:5.2f} Mb ({:.1f}% reduction)'.format(end_mem, 100 * (start_mem - end_mem) / start_mem))\n",
    "    return df"
   ]
  },
  {
   "cell_type": "code",
   "execution_count": 10,
   "metadata": {},
   "outputs": [
    {
     "name": "stdout",
     "output_type": "stream",
     "text": [
      "Mem. usage decreased to  0.12 Mb (41.9% reduction)\n",
      "Mem. usage decreased to 130.48 Mb (37.5% reduction)\n",
      "Mem. usage decreased to 101.51 Mb (77.3% reduction)\n"
     ]
    }
   ],
   "source": [
    "#here we are inserting the columns for validation set from days d_1914 to d_1941 which we need to forecast sales as nan \n",
    "for i in range(1914,1942):\n",
    "    sales_df['d_'+str(i)] = np.nan\n",
    "    sales_df['d_'+str(i)] = sales_df['d_'+str(i)].astype(np.float16)\n",
    "\n",
    "#to reduce the memory usage by changing the dtypes of columns of the dataframes\n",
    "calendar_df = reduce_mem_usage(calendar_df)\n",
    "prices_df = reduce_mem_usage(prices_df)\n",
    "sales_df = reduce_mem_usage(sales_df)\n",
    "\n",
    "#to transform the dataframe into vertical rows as each corresponds to each day sales of an item from a particular store\n",
    "sales_melt_df = pd.melt(sales_df, id_vars=['id','item_id','dept_id','cat_id','store_id','state_id'],\n",
    "                       var_name='d',value_name='sales')\n",
    "\n",
    "#changing the dtype of object to category in order to reduce the size of dataframe\n",
    "for col in sales_melt_df.columns[:6]:\n",
    "    sales_melt_df[col] = sales_melt_df[col].astype('category')"
   ]
  },
  {
   "cell_type": "code",
   "execution_count": 11,
   "metadata": {},
   "outputs": [],
   "source": [
    "#creating a single dataframe\n",
    "sales_melt_df = sales_melt_df.merge(calendar_df,  on='d', how='left')\n",
    "sales_melt_df = sales_melt_df.merge(prices_df, on=['store_id','item_id','wm_yr_wk'], how='left')"
   ]
  },
  {
   "cell_type": "code",
   "execution_count": 12,
   "metadata": {},
   "outputs": [],
   "source": [
    "#pre processing missing values of prices by transforming with mean price of that id\n",
    "sales_melt_df['sell_price'].fillna(sales_melt_df.groupby('id')['sell_price'].transform('mean'),inplace=True)"
   ]
  },
  {
   "cell_type": "markdown",
   "metadata": {},
   "source": [
    "<h3>Lag features </h3>"
   ]
  },
  {
   "cell_type": "code",
   "execution_count": 13,
   "metadata": {},
   "outputs": [
    {
     "name": "stderr",
     "output_type": "stream",
     "text": [
      "100%|█████████████████████████████████████████████| 9/9 [00:22<00:00,  2.53s/it]\n"
     ]
    }
   ],
   "source": [
    "#creating lag features such that the for a product on current day it gets it's sales upto 3 months prior.\n",
    "shifting = 28 #shift period in order to account for 28 days to forecast\n",
    "for i in tqdm(range(9)): #num of weeks to shift here 8 weeks we consider\n",
    "    sales_melt_df['lag_'+str(shifting+(7*i))] = sales_melt_df.groupby('id')['sales'].shift(shifting+(7*i)).astype(np.float16)"
   ]
  },
  {
   "cell_type": "markdown",
   "metadata": {},
   "source": [
    "<h3>Rolling features </h3>"
   ]
  },
  {
   "cell_type": "code",
   "execution_count": 14,
   "metadata": {},
   "outputs": [
    {
     "name": "stderr",
     "output_type": "stream",
     "text": [
      "100%|████████████████████████████████████████████| 5/5 [11:05<00:00, 133.04s/it]\n"
     ]
    }
   ],
   "source": [
    "#creating constant shift rolling agg features\n",
    "for i in tqdm([7,14,28,35,60]):\n",
    "    sales_melt_df['rolling_mean_'+str(i)] =  sales_melt_df.groupby(['id'])['lag_28'].transform(lambda x: x.rolling(i).mean())\n",
    "    sales_melt_df['rolling_median_'+str(i)] =  sales_melt_df.groupby(['id'])['lag_28'].transform(lambda x: x.rolling(i).median())"
   ]
  },
  {
   "cell_type": "code",
   "execution_count": 15,
   "metadata": {},
   "outputs": [],
   "source": [
    "sales_melt_df.to_pickle(\"sales_melt_df\") #store the dataframe into disk"
   ]
  },
  {
   "cell_type": "code",
   "execution_count": 16,
   "metadata": {},
   "outputs": [],
   "source": [
    "sales_melt_df = pd.read_pickle(\"sales_melt_df\") #load the dataframe from disk"
   ]
  },
  {
   "cell_type": "markdown",
   "metadata": {},
   "source": [
    "<h3>Calender features</h3>"
   ]
  },
  {
   "cell_type": "code",
   "execution_count": 17,
   "metadata": {},
   "outputs": [],
   "source": [
    "#changing dtype of calender features to category\n",
    "cal_cols = ['event_name_1','event_type_1','event_name_2','event_type_2','snap_CA','snap_TX','snap_WI']\n",
    "for col in cal_cols:\n",
    "    sales_melt_df[col] = sales_melt_df[col].astype('category')"
   ]
  },
  {
   "cell_type": "code",
   "execution_count": 18,
   "metadata": {},
   "outputs": [],
   "source": [
    "sales_melt_df['date'] = pd.to_datetime(sales_melt_df['date'])\n",
    "#each day of the month\n",
    "sales_melt_df['day_of_month'] = sales_melt_df['date'].dt.day.astype(np.int8)\n",
    "#changing year value as 0 for 2011 and 1 for 2012 .... 5 for 2016\n",
    "sales_melt_df['year'] = (sales_melt_df['year'] - sales_melt_df['year'].min()).astype(np.int8)\n",
    "#week number of a day in a month ex: 29th in January corresponds to 5th week of January\n",
    "sales_melt_df['week_no_inmonth'] = sales_melt_df['day_of_month'].apply(lambda x: math.ceil(x/7)).astype(np.int8)\n",
    "#checking if the day is weekend or not\n",
    "sales_melt_df['is_weekend'] = (sales_melt_df['wday']<=2).astype(np.int8)"
   ]
  },
  {
   "cell_type": "code",
   "execution_count": 19,
   "metadata": {},
   "outputs": [],
   "source": [
    "sales_melt_df.to_pickle(\"sales_melt_calfadd_df\") #store the final feature engineered dataframe to disk"
   ]
  },
  {
   "cell_type": "markdown",
   "metadata": {},
   "source": [
    "<h3>Evaluation metric - WRMSSE</h3>"
   ]
  },
  {
   "cell_type": "code",
   "execution_count": 20,
   "metadata": {},
   "outputs": [],
   "source": [
    "#https://www.kaggle.com/dhananjay3/wrmsse-evaluator-with-extra-features\n",
    "#here we are transforming the 30490 timeseries into 42840 time-series by grouping based on the 12 level hirearchy\n",
    "def convert_to_42840(df, cols, groupbys):\n",
    "    series_gen = {}\n",
    "    for i, grp in enumerate(groupbys):\n",
    "        #grop by corresponding group and calculating aggregate sales of each day\n",
    "        tmp = df.groupby(grp)[cols].sum()\n",
    "        #storing the aggregate sale values of each corresponding group\n",
    "        for j in range(len(tmp)):\n",
    "            series_gen[gen_series_name(tmp.index[j])] = tmp.iloc[j].values\n",
    "    return pd.DataFrame(series_gen).T #creating a dataframe of each corresponding group and aggregate sales each day i.e., transformed into 42840 sales"
   ]
  },
  {
   "cell_type": "code",
   "execution_count": 21,
   "metadata": {},
   "outputs": [],
   "source": [
    "#this method return the name of each group\n",
    "def gen_series_name(name):\n",
    "    if isinstance(name, str) | isinstance(name, int):\n",
    "        return str(name)\n",
    "    else:\n",
    "        return \"__\".join(name)"
   ]
  },
  {
   "cell_type": "code",
   "execution_count": 22,
   "metadata": {},
   "outputs": [],
   "source": [
    "#here we are computing weights using the last 28 day sales of train data and their prices\n",
    "def compute_weights(train_df,valid_df,weight_cols,groupbys,fix_cols):\n",
    "    weights_map = {}\n",
    "    weight_df = train_df[[\"item_id\", \"store_id\"] + weight_cols]\n",
    "    weight_df = pd.melt(weight_df,id_vars=[\"item_id\", \"store_id\"],var_name='d',value_name='sales')\n",
    "    weight_df = weight_df.merge(calendar_df[['wm_yr_wk','d']], on='d', how='left')\n",
    "    weight_df = weight_df.merge(prices_df, how=\"left\", on=[\"item_id\", \"store_id\", \"wm_yr_wk\"])\n",
    "    #computing dollar sales \n",
    "    weight_df[\"dollar_sales\"] = weight_df[\"sales\"] * weight_df[\"sell_price\"]\n",
    "    weight_df = weight_df.set_index([\"item_id\", \"store_id\", \"d\"]).unstack(level=2)[\"dollar_sales\"]\n",
    "    weight_df = weight_df.loc[zip(train_df.item_id, train_df.store_id), :].reset_index(drop=True)\n",
    "    weight_df = pd.concat([train_df[fix_cols], weight_df],\n",
    "                          axis=1, sort=False)\n",
    "    #computing the weights for each group keys\n",
    "    for i,grp in enumerate(groupbys):\n",
    "        ser_weight = weight_df.groupby(grp)[weight_cols].sum().sum(axis=1)\n",
    "        ser_weight = ser_weight / ser_weight.sum()\n",
    "        for j in range(len(ser_weight)):\n",
    "            weights_map[gen_series_name(ser_weight.index[j])] = np.array([ser_weight.iloc[j]])\n",
    "    weights = pd.DataFrame(weights_map).T / len(groupbys) #creating a dataframe with weights corresponding to each group keys of 42840 hierachical time-series\n",
    "    return weights"
   ]
  },
  {
   "cell_type": "code",
   "execution_count": 170,
   "metadata": {},
   "outputs": [],
   "source": [
    "#here we compute the rmsse using the true values and predicted values along with train data which is being used to scale\n",
    "#train data is used to scale the squared-error as taking the consecutive difference of each day sales\n",
    "def compute_rmsse(train_df, valid_df, pred_df):\n",
    "    scale_lst = []\n",
    "    for i in range(len(train_df)):\n",
    "        val = train_df.iloc[i].values\n",
    "        # to consider the periods following the first non-zero demand observed for the series under evaluation.\n",
    "        val = val[np.argmax(val!=0):]\n",
    "        #to scale the squared-error as taking the consecutive difference of each day sales\n",
    "        scale = ((val[1:] - val[:-1]) ** 2).mean()\n",
    "        #storing the scale value corresponding to each time series\n",
    "        scale_lst.append(scale)\n",
    "    scale_arr = np.array(scale_lst)\n",
    "    #computing mean squared error\n",
    "    num = ((pred_df - valid_df)**2).mean(axis=1)\n",
    "    #scaled error i.e., root mean squared scaled error\n",
    "    rmsse = (num/scale_arr).map(np.sqrt)\n",
    "    return rmsse"
   ]
  },
  {
   "cell_type": "code",
   "execution_count": 24,
   "metadata": {},
   "outputs": [],
   "source": [
    "#here we return the final score value i.e., WRMSSE\n",
    "def custom_metric(train_df, valid_df, pred_df, weights):\n",
    "    #obtaing RMSSE by calling compute_rmsse function\n",
    "    rmsse = compute_rmsse(train_df, valid_df, pred_df)\n",
    "    #WRMSSE of each 42840 time-series is computed as product of corresponding weights and RMSSE respectively\n",
    "    ser_metric = pd.concat([weights, rmsse], axis=1, sort=False).prod(axis=1)\n",
    "    return np.sum(ser_metric) #aggregation of each WRMSSE of 42840 time-series to get the final WRMSSE score"
   ]
  },
  {
   "cell_type": "markdown",
   "metadata": {},
   "source": [
    "<h2>Models</h2>"
   ]
  },
  {
   "cell_type": "markdown",
   "metadata": {},
   "source": [
    "<h3>Forecast sales as mean sales on that weekday for the past 4 weeks </h3>"
   ]
  },
  {
   "cell_type": "code",
   "execution_count": 25,
   "metadata": {},
   "outputs": [],
   "source": [
    "sales_eval_df = pd.read_csv('sales_train_evaluation.csv')"
   ]
  },
  {
   "cell_type": "code",
   "execution_count": 26,
   "metadata": {},
   "outputs": [
    {
     "data": {
      "text/html": [
       "<div>\n",
       "<style scoped>\n",
       "    .dataframe tbody tr th:only-of-type {\n",
       "        vertical-align: middle;\n",
       "    }\n",
       "\n",
       "    .dataframe tbody tr th {\n",
       "        vertical-align: top;\n",
       "    }\n",
       "\n",
       "    .dataframe thead th {\n",
       "        text-align: right;\n",
       "    }\n",
       "</style>\n",
       "<table border=\"1\" class=\"dataframe\">\n",
       "  <thead>\n",
       "    <tr style=\"text-align: right;\">\n",
       "      <th></th>\n",
       "      <th>id</th>\n",
       "      <th>item_id</th>\n",
       "      <th>dept_id</th>\n",
       "      <th>cat_id</th>\n",
       "      <th>store_id</th>\n",
       "      <th>state_id</th>\n",
       "      <th>d_1</th>\n",
       "      <th>d_2</th>\n",
       "      <th>d_3</th>\n",
       "      <th>d_4</th>\n",
       "      <th>...</th>\n",
       "      <th>d_1932</th>\n",
       "      <th>d_1933</th>\n",
       "      <th>d_1934</th>\n",
       "      <th>d_1935</th>\n",
       "      <th>d_1936</th>\n",
       "      <th>d_1937</th>\n",
       "      <th>d_1938</th>\n",
       "      <th>d_1939</th>\n",
       "      <th>d_1940</th>\n",
       "      <th>d_1941</th>\n",
       "    </tr>\n",
       "  </thead>\n",
       "  <tbody>\n",
       "    <tr>\n",
       "      <th>0</th>\n",
       "      <td>HOBBIES_1_001_CA_1_evaluation</td>\n",
       "      <td>HOBBIES_1_001</td>\n",
       "      <td>HOBBIES_1</td>\n",
       "      <td>HOBBIES</td>\n",
       "      <td>CA_1</td>\n",
       "      <td>CA</td>\n",
       "      <td>0</td>\n",
       "      <td>0</td>\n",
       "      <td>0</td>\n",
       "      <td>0</td>\n",
       "      <td>...</td>\n",
       "      <td>2</td>\n",
       "      <td>4</td>\n",
       "      <td>0</td>\n",
       "      <td>0</td>\n",
       "      <td>0</td>\n",
       "      <td>0</td>\n",
       "      <td>3</td>\n",
       "      <td>3</td>\n",
       "      <td>0</td>\n",
       "      <td>1</td>\n",
       "    </tr>\n",
       "    <tr>\n",
       "      <th>1</th>\n",
       "      <td>HOBBIES_1_002_CA_1_evaluation</td>\n",
       "      <td>HOBBIES_1_002</td>\n",
       "      <td>HOBBIES_1</td>\n",
       "      <td>HOBBIES</td>\n",
       "      <td>CA_1</td>\n",
       "      <td>CA</td>\n",
       "      <td>0</td>\n",
       "      <td>0</td>\n",
       "      <td>0</td>\n",
       "      <td>0</td>\n",
       "      <td>...</td>\n",
       "      <td>0</td>\n",
       "      <td>1</td>\n",
       "      <td>2</td>\n",
       "      <td>1</td>\n",
       "      <td>1</td>\n",
       "      <td>0</td>\n",
       "      <td>0</td>\n",
       "      <td>0</td>\n",
       "      <td>0</td>\n",
       "      <td>0</td>\n",
       "    </tr>\n",
       "  </tbody>\n",
       "</table>\n",
       "<p>2 rows × 1947 columns</p>\n",
       "</div>"
      ],
      "text/plain": [
       "                              id        item_id    dept_id   cat_id store_id  \\\n",
       "0  HOBBIES_1_001_CA_1_evaluation  HOBBIES_1_001  HOBBIES_1  HOBBIES     CA_1   \n",
       "1  HOBBIES_1_002_CA_1_evaluation  HOBBIES_1_002  HOBBIES_1  HOBBIES     CA_1   \n",
       "\n",
       "  state_id  d_1  d_2  d_3  d_4  ...  d_1932  d_1933  d_1934  d_1935  d_1936  \\\n",
       "0       CA    0    0    0    0  ...       2       4       0       0       0   \n",
       "1       CA    0    0    0    0  ...       0       1       2       1       1   \n",
       "\n",
       "   d_1937  d_1938  d_1939  d_1940  d_1941  \n",
       "0       0       3       3       0       1  \n",
       "1       0       0       0       0       0  \n",
       "\n",
       "[2 rows x 1947 columns]"
      ]
     },
     "execution_count": 26,
     "metadata": {},
     "output_type": "execute_result"
    }
   ],
   "source": [
    "sales_eval_df.head(2)"
   ]
  },
  {
   "cell_type": "code",
   "execution_count": 27,
   "metadata": {},
   "outputs": [],
   "source": [
    "groupbys = ('for_all', 'state_id', 'store_id', 'cat_id', 'dept_id',['state_id', 'cat_id'],  \n",
    "            ['state_id', 'dept_id'], ['store_id', 'cat_id'],['store_id', 'dept_id'], 'item_id', \n",
    "            ['item_id', 'state_id'], ['item_id', 'store_id'])\n",
    "train_df = sales_eval_df.iloc[:,:-28]\n",
    "valid_df = sales_eval_df.iloc[:,-28:].copy()\n",
    "train_d_cols = [col for col in train_df.columns if col.startswith('d_')]\n",
    "weight_cols = train_df.iloc[:,-28:].columns.tolist()\n",
    "train_df['for_all'] = \"all\" #for level 1 aggregation\n",
    "fixed_cols = [col for col in train_df.columns if not col.startswith('d_')]\n",
    "valid_d_cols = [col for col in valid_df.columns if col.startswith('d_')]\n",
    "if not all([col in valid_df.columns for col in fixed_cols]):\n",
    "    valid_df = pd.concat([train_df[fixed_cols],valid_df],axis=1,sort=False)\n",
    "weight_df = compute_weights(train_df,valid_df,weight_cols,groupbys,fixed_cols)"
   ]
  },
  {
   "cell_type": "code",
   "execution_count": 28,
   "metadata": {},
   "outputs": [],
   "source": [
    "non_d_cols = ['id','item_id','dept_id','cat_id','store_id','state_id','for_all']\n",
    "d_cols = [col for col in train_df.columns if col.startswith('d_')]"
   ]
  },
  {
   "cell_type": "code",
   "execution_count": 29,
   "metadata": {},
   "outputs": [
    {
     "name": "stderr",
     "output_type": "stream",
     "text": [
      "100%|████████████████████████████████████| 30490/30490 [02:22<00:00, 214.03it/s]\n"
     ]
    }
   ],
   "source": [
    "pred_ser = []\n",
    "last_28_days = d_cols[-28:]\n",
    "for i in tqdm(range(len(train_df))):\n",
    "    tmp_df = train_df.iloc[[i]]\n",
    "    tmp_df = tmp_df.loc[:,last_28_days].T.reset_index().rename(columns={i:'sales'})\n",
    "    avg_dict = {}\n",
    "    pred_lst = []\n",
    "    for j in range(7):\n",
    "        tmp_lst = []\n",
    "        for n in range(0+j,28,7):\n",
    "            tmp_lst.append(n)\n",
    "        avg_dict[j] = tmp_df.iloc[tmp_lst]['sales'].mean()\n",
    "    for p in range(1914,1942):\n",
    "        pred_lst.append(avg_dict[(p-1914)%7])\n",
    "    pred_ser.append(pred_lst)"
   ]
  },
  {
   "cell_type": "code",
   "execution_count": 30,
   "metadata": {},
   "outputs": [],
   "source": [
    "train_42840_df = convert_to_42840(train_df, train_d_cols, groupbys)\n",
    "valid_42840_df = convert_to_42840(valid_df, valid_d_cols, groupbys)\n",
    "predictions = np.asarray(pred_ser)\n",
    "if isinstance(predictions, np.ndarray):\n",
    "    predictions = pd.DataFrame(predictions, columns=valid_d_cols)\n",
    "predictions = pd.concat([valid_df[fixed_cols], predictions],axis=1,sort=False)\n",
    "pred_42840_df = convert_to_42840(predictions,valid_d_cols,groupbys)"
   ]
  },
  {
   "cell_type": "code",
   "execution_count": 31,
   "metadata": {},
   "outputs": [],
   "source": [
    "WRMSSE = custom_metric(train_42840_df,valid_42840_df,pred_42840_df,weight_df)"
   ]
  },
  {
   "cell_type": "code",
   "execution_count": 32,
   "metadata": {},
   "outputs": [
    {
     "name": "stdout",
     "output_type": "stream",
     "text": [
      "WRMSSE of the model forecasted sales, as the mean sales for the past 4 weeks of that dayofweek  0.7524201372210837\n"
     ]
    }
   ],
   "source": [
    "print(\"WRMSSE of the model forecasted sales, as the mean sales for the past 4 weeks of that dayofweek \",WRMSSE)"
   ]
  },
  {
   "cell_type": "code",
   "execution_count": 33,
   "metadata": {},
   "outputs": [],
   "source": [
    "predictions.to_csv('predictions.csv',index=False)"
   ]
  },
  {
   "cell_type": "code",
   "execution_count": 34,
   "metadata": {},
   "outputs": [
    {
     "data": {
      "text/html": [
       "<div>\n",
       "<style scoped>\n",
       "    .dataframe tbody tr th:only-of-type {\n",
       "        vertical-align: middle;\n",
       "    }\n",
       "\n",
       "    .dataframe tbody tr th {\n",
       "        vertical-align: top;\n",
       "    }\n",
       "\n",
       "    .dataframe thead th {\n",
       "        text-align: right;\n",
       "    }\n",
       "</style>\n",
       "<table border=\"1\" class=\"dataframe\">\n",
       "  <thead>\n",
       "    <tr style=\"text-align: right;\">\n",
       "      <th></th>\n",
       "      <th>id</th>\n",
       "      <th>item_id</th>\n",
       "      <th>dept_id</th>\n",
       "      <th>cat_id</th>\n",
       "      <th>store_id</th>\n",
       "      <th>state_id</th>\n",
       "      <th>for_all</th>\n",
       "      <th>d_1914</th>\n",
       "      <th>d_1915</th>\n",
       "      <th>d_1916</th>\n",
       "      <th>...</th>\n",
       "      <th>d_1932</th>\n",
       "      <th>d_1933</th>\n",
       "      <th>d_1934</th>\n",
       "      <th>d_1935</th>\n",
       "      <th>d_1936</th>\n",
       "      <th>d_1937</th>\n",
       "      <th>d_1938</th>\n",
       "      <th>d_1939</th>\n",
       "      <th>d_1940</th>\n",
       "      <th>d_1941</th>\n",
       "    </tr>\n",
       "  </thead>\n",
       "  <tbody>\n",
       "    <tr>\n",
       "      <th>0</th>\n",
       "      <td>HOBBIES_1_001_CA_1_evaluation</td>\n",
       "      <td>HOBBIES_1_001</td>\n",
       "      <td>HOBBIES_1</td>\n",
       "      <td>HOBBIES</td>\n",
       "      <td>CA_1</td>\n",
       "      <td>CA</td>\n",
       "      <td>all</td>\n",
       "      <td>0.50</td>\n",
       "      <td>1.25</td>\n",
       "      <td>0.75</td>\n",
       "      <td>...</td>\n",
       "      <td>0.25</td>\n",
       "      <td>1.25</td>\n",
       "      <td>1.00</td>\n",
       "      <td>0.50</td>\n",
       "      <td>1.25</td>\n",
       "      <td>0.75</td>\n",
       "      <td>1.75</td>\n",
       "      <td>0.25</td>\n",
       "      <td>1.25</td>\n",
       "      <td>1.00</td>\n",
       "    </tr>\n",
       "    <tr>\n",
       "      <th>1</th>\n",
       "      <td>HOBBIES_1_002_CA_1_evaluation</td>\n",
       "      <td>HOBBIES_1_002</td>\n",
       "      <td>HOBBIES_1</td>\n",
       "      <td>HOBBIES</td>\n",
       "      <td>CA_1</td>\n",
       "      <td>CA</td>\n",
       "      <td>all</td>\n",
       "      <td>0.25</td>\n",
       "      <td>0.00</td>\n",
       "      <td>0.25</td>\n",
       "      <td>...</td>\n",
       "      <td>0.00</td>\n",
       "      <td>0.00</td>\n",
       "      <td>0.00</td>\n",
       "      <td>0.25</td>\n",
       "      <td>0.00</td>\n",
       "      <td>0.25</td>\n",
       "      <td>0.00</td>\n",
       "      <td>0.00</td>\n",
       "      <td>0.00</td>\n",
       "      <td>0.00</td>\n",
       "    </tr>\n",
       "  </tbody>\n",
       "</table>\n",
       "<p>2 rows × 35 columns</p>\n",
       "</div>"
      ],
      "text/plain": [
       "                              id        item_id    dept_id   cat_id store_id  \\\n",
       "0  HOBBIES_1_001_CA_1_evaluation  HOBBIES_1_001  HOBBIES_1  HOBBIES     CA_1   \n",
       "1  HOBBIES_1_002_CA_1_evaluation  HOBBIES_1_002  HOBBIES_1  HOBBIES     CA_1   \n",
       "\n",
       "  state_id for_all  d_1914  d_1915  d_1916  ...  d_1932  d_1933  d_1934  \\\n",
       "0       CA     all    0.50    1.25    0.75  ...    0.25    1.25    1.00   \n",
       "1       CA     all    0.25    0.00    0.25  ...    0.00    0.00    0.00   \n",
       "\n",
       "   d_1935  d_1936  d_1937  d_1938  d_1939  d_1940  d_1941  \n",
       "0    0.50    1.25    0.75    1.75    0.25    1.25    1.00  \n",
       "1    0.25    0.00    0.25    0.00    0.00    0.00    0.00  \n",
       "\n",
       "[2 rows x 35 columns]"
      ]
     },
     "execution_count": 34,
     "metadata": {},
     "output_type": "execute_result"
    }
   ],
   "source": [
    "#forecasted sales from from day 1914 till 1941\n",
    "predictions = pd.read_csv('predictions.csv')\n",
    "predictions.head(2)"
   ]
  },
  {
   "cell_type": "code",
   "execution_count": 35,
   "metadata": {},
   "outputs": [],
   "source": [
    "submit_val = predictions[['id']]\n",
    "for i in range(28):\n",
    "    submit_val['F'+str(i+1)] = predictions['d_'+str(1914+i)]\n",
    "submit_val['id'] =  submit_val['id'].apply(lambda x: x.replace('evaluation','validation'))\n",
    "submit_eval = submit_val.copy()\n",
    "submit_eval[\"id\"] = submit_eval[\"id\"].apply(lambda x: x.replace('validation','evaluation'))\n",
    "naive_predictions = submit_val.append(submit_eval).reset_index(drop=True)"
   ]
  },
  {
   "cell_type": "code",
   "execution_count": 36,
   "metadata": {},
   "outputs": [],
   "source": [
    "naive_predictions.to_csv(\"naive_predictions.csv\", index=False)"
   ]
  },
  {
   "cell_type": "markdown",
   "metadata": {},
   "source": [
    "<h3>Moving average model</h3>"
   ]
  },
  {
   "cell_type": "code",
   "execution_count": 37,
   "metadata": {},
   "outputs": [],
   "source": [
    "def moving_average(df,alpha):\n",
    "    ma_predictions = []\n",
    "    n = -alpha\n",
    "    f_days = 28\n",
    "    for j in tqdm(range(len(df))):\n",
    "        tmp_df = df.iloc[[j]]\n",
    "        pred_lst = []\n",
    "        for i in range(f_days):\n",
    "            win = n+i\n",
    "            if n == win:\n",
    "                pred_lst.append(tmp_df.iloc[:,win:].T.mean().values)\n",
    "            if win > n:\n",
    "                pred_lst.append(np.mean(np.concatenate((tmp_df.iloc[:,win:].T.values,np.asarray(pred_lst[:i]).reshape(-1,1)),axis=0)).astype(np.float64))\n",
    "        pred_lst = [float(i) for i in pred_lst]\n",
    "        ma_predictions.append(pred_lst)\n",
    "    return np.asarray(ma_predictions).reshape(30490,28)"
   ]
  },
  {
   "cell_type": "code",
   "execution_count": 38,
   "metadata": {},
   "outputs": [],
   "source": [
    "train_df = train_df[non_d_cols+d_cols]"
   ]
  },
  {
   "cell_type": "markdown",
   "metadata": {},
   "source": [
    "<h3>Hyper parameter tuning </h3>"
   ]
  },
  {
   "cell_type": "code",
   "execution_count": 39,
   "metadata": {},
   "outputs": [
    {
     "name": "stderr",
     "output_type": "stream",
     "text": [
      "100%|█████████████████████████████████████| 30490/30490 [06:52<00:00, 73.88it/s]\n",
      "100%|█████████████████████████████████████| 30490/30490 [06:32<00:00, 77.72it/s]\n",
      "100%|█████████████████████████████████████| 30490/30490 [05:57<00:00, 85.28it/s]\n",
      "100%|█████████████████████████████████████| 30490/30490 [05:59<00:00, 84.90it/s]\n",
      "100%|█████████████████████████████████████| 30490/30490 [06:00<00:00, 84.51it/s]\n"
     ]
    }
   ],
   "source": [
    "hyper_params = [28,35,42,49,56]\n",
    "WRMSSE_MA = {}\n",
    "train_42840_df = convert_to_42840(train_df, train_d_cols, groupbys)\n",
    "valid_42840_df = convert_to_42840(valid_df, valid_d_cols, groupbys)\n",
    "for alpha in hyper_params:\n",
    "    ma_predictions = moving_average(train_df,alpha)\n",
    "    if isinstance(ma_predictions, np.ndarray):\n",
    "        ma_predictions = pd.DataFrame(ma_predictions, columns=valid_d_cols)\n",
    "    ma_predictions = pd.concat([valid_df[fixed_cols], ma_predictions],axis=1,sort=False)\n",
    "    ma_predictions.to_csv('ma_predictions_'+str(alpha)+'.csv',index=False)\n",
    "    pred_42840_df = convert_to_42840(ma_predictions,valid_d_cols,groupbys)\n",
    "    WRMSSE = custom_metric(train_42840_df,valid_42840_df,pred_42840_df,weight_df)\n",
    "    WRMSSE_MA[alpha] = WRMSSE"
   ]
  },
  {
   "cell_type": "code",
   "execution_count": 40,
   "metadata": {},
   "outputs": [
    {
     "name": "stdout",
     "output_type": "stream",
     "text": [
      "The best hyper parameter of Moving average model with lower WRMSEE is:  (35, 1.0566999614858126)\n"
     ]
    }
   ],
   "source": [
    "best_WRMSSE_ma = min(WRMSSE_MA.items(), key=lambda x: x[1])\n",
    "print('The best hyper parameter of Moving average model with lower WRMSEE is: ', best_WRMSSE_ma) "
   ]
  },
  {
   "cell_type": "code",
   "execution_count": 41,
   "metadata": {},
   "outputs": [
    {
     "data": {
      "text/html": [
       "<div>\n",
       "<style scoped>\n",
       "    .dataframe tbody tr th:only-of-type {\n",
       "        vertical-align: middle;\n",
       "    }\n",
       "\n",
       "    .dataframe tbody tr th {\n",
       "        vertical-align: top;\n",
       "    }\n",
       "\n",
       "    .dataframe thead th {\n",
       "        text-align: right;\n",
       "    }\n",
       "</style>\n",
       "<table border=\"1\" class=\"dataframe\">\n",
       "  <thead>\n",
       "    <tr style=\"text-align: right;\">\n",
       "      <th></th>\n",
       "      <th>id</th>\n",
       "      <th>item_id</th>\n",
       "      <th>dept_id</th>\n",
       "      <th>cat_id</th>\n",
       "      <th>store_id</th>\n",
       "      <th>state_id</th>\n",
       "      <th>for_all</th>\n",
       "      <th>d_1914</th>\n",
       "      <th>d_1915</th>\n",
       "      <th>d_1916</th>\n",
       "      <th>...</th>\n",
       "      <th>d_1932</th>\n",
       "      <th>d_1933</th>\n",
       "      <th>d_1934</th>\n",
       "      <th>d_1935</th>\n",
       "      <th>d_1936</th>\n",
       "      <th>d_1937</th>\n",
       "      <th>d_1938</th>\n",
       "      <th>d_1939</th>\n",
       "      <th>d_1940</th>\n",
       "      <th>d_1941</th>\n",
       "    </tr>\n",
       "  </thead>\n",
       "  <tbody>\n",
       "    <tr>\n",
       "      <th>0</th>\n",
       "      <td>HOBBIES_1_001_CA_1_evaluation</td>\n",
       "      <td>HOBBIES_1_001</td>\n",
       "      <td>HOBBIES_1</td>\n",
       "      <td>HOBBIES</td>\n",
       "      <td>CA_1</td>\n",
       "      <td>CA</td>\n",
       "      <td>all</td>\n",
       "      <td>1.00</td>\n",
       "      <td>1.00</td>\n",
       "      <td>0.97</td>\n",
       "      <td>...</td>\n",
       "      <td>0.98</td>\n",
       "      <td>1.01</td>\n",
       "      <td>1.01</td>\n",
       "      <td>0.98</td>\n",
       "      <td>1.01</td>\n",
       "      <td>1.04</td>\n",
       "      <td>1.07</td>\n",
       "      <td>1.07</td>\n",
       "      <td>1.07</td>\n",
       "      <td>1.02</td>\n",
       "    </tr>\n",
       "    <tr>\n",
       "      <th>1</th>\n",
       "      <td>HOBBIES_1_002_CA_1_evaluation</td>\n",
       "      <td>HOBBIES_1_002</td>\n",
       "      <td>HOBBIES_1</td>\n",
       "      <td>HOBBIES</td>\n",
       "      <td>CA_1</td>\n",
       "      <td>CA</td>\n",
       "      <td>all</td>\n",
       "      <td>0.17</td>\n",
       "      <td>0.18</td>\n",
       "      <td>0.18</td>\n",
       "      <td>...</td>\n",
       "      <td>0.08</td>\n",
       "      <td>0.09</td>\n",
       "      <td>0.09</td>\n",
       "      <td>0.09</td>\n",
       "      <td>0.09</td>\n",
       "      <td>0.10</td>\n",
       "      <td>0.10</td>\n",
       "      <td>0.10</td>\n",
       "      <td>0.11</td>\n",
       "      <td>0.11</td>\n",
       "    </tr>\n",
       "    <tr>\n",
       "      <th>2</th>\n",
       "      <td>HOBBIES_1_003_CA_1_evaluation</td>\n",
       "      <td>HOBBIES_1_003</td>\n",
       "      <td>HOBBIES_1</td>\n",
       "      <td>HOBBIES</td>\n",
       "      <td>CA_1</td>\n",
       "      <td>CA</td>\n",
       "      <td>all</td>\n",
       "      <td>0.51</td>\n",
       "      <td>0.53</td>\n",
       "      <td>0.54</td>\n",
       "      <td>...</td>\n",
       "      <td>0.71</td>\n",
       "      <td>0.73</td>\n",
       "      <td>0.75</td>\n",
       "      <td>0.77</td>\n",
       "      <td>0.80</td>\n",
       "      <td>0.82</td>\n",
       "      <td>0.81</td>\n",
       "      <td>0.78</td>\n",
       "      <td>0.75</td>\n",
       "      <td>0.74</td>\n",
       "    </tr>\n",
       "    <tr>\n",
       "      <th>3</th>\n",
       "      <td>HOBBIES_1_004_CA_1_evaluation</td>\n",
       "      <td>HOBBIES_1_004</td>\n",
       "      <td>HOBBIES_1</td>\n",
       "      <td>HOBBIES</td>\n",
       "      <td>CA_1</td>\n",
       "      <td>CA</td>\n",
       "      <td>all</td>\n",
       "      <td>2.17</td>\n",
       "      <td>2.12</td>\n",
       "      <td>2.15</td>\n",
       "      <td>...</td>\n",
       "      <td>2.21</td>\n",
       "      <td>2.22</td>\n",
       "      <td>2.14</td>\n",
       "      <td>2.08</td>\n",
       "      <td>2.09</td>\n",
       "      <td>2.15</td>\n",
       "      <td>2.12</td>\n",
       "      <td>2.18</td>\n",
       "      <td>2.21</td>\n",
       "      <td>2.28</td>\n",
       "    </tr>\n",
       "    <tr>\n",
       "      <th>4</th>\n",
       "      <td>HOBBIES_1_005_CA_1_evaluation</td>\n",
       "      <td>HOBBIES_1_005</td>\n",
       "      <td>HOBBIES_1</td>\n",
       "      <td>HOBBIES</td>\n",
       "      <td>CA_1</td>\n",
       "      <td>CA</td>\n",
       "      <td>all</td>\n",
       "      <td>1.26</td>\n",
       "      <td>1.24</td>\n",
       "      <td>1.19</td>\n",
       "      <td>...</td>\n",
       "      <td>1.28</td>\n",
       "      <td>1.31</td>\n",
       "      <td>1.32</td>\n",
       "      <td>1.33</td>\n",
       "      <td>1.31</td>\n",
       "      <td>1.35</td>\n",
       "      <td>1.36</td>\n",
       "      <td>1.37</td>\n",
       "      <td>1.35</td>\n",
       "      <td>1.36</td>\n",
       "    </tr>\n",
       "  </tbody>\n",
       "</table>\n",
       "<p>5 rows × 35 columns</p>\n",
       "</div>"
      ],
      "text/plain": [
       "                              id        item_id    dept_id   cat_id store_id  \\\n",
       "0  HOBBIES_1_001_CA_1_evaluation  HOBBIES_1_001  HOBBIES_1  HOBBIES     CA_1   \n",
       "1  HOBBIES_1_002_CA_1_evaluation  HOBBIES_1_002  HOBBIES_1  HOBBIES     CA_1   \n",
       "2  HOBBIES_1_003_CA_1_evaluation  HOBBIES_1_003  HOBBIES_1  HOBBIES     CA_1   \n",
       "3  HOBBIES_1_004_CA_1_evaluation  HOBBIES_1_004  HOBBIES_1  HOBBIES     CA_1   \n",
       "4  HOBBIES_1_005_CA_1_evaluation  HOBBIES_1_005  HOBBIES_1  HOBBIES     CA_1   \n",
       "\n",
       "  state_id for_all  d_1914  d_1915  d_1916  ...  d_1932  d_1933  d_1934  \\\n",
       "0       CA     all    1.00    1.00    0.97  ...    0.98    1.01    1.01   \n",
       "1       CA     all    0.17    0.18    0.18  ...    0.08    0.09    0.09   \n",
       "2       CA     all    0.51    0.53    0.54  ...    0.71    0.73    0.75   \n",
       "3       CA     all    2.17    2.12    2.15  ...    2.21    2.22    2.14   \n",
       "4       CA     all    1.26    1.24    1.19  ...    1.28    1.31    1.32   \n",
       "\n",
       "   d_1935  d_1936  d_1937  d_1938  d_1939  d_1940  d_1941  \n",
       "0    0.98    1.01    1.04    1.07    1.07    1.07    1.02  \n",
       "1    0.09    0.09    0.10    0.10    0.10    0.11    0.11  \n",
       "2    0.77    0.80    0.82    0.81    0.78    0.75    0.74  \n",
       "3    2.08    2.09    2.15    2.12    2.18    2.21    2.28  \n",
       "4    1.33    1.31    1.35    1.36    1.37    1.35    1.36  \n",
       "\n",
       "[5 rows x 35 columns]"
      ]
     },
     "execution_count": 41,
     "metadata": {},
     "output_type": "execute_result"
    }
   ],
   "source": [
    "best_alpha = best_WRMSSE_ma[0]\n",
    "ma_predictions_best = pd.read_csv('ma_predictions_'+str(best_alpha)+'.csv')\n",
    "ma_predictions_best.head()"
   ]
  },
  {
   "cell_type": "code",
   "execution_count": 42,
   "metadata": {},
   "outputs": [],
   "source": [
    "submit_val = ma_predictions_best[['id']]\n",
    "for i in range(28):\n",
    "    submit_val['F'+str(i+1)] = ma_predictions_best['d_'+str(1914+i)]\n",
    "submit_val['id'] =  submit_val['id'].apply(lambda x: x.replace('evaluation','validation'))\n",
    "submit_eval = submit_val.copy()\n",
    "submit_eval[\"id\"] = submit_eval[\"id\"].apply(lambda x: x.replace('validation','evaluation'))\n",
    "moving_average_predictions = submit_val.append(submit_eval).reset_index(drop=True)"
   ]
  },
  {
   "cell_type": "code",
   "execution_count": 43,
   "metadata": {},
   "outputs": [],
   "source": [
    "moving_average_predictions.to_csv(\"moving_average_predictions.csv\", index=False)"
   ]
  },
  {
   "cell_type": "markdown",
   "metadata": {},
   "source": [
    "<h2>ML Models </h2>\n",
    "<h3>Random Forest</h3>"
   ]
  },
  {
   "cell_type": "code",
   "execution_count": 44,
   "metadata": {},
   "outputs": [],
   "source": [
    "sales_melt_df = pd.read_pickle(\"sales_melt_calfadd_df\")"
   ]
  },
  {
   "cell_type": "code",
   "execution_count": 45,
   "metadata": {},
   "outputs": [
    {
     "data": {
      "text/html": [
       "<div>\n",
       "<style scoped>\n",
       "    .dataframe tbody tr th:only-of-type {\n",
       "        vertical-align: middle;\n",
       "    }\n",
       "\n",
       "    .dataframe tbody tr th {\n",
       "        vertical-align: top;\n",
       "    }\n",
       "\n",
       "    .dataframe thead th {\n",
       "        text-align: right;\n",
       "    }\n",
       "</style>\n",
       "<table border=\"1\" class=\"dataframe\">\n",
       "  <thead>\n",
       "    <tr style=\"text-align: right;\">\n",
       "      <th></th>\n",
       "      <th>id</th>\n",
       "      <th>item_id</th>\n",
       "      <th>dept_id</th>\n",
       "      <th>cat_id</th>\n",
       "      <th>store_id</th>\n",
       "      <th>state_id</th>\n",
       "      <th>d</th>\n",
       "      <th>sales</th>\n",
       "      <th>date</th>\n",
       "      <th>wm_yr_wk</th>\n",
       "      <th>...</th>\n",
       "      <th>rolling_median_14</th>\n",
       "      <th>rolling_mean_28</th>\n",
       "      <th>rolling_median_28</th>\n",
       "      <th>rolling_mean_35</th>\n",
       "      <th>rolling_median_35</th>\n",
       "      <th>rolling_mean_60</th>\n",
       "      <th>rolling_median_60</th>\n",
       "      <th>day_of_month</th>\n",
       "      <th>week_no_inmonth</th>\n",
       "      <th>is_weekend</th>\n",
       "    </tr>\n",
       "  </thead>\n",
       "  <tbody>\n",
       "    <tr>\n",
       "      <th>0</th>\n",
       "      <td>HOBBIES_1_001_CA_1_validation</td>\n",
       "      <td>HOBBIES_1_001</td>\n",
       "      <td>HOBBIES_1</td>\n",
       "      <td>HOBBIES</td>\n",
       "      <td>CA_1</td>\n",
       "      <td>CA</td>\n",
       "      <td>d_1</td>\n",
       "      <td>0.00</td>\n",
       "      <td>2011-01-29</td>\n",
       "      <td>11101</td>\n",
       "      <td>...</td>\n",
       "      <td>NaN</td>\n",
       "      <td>NaN</td>\n",
       "      <td>NaN</td>\n",
       "      <td>NaN</td>\n",
       "      <td>NaN</td>\n",
       "      <td>NaN</td>\n",
       "      <td>NaN</td>\n",
       "      <td>29</td>\n",
       "      <td>5</td>\n",
       "      <td>1</td>\n",
       "    </tr>\n",
       "    <tr>\n",
       "      <th>1</th>\n",
       "      <td>HOBBIES_1_002_CA_1_validation</td>\n",
       "      <td>HOBBIES_1_002</td>\n",
       "      <td>HOBBIES_1</td>\n",
       "      <td>HOBBIES</td>\n",
       "      <td>CA_1</td>\n",
       "      <td>CA</td>\n",
       "      <td>d_1</td>\n",
       "      <td>0.00</td>\n",
       "      <td>2011-01-29</td>\n",
       "      <td>11101</td>\n",
       "      <td>...</td>\n",
       "      <td>NaN</td>\n",
       "      <td>NaN</td>\n",
       "      <td>NaN</td>\n",
       "      <td>NaN</td>\n",
       "      <td>NaN</td>\n",
       "      <td>NaN</td>\n",
       "      <td>NaN</td>\n",
       "      <td>29</td>\n",
       "      <td>5</td>\n",
       "      <td>1</td>\n",
       "    </tr>\n",
       "    <tr>\n",
       "      <th>2</th>\n",
       "      <td>HOBBIES_1_003_CA_1_validation</td>\n",
       "      <td>HOBBIES_1_003</td>\n",
       "      <td>HOBBIES_1</td>\n",
       "      <td>HOBBIES</td>\n",
       "      <td>CA_1</td>\n",
       "      <td>CA</td>\n",
       "      <td>d_1</td>\n",
       "      <td>0.00</td>\n",
       "      <td>2011-01-29</td>\n",
       "      <td>11101</td>\n",
       "      <td>...</td>\n",
       "      <td>NaN</td>\n",
       "      <td>NaN</td>\n",
       "      <td>NaN</td>\n",
       "      <td>NaN</td>\n",
       "      <td>NaN</td>\n",
       "      <td>NaN</td>\n",
       "      <td>NaN</td>\n",
       "      <td>29</td>\n",
       "      <td>5</td>\n",
       "      <td>1</td>\n",
       "    </tr>\n",
       "    <tr>\n",
       "      <th>3</th>\n",
       "      <td>HOBBIES_1_004_CA_1_validation</td>\n",
       "      <td>HOBBIES_1_004</td>\n",
       "      <td>HOBBIES_1</td>\n",
       "      <td>HOBBIES</td>\n",
       "      <td>CA_1</td>\n",
       "      <td>CA</td>\n",
       "      <td>d_1</td>\n",
       "      <td>0.00</td>\n",
       "      <td>2011-01-29</td>\n",
       "      <td>11101</td>\n",
       "      <td>...</td>\n",
       "      <td>NaN</td>\n",
       "      <td>NaN</td>\n",
       "      <td>NaN</td>\n",
       "      <td>NaN</td>\n",
       "      <td>NaN</td>\n",
       "      <td>NaN</td>\n",
       "      <td>NaN</td>\n",
       "      <td>29</td>\n",
       "      <td>5</td>\n",
       "      <td>1</td>\n",
       "    </tr>\n",
       "    <tr>\n",
       "      <th>4</th>\n",
       "      <td>HOBBIES_1_005_CA_1_validation</td>\n",
       "      <td>HOBBIES_1_005</td>\n",
       "      <td>HOBBIES_1</td>\n",
       "      <td>HOBBIES</td>\n",
       "      <td>CA_1</td>\n",
       "      <td>CA</td>\n",
       "      <td>d_1</td>\n",
       "      <td>0.00</td>\n",
       "      <td>2011-01-29</td>\n",
       "      <td>11101</td>\n",
       "      <td>...</td>\n",
       "      <td>NaN</td>\n",
       "      <td>NaN</td>\n",
       "      <td>NaN</td>\n",
       "      <td>NaN</td>\n",
       "      <td>NaN</td>\n",
       "      <td>NaN</td>\n",
       "      <td>NaN</td>\n",
       "      <td>29</td>\n",
       "      <td>5</td>\n",
       "      <td>1</td>\n",
       "    </tr>\n",
       "  </tbody>\n",
       "</table>\n",
       "<p>5 rows × 44 columns</p>\n",
       "</div>"
      ],
      "text/plain": [
       "                              id        item_id    dept_id   cat_id store_id  \\\n",
       "0  HOBBIES_1_001_CA_1_validation  HOBBIES_1_001  HOBBIES_1  HOBBIES     CA_1   \n",
       "1  HOBBIES_1_002_CA_1_validation  HOBBIES_1_002  HOBBIES_1  HOBBIES     CA_1   \n",
       "2  HOBBIES_1_003_CA_1_validation  HOBBIES_1_003  HOBBIES_1  HOBBIES     CA_1   \n",
       "3  HOBBIES_1_004_CA_1_validation  HOBBIES_1_004  HOBBIES_1  HOBBIES     CA_1   \n",
       "4  HOBBIES_1_005_CA_1_validation  HOBBIES_1_005  HOBBIES_1  HOBBIES     CA_1   \n",
       "\n",
       "  state_id    d  sales       date  wm_yr_wk  ... rolling_median_14  \\\n",
       "0       CA  d_1   0.00 2011-01-29     11101  ...               NaN   \n",
       "1       CA  d_1   0.00 2011-01-29     11101  ...               NaN   \n",
       "2       CA  d_1   0.00 2011-01-29     11101  ...               NaN   \n",
       "3       CA  d_1   0.00 2011-01-29     11101  ...               NaN   \n",
       "4       CA  d_1   0.00 2011-01-29     11101  ...               NaN   \n",
       "\n",
       "   rolling_mean_28  rolling_median_28  rolling_mean_35 rolling_median_35  \\\n",
       "0              NaN                NaN              NaN               NaN   \n",
       "1              NaN                NaN              NaN               NaN   \n",
       "2              NaN                NaN              NaN               NaN   \n",
       "3              NaN                NaN              NaN               NaN   \n",
       "4              NaN                NaN              NaN               NaN   \n",
       "\n",
       "  rolling_mean_60 rolling_median_60 day_of_month week_no_inmonth is_weekend  \n",
       "0             NaN               NaN           29               5          1  \n",
       "1             NaN               NaN           29               5          1  \n",
       "2             NaN               NaN           29               5          1  \n",
       "3             NaN               NaN           29               5          1  \n",
       "4             NaN               NaN           29               5          1  \n",
       "\n",
       "[5 rows x 44 columns]"
      ]
     },
     "execution_count": 45,
     "metadata": {},
     "output_type": "execute_result"
    }
   ],
   "source": [
    "sales_melt_df.head()"
   ]
  },
  {
   "cell_type": "code",
   "execution_count": 46,
   "metadata": {},
   "outputs": [],
   "source": [
    "#changing the dtype to category for these columns in order to process the columns with label encoding\n",
    "cat_cols = ['id','item_id', 'dept_id', 'cat_id', 'store_id', 'state_id', 'event_name_1', 'event_type_1', 'event_name_2', 'event_type_2','snap_CA','snap_TX','snap_WI']\n",
    "for col in cat_cols:\n",
    "    sales_melt_df[col] = sales_melt_df[col].astype('category')"
   ]
  },
  {
   "cell_type": "code",
   "execution_count": 47,
   "metadata": {},
   "outputs": [],
   "source": [
    "#method which return the label encoded columns\n",
    "def label_encoding(df,cols):\n",
    "    for col in cols:\n",
    "        lenc = LabelEncoder()\n",
    "        df[col] = lenc.fit_transform(df[col].astype(str))\n",
    "    return df"
   ]
  },
  {
   "cell_type": "code",
   "execution_count": 48,
   "metadata": {},
   "outputs": [],
   "source": [
    "df_enc = label_encoding(sales_melt_df,cat_cols) #transforming the categorical columns to label encoded columns\n",
    "df_enc['d'] = df_enc['d'].apply(lambda x: x.split('_')[1]).astype(np.int16) #splitting the values of 'd' comlumn to take only the day number"
   ]
  },
  {
   "cell_type": "code",
   "execution_count": 49,
   "metadata": {},
   "outputs": [],
   "source": [
    "#final dataframe after pre-processing and feature engineering we are taking last 2 years data to train the ML model\n",
    "df_final = df_enc.loc[pd.to_datetime(df_enc['date'].dt.date) >= '2014-01-01']"
   ]
  },
  {
   "cell_type": "markdown",
   "metadata": {},
   "source": [
    "<h4>Train-CV-Test split</h4>"
   ]
  },
  {
   "cell_type": "code",
   "execution_count": 50,
   "metadata": {},
   "outputs": [],
   "source": [
    "train_end = 1885 #end of training\n",
    "X_tr = df_final[df_final['d'] <= train_end].drop(['sales','date','weekday','wm_yr_wk'],axis=1)\n",
    "y_tr = df_final[df_final['d'] <= train_end]['sales']\n",
    "\n",
    "X_val = df_final[(df_final['d'] > train_end) & (df_final['d'] <= train_end+28)].drop(['sales','date','weekday','wm_yr_wk'],axis=1)\n",
    "y_val = df_final[(df_final['d'] > train_end) & (df_final['d'] <= train_end+28)]['sales']\n",
    "\n",
    "X_te = df_final[(df_final['d'] > train_end+28)].drop(['sales','date','weekday','wm_yr_wk'],axis=1)"
   ]
  },
  {
   "cell_type": "code",
   "execution_count": 51,
   "metadata": {},
   "outputs": [
    {
     "data": {
      "text/plain": [
       "((24910330, 40), (853720, 40), (853720, 40))"
      ]
     },
     "execution_count": 51,
     "metadata": {},
     "output_type": "execute_result"
    }
   ],
   "source": [
    "X_tr.shape, X_val.shape, X_te.shape"
   ]
  },
  {
   "cell_type": "code",
   "execution_count": 76,
   "metadata": {},
   "outputs": [
    {
     "data": {
      "text/html": [
       "<div>\n",
       "<style scoped>\n",
       "    .dataframe tbody tr th:only-of-type {\n",
       "        vertical-align: middle;\n",
       "    }\n",
       "\n",
       "    .dataframe tbody tr th {\n",
       "        vertical-align: top;\n",
       "    }\n",
       "\n",
       "    .dataframe thead th {\n",
       "        text-align: right;\n",
       "    }\n",
       "</style>\n",
       "<table border=\"1\" class=\"dataframe\">\n",
       "  <thead>\n",
       "    <tr style=\"text-align: right;\">\n",
       "      <th></th>\n",
       "      <th>id</th>\n",
       "      <th>item_id</th>\n",
       "      <th>dept_id</th>\n",
       "      <th>cat_id</th>\n",
       "      <th>store_id</th>\n",
       "      <th>state_id</th>\n",
       "      <th>d</th>\n",
       "      <th>wday</th>\n",
       "      <th>month</th>\n",
       "      <th>year</th>\n",
       "      <th>...</th>\n",
       "      <th>rolling_median_14</th>\n",
       "      <th>rolling_mean_28</th>\n",
       "      <th>rolling_median_28</th>\n",
       "      <th>rolling_mean_35</th>\n",
       "      <th>rolling_median_35</th>\n",
       "      <th>rolling_mean_60</th>\n",
       "      <th>rolling_median_60</th>\n",
       "      <th>day_of_month</th>\n",
       "      <th>week_no_inmonth</th>\n",
       "      <th>is_weekend</th>\n",
       "    </tr>\n",
       "  </thead>\n",
       "  <tbody>\n",
       "    <tr>\n",
       "      <th>58327370</th>\n",
       "      <td>14370</td>\n",
       "      <td>1437</td>\n",
       "      <td>3</td>\n",
       "      <td>1</td>\n",
       "      <td>0</td>\n",
       "      <td>0</td>\n",
       "      <td>1914</td>\n",
       "      <td>3</td>\n",
       "      <td>4</td>\n",
       "      <td>5</td>\n",
       "      <td>...</td>\n",
       "      <td>1.00</td>\n",
       "      <td>1.04</td>\n",
       "      <td>1.00</td>\n",
       "      <td>1.06</td>\n",
       "      <td>1.00</td>\n",
       "      <td>0.98</td>\n",
       "      <td>1.00</td>\n",
       "      <td>25</td>\n",
       "      <td>4</td>\n",
       "      <td>0</td>\n",
       "    </tr>\n",
       "    <tr>\n",
       "      <th>58327371</th>\n",
       "      <td>14380</td>\n",
       "      <td>1438</td>\n",
       "      <td>3</td>\n",
       "      <td>1</td>\n",
       "      <td>0</td>\n",
       "      <td>0</td>\n",
       "      <td>1914</td>\n",
       "      <td>3</td>\n",
       "      <td>4</td>\n",
       "      <td>5</td>\n",
       "      <td>...</td>\n",
       "      <td>0.00</td>\n",
       "      <td>0.36</td>\n",
       "      <td>0.00</td>\n",
       "      <td>0.31</td>\n",
       "      <td>0.00</td>\n",
       "      <td>0.25</td>\n",
       "      <td>0.00</td>\n",
       "      <td>25</td>\n",
       "      <td>4</td>\n",
       "      <td>0</td>\n",
       "    </tr>\n",
       "    <tr>\n",
       "      <th>58327372</th>\n",
       "      <td>14390</td>\n",
       "      <td>1439</td>\n",
       "      <td>3</td>\n",
       "      <td>1</td>\n",
       "      <td>0</td>\n",
       "      <td>0</td>\n",
       "      <td>1914</td>\n",
       "      <td>3</td>\n",
       "      <td>4</td>\n",
       "      <td>5</td>\n",
       "      <td>...</td>\n",
       "      <td>0.00</td>\n",
       "      <td>0.54</td>\n",
       "      <td>0.00</td>\n",
       "      <td>0.43</td>\n",
       "      <td>0.00</td>\n",
       "      <td>0.42</td>\n",
       "      <td>0.00</td>\n",
       "      <td>25</td>\n",
       "      <td>4</td>\n",
       "      <td>0</td>\n",
       "    </tr>\n",
       "    <tr>\n",
       "      <th>58327373</th>\n",
       "      <td>14400</td>\n",
       "      <td>1440</td>\n",
       "      <td>3</td>\n",
       "      <td>1</td>\n",
       "      <td>0</td>\n",
       "      <td>0</td>\n",
       "      <td>1914</td>\n",
       "      <td>3</td>\n",
       "      <td>4</td>\n",
       "      <td>5</td>\n",
       "      <td>...</td>\n",
       "      <td>2.50</td>\n",
       "      <td>1.89</td>\n",
       "      <td>1.00</td>\n",
       "      <td>1.89</td>\n",
       "      <td>1.00</td>\n",
       "      <td>2.10</td>\n",
       "      <td>2.00</td>\n",
       "      <td>25</td>\n",
       "      <td>4</td>\n",
       "      <td>0</td>\n",
       "    </tr>\n",
       "    <tr>\n",
       "      <th>58327374</th>\n",
       "      <td>14410</td>\n",
       "      <td>1441</td>\n",
       "      <td>3</td>\n",
       "      <td>1</td>\n",
       "      <td>0</td>\n",
       "      <td>0</td>\n",
       "      <td>1914</td>\n",
       "      <td>3</td>\n",
       "      <td>4</td>\n",
       "      <td>5</td>\n",
       "      <td>...</td>\n",
       "      <td>1.00</td>\n",
       "      <td>1.11</td>\n",
       "      <td>1.00</td>\n",
       "      <td>1.09</td>\n",
       "      <td>1.00</td>\n",
       "      <td>1.13</td>\n",
       "      <td>1.00</td>\n",
       "      <td>25</td>\n",
       "      <td>4</td>\n",
       "      <td>0</td>\n",
       "    </tr>\n",
       "    <tr>\n",
       "      <th>...</th>\n",
       "      <td>...</td>\n",
       "      <td>...</td>\n",
       "      <td>...</td>\n",
       "      <td>...</td>\n",
       "      <td>...</td>\n",
       "      <td>...</td>\n",
       "      <td>...</td>\n",
       "      <td>...</td>\n",
       "      <td>...</td>\n",
       "      <td>...</td>\n",
       "      <td>...</td>\n",
       "      <td>...</td>\n",
       "      <td>...</td>\n",
       "      <td>...</td>\n",
       "      <td>...</td>\n",
       "      <td>...</td>\n",
       "      <td>...</td>\n",
       "      <td>...</td>\n",
       "      <td>...</td>\n",
       "      <td>...</td>\n",
       "      <td>...</td>\n",
       "    </tr>\n",
       "    <tr>\n",
       "      <th>59181085</th>\n",
       "      <td>14329</td>\n",
       "      <td>1432</td>\n",
       "      <td>2</td>\n",
       "      <td>0</td>\n",
       "      <td>9</td>\n",
       "      <td>2</td>\n",
       "      <td>1941</td>\n",
       "      <td>2</td>\n",
       "      <td>5</td>\n",
       "      <td>5</td>\n",
       "      <td>...</td>\n",
       "      <td>0.00</td>\n",
       "      <td>0.21</td>\n",
       "      <td>0.00</td>\n",
       "      <td>0.17</td>\n",
       "      <td>0.00</td>\n",
       "      <td>0.25</td>\n",
       "      <td>0.00</td>\n",
       "      <td>22</td>\n",
       "      <td>4</td>\n",
       "      <td>1</td>\n",
       "    </tr>\n",
       "    <tr>\n",
       "      <th>59181086</th>\n",
       "      <td>14339</td>\n",
       "      <td>1433</td>\n",
       "      <td>2</td>\n",
       "      <td>0</td>\n",
       "      <td>9</td>\n",
       "      <td>2</td>\n",
       "      <td>1941</td>\n",
       "      <td>2</td>\n",
       "      <td>5</td>\n",
       "      <td>5</td>\n",
       "      <td>...</td>\n",
       "      <td>0.00</td>\n",
       "      <td>0.32</td>\n",
       "      <td>0.00</td>\n",
       "      <td>0.26</td>\n",
       "      <td>0.00</td>\n",
       "      <td>0.15</td>\n",
       "      <td>0.00</td>\n",
       "      <td>22</td>\n",
       "      <td>4</td>\n",
       "      <td>1</td>\n",
       "    </tr>\n",
       "    <tr>\n",
       "      <th>59181087</th>\n",
       "      <td>14349</td>\n",
       "      <td>1434</td>\n",
       "      <td>2</td>\n",
       "      <td>0</td>\n",
       "      <td>9</td>\n",
       "      <td>2</td>\n",
       "      <td>1941</td>\n",
       "      <td>2</td>\n",
       "      <td>5</td>\n",
       "      <td>5</td>\n",
       "      <td>...</td>\n",
       "      <td>0.00</td>\n",
       "      <td>0.89</td>\n",
       "      <td>0.50</td>\n",
       "      <td>0.86</td>\n",
       "      <td>0.00</td>\n",
       "      <td>1.03</td>\n",
       "      <td>1.00</td>\n",
       "      <td>22</td>\n",
       "      <td>4</td>\n",
       "      <td>1</td>\n",
       "    </tr>\n",
       "    <tr>\n",
       "      <th>59181088</th>\n",
       "      <td>14359</td>\n",
       "      <td>1435</td>\n",
       "      <td>2</td>\n",
       "      <td>0</td>\n",
       "      <td>9</td>\n",
       "      <td>2</td>\n",
       "      <td>1941</td>\n",
       "      <td>2</td>\n",
       "      <td>5</td>\n",
       "      <td>5</td>\n",
       "      <td>...</td>\n",
       "      <td>0.50</td>\n",
       "      <td>0.93</td>\n",
       "      <td>1.00</td>\n",
       "      <td>1.06</td>\n",
       "      <td>1.00</td>\n",
       "      <td>1.02</td>\n",
       "      <td>1.00</td>\n",
       "      <td>22</td>\n",
       "      <td>4</td>\n",
       "      <td>1</td>\n",
       "    </tr>\n",
       "    <tr>\n",
       "      <th>59181089</th>\n",
       "      <td>14369</td>\n",
       "      <td>1436</td>\n",
       "      <td>2</td>\n",
       "      <td>0</td>\n",
       "      <td>9</td>\n",
       "      <td>2</td>\n",
       "      <td>1941</td>\n",
       "      <td>2</td>\n",
       "      <td>5</td>\n",
       "      <td>5</td>\n",
       "      <td>...</td>\n",
       "      <td>0.00</td>\n",
       "      <td>1.07</td>\n",
       "      <td>0.00</td>\n",
       "      <td>1.34</td>\n",
       "      <td>0.00</td>\n",
       "      <td>1.50</td>\n",
       "      <td>1.00</td>\n",
       "      <td>22</td>\n",
       "      <td>4</td>\n",
       "      <td>1</td>\n",
       "    </tr>\n",
       "  </tbody>\n",
       "</table>\n",
       "<p>853720 rows × 40 columns</p>\n",
       "</div>"
      ],
      "text/plain": [
       "             id  item_id  dept_id  cat_id  store_id  state_id     d  wday  \\\n",
       "58327370  14370     1437        3       1         0         0  1914     3   \n",
       "58327371  14380     1438        3       1         0         0  1914     3   \n",
       "58327372  14390     1439        3       1         0         0  1914     3   \n",
       "58327373  14400     1440        3       1         0         0  1914     3   \n",
       "58327374  14410     1441        3       1         0         0  1914     3   \n",
       "...         ...      ...      ...     ...       ...       ...   ...   ...   \n",
       "59181085  14329     1432        2       0         9         2  1941     2   \n",
       "59181086  14339     1433        2       0         9         2  1941     2   \n",
       "59181087  14349     1434        2       0         9         2  1941     2   \n",
       "59181088  14359     1435        2       0         9         2  1941     2   \n",
       "59181089  14369     1436        2       0         9         2  1941     2   \n",
       "\n",
       "          month  year  ...  rolling_median_14  rolling_mean_28  \\\n",
       "58327370      4     5  ...               1.00             1.04   \n",
       "58327371      4     5  ...               0.00             0.36   \n",
       "58327372      4     5  ...               0.00             0.54   \n",
       "58327373      4     5  ...               2.50             1.89   \n",
       "58327374      4     5  ...               1.00             1.11   \n",
       "...         ...   ...  ...                ...              ...   \n",
       "59181085      5     5  ...               0.00             0.21   \n",
       "59181086      5     5  ...               0.00             0.32   \n",
       "59181087      5     5  ...               0.00             0.89   \n",
       "59181088      5     5  ...               0.50             0.93   \n",
       "59181089      5     5  ...               0.00             1.07   \n",
       "\n",
       "          rolling_median_28  rolling_mean_35  rolling_median_35  \\\n",
       "58327370               1.00             1.06               1.00   \n",
       "58327371               0.00             0.31               0.00   \n",
       "58327372               0.00             0.43               0.00   \n",
       "58327373               1.00             1.89               1.00   \n",
       "58327374               1.00             1.09               1.00   \n",
       "...                     ...              ...                ...   \n",
       "59181085               0.00             0.17               0.00   \n",
       "59181086               0.00             0.26               0.00   \n",
       "59181087               0.50             0.86               0.00   \n",
       "59181088               1.00             1.06               1.00   \n",
       "59181089               0.00             1.34               0.00   \n",
       "\n",
       "          rolling_mean_60  rolling_median_60  day_of_month  week_no_inmonth  \\\n",
       "58327370             0.98               1.00            25                4   \n",
       "58327371             0.25               0.00            25                4   \n",
       "58327372             0.42               0.00            25                4   \n",
       "58327373             2.10               2.00            25                4   \n",
       "58327374             1.13               1.00            25                4   \n",
       "...                   ...                ...           ...              ...   \n",
       "59181085             0.25               0.00            22                4   \n",
       "59181086             0.15               0.00            22                4   \n",
       "59181087             1.03               1.00            22                4   \n",
       "59181088             1.02               1.00            22                4   \n",
       "59181089             1.50               1.00            22                4   \n",
       "\n",
       "          is_weekend  \n",
       "58327370           0  \n",
       "58327371           0  \n",
       "58327372           0  \n",
       "58327373           0  \n",
       "58327374           0  \n",
       "...              ...  \n",
       "59181085           1  \n",
       "59181086           1  \n",
       "59181087           1  \n",
       "59181088           1  \n",
       "59181089           1  \n",
       "\n",
       "[853720 rows x 40 columns]"
      ]
     },
     "execution_count": 76,
     "metadata": {},
     "output_type": "execute_result"
    }
   ],
   "source": [
    "X_te"
   ]
  },
  {
   "cell_type": "code",
   "execution_count": 52,
   "metadata": {},
   "outputs": [],
   "source": [
    "#storing the train,cv, test dataframes\n",
    "X_tr.to_pickle('X_tr')\n",
    "y_tr.to_pickle('y_tr')\n",
    "X_val.to_pickle('X_val')\n",
    "y_val.to_pickle('y_val')\n",
    "X_te.to_pickle('X_te')"
   ]
  },
  {
   "cell_type": "code",
   "execution_count": 53,
   "metadata": {},
   "outputs": [],
   "source": [
    "#loading the train,cv, test dataframes\n",
    "X_tr = pd.read_pickle(\"X_tr\")\n",
    "y_tr = pd.read_pickle(\"y_tr\")\n",
    "X_val = pd.read_pickle(\"X_val\")\n",
    "y_val = pd.read_pickle(\"y_val\")\n",
    "X_te = pd.read_pickle(\"X_te\")"
   ]
  },
  {
   "cell_type": "code",
   "execution_count": 54,
   "metadata": {},
   "outputs": [
    {
     "name": "stderr",
     "output_type": "stream",
     "text": [
      "100%|████████████████████████████████████████| 4/4 [10:19:30<00:00, 9292.58s/it]\n"
     ]
    }
   ],
   "source": [
    "#group-bys to group into 12-level hierarchical time series to calculate WRMSSE \n",
    "groupbys = ('for_all', 'state_id', 'store_id', 'cat_id', 'dept_id',['state_id', 'cat_id'],  \n",
    "            ['state_id', 'dept_id'], ['store_id', 'cat_id'],['store_id', 'dept_id'], 'item_id', \n",
    "            ['item_id', 'state_id'], ['item_id', 'store_id'])\n",
    "alpha_lst = [50,75,100,125] #hyper-params n_estimators\n",
    "depth = 10 #fixing the depth hyper-param\n",
    "train_df = pd.concat([sales_df.loc[:,:'state_id'],sales_df.loc[:,'d_1069':]],axis=1,sort=False)\n",
    "train_df = train_df.iloc[:,:-28]\n",
    "valid_df = train_df.iloc[:,-28:].copy()\n",
    "train_d_cols = [col for col in train_df.columns if col.startswith('d_')]\n",
    "weight_cols = train_df.iloc[:,-28:].columns.tolist()\n",
    "train_df['for_all'] = \"all\" #for level 1 aggregation\n",
    "fixed_cols = [col for col in train_df.columns if not col.startswith('d_')]\n",
    "valid_d_cols = [col for col in valid_df.columns if col.startswith('d_')]\n",
    "if not all([col in valid_df.columns for col in fixed_cols]):\n",
    "    valid_df = pd.concat([train_df[fixed_cols],valid_df],axis=1,sort=False)\n",
    "#weights corresponding all the 12-level hierarchical transformed 42840 time-series\n",
    "weight_df = compute_weights(train_df,valid_df,weight_cols,groupbys,fixed_cols)\n",
    "#train data transformed from 30490 timeseries to 42840 hirerachichal time-series\n",
    "train_42840_df = convert_to_42840(train_df, train_d_cols, groupbys)\n",
    "#validation data transformed from 30490 timeseries to 42840 hirerachichal time-series\n",
    "valid_42840_df = convert_to_42840(valid_df, valid_d_cols, groupbys)\n",
    "\n",
    "#RandomForestRegressor model training and hyperparameter tuning\n",
    "WRMSSE_rf = {}\n",
    "for alpha in tqdm(alpha_lst):\n",
    "    rf_pred = pd.DataFrame()\n",
    "    rf_reg = RandomForestRegressor(n_estimators=alpha, max_depth=depth,n_jobs=-1)\n",
    "    rf_reg.fit(X_tr,y_tr)\n",
    "    #predicting the sales of each day from day 1886 to day 1913 cv data\n",
    "    for i in range(1886,1914):\n",
    "        rf_pred['d_'+str(i)] = rf_reg.predict(X_val[X_val['d']==i])\n",
    "    rf_pred = pd.concat([valid_df[fixed_cols], rf_pred],axis=1,sort=False)\n",
    "    #prediction data transformed from 30490 timeseries to 42840 hirerachichal time-series\n",
    "    pred_42840_df = convert_to_42840(rf_pred,valid_d_cols,groupbys)\n",
    "    #Computed WRMSSE for each predictions based on hyper-parameters\n",
    "    WRMSSE_rf[(alpha,depth)] = custom_metric(train_42840_df,valid_42840_df,pred_42840_df,weight_df)"
   ]
  },
  {
   "cell_type": "code",
   "execution_count": 55,
   "metadata": {},
   "outputs": [
    {
     "name": "stdout",
     "output_type": "stream",
     "text": [
      "WRMSSE for different number of base learners with depth=10 is:\n",
      " {(50, 10): 0.6738455115680668, (75, 10): 0.673207033532121, (100, 10): 0.6738107579700731, (125, 10): 0.6735774646681627}\n"
     ]
    }
   ],
   "source": [
    "print('WRMSSE for different number of base learners with depth=10 is:\\n',WRMSSE_rf)"
   ]
  },
  {
   "cell_type": "markdown",
   "metadata": {},
   "source": [
    "1. Using Random Forest model with depth=10 and n_estimators=50 we observe the lowest WRMSSE and hence we train the best model with these hyper parameters and forecast the sales for the test data."
   ]
  },
  {
   "cell_type": "code",
   "execution_count": 56,
   "metadata": {},
   "outputs": [],
   "source": [
    "pickle.dump(WRMSSE_rf, open('WRMSSE_rf', 'wb')) "
   ]
  },
  {
   "cell_type": "code",
   "execution_count": 57,
   "metadata": {},
   "outputs": [],
   "source": [
    "WRMSSE_rf = pickle.load(open('WRMSSE_rf', 'rb'))"
   ]
  },
  {
   "cell_type": "code",
   "execution_count": 58,
   "metadata": {},
   "outputs": [
    {
     "name": "stdout",
     "output_type": "stream",
     "text": [
      "The best hyper parameters of randomforestregressor model with lower WRMSEE is:  ((75, 10), 0.673207033532121)\n"
     ]
    }
   ],
   "source": [
    "print('The best hyper parameters of randomforestregressor model with lower WRMSEE is: ', min(WRMSSE_rf.items(), key=lambda x: x[1])) "
   ]
  },
  {
   "cell_type": "markdown",
   "metadata": {},
   "source": [
    "Training with best hyperparameters to predict sales for the test data"
   ]
  },
  {
   "cell_type": "code",
   "execution_count": 59,
   "metadata": {},
   "outputs": [],
   "source": [
    "best_alpha = 75\n",
    "best_d = 10"
   ]
  },
  {
   "cell_type": "code",
   "execution_count": 74,
   "metadata": {},
   "outputs": [
    {
     "data": {
      "text/html": [
       "<div>\n",
       "<style scoped>\n",
       "    .dataframe tbody tr th:only-of-type {\n",
       "        vertical-align: middle;\n",
       "    }\n",
       "\n",
       "    .dataframe tbody tr th {\n",
       "        vertical-align: top;\n",
       "    }\n",
       "\n",
       "    .dataframe thead th {\n",
       "        text-align: right;\n",
       "    }\n",
       "</style>\n",
       "<table border=\"1\" class=\"dataframe\">\n",
       "  <thead>\n",
       "    <tr style=\"text-align: right;\">\n",
       "      <th></th>\n",
       "      <th>id</th>\n",
       "      <th>item_id</th>\n",
       "      <th>dept_id</th>\n",
       "      <th>cat_id</th>\n",
       "      <th>store_id</th>\n",
       "      <th>state_id</th>\n",
       "      <th>d</th>\n",
       "      <th>wday</th>\n",
       "      <th>month</th>\n",
       "      <th>year</th>\n",
       "      <th>...</th>\n",
       "      <th>rolling_median_14</th>\n",
       "      <th>rolling_mean_28</th>\n",
       "      <th>rolling_median_28</th>\n",
       "      <th>rolling_mean_35</th>\n",
       "      <th>rolling_median_35</th>\n",
       "      <th>rolling_mean_60</th>\n",
       "      <th>rolling_median_60</th>\n",
       "      <th>day_of_month</th>\n",
       "      <th>week_no_inmonth</th>\n",
       "      <th>is_weekend</th>\n",
       "    </tr>\n",
       "  </thead>\n",
       "  <tbody>\n",
       "  </tbody>\n",
       "</table>\n",
       "<p>0 rows × 40 columns</p>\n",
       "</div>"
      ],
      "text/plain": [
       "Empty DataFrame\n",
       "Columns: [id, item_id, dept_id, cat_id, store_id, state_id, d, wday, month, year, event_name_1, event_type_1, event_name_2, event_type_2, snap_CA, snap_TX, snap_WI, sell_price, lag_28, lag_35, lag_42, lag_49, lag_56, lag_63, lag_70, lag_77, lag_84, rolling_mean_7, rolling_median_7, rolling_mean_14, rolling_median_14, rolling_mean_28, rolling_median_28, rolling_mean_35, rolling_median_35, rolling_mean_60, rolling_median_60, day_of_month, week_no_inmonth, is_weekend]\n",
       "Index: []\n",
       "\n",
       "[0 rows x 40 columns]"
      ]
     },
     "execution_count": 74,
     "metadata": {},
     "output_type": "execute_result"
    }
   ],
   "source": [
    "X_te[X_te['d']==1886]"
   ]
  },
  {
   "cell_type": "code",
   "execution_count": 96,
   "metadata": {},
   "outputs": [],
   "source": [
    "sales_eval_df = pd.read_csv('sales_train_evaluation.csv') #reading eval data since we have true labels for days from 1914 till 1941\n",
    "groupbys = ('for_all', 'state_id', 'store_id', 'cat_id', 'dept_id',['state_id', 'cat_id'],  \n",
    "            ['state_id', 'dept_id'], ['store_id', 'cat_id'],['store_id', 'dept_id'], 'item_id', \n",
    "            ['item_id', 'state_id'], ['item_id', 'store_id'])\n",
    "train_df = pd.concat([sales_eval_df.loc[:,:'state_id'],sales_eval_df.loc[:,'d_1069':]],axis=1,sort=False)\n",
    "index_df = train_df.iloc[:,-28:].copy()\n",
    "train_df = train_df.iloc[:,:-28]\n",
    "valid_df = train_df.iloc[:,-28:].copy()\n",
    "train_d_cols = [col for col in train_df.columns if col.startswith('d_')]\n",
    "weight_cols = train_df.iloc[:,-28:].columns.tolist()\n",
    "train_df['for_all'] = \"all\" #for level 1 aggregation\n",
    "fixed_cols = [col for col in train_df.columns if not col.startswith('d_')]\n",
    "valid_d_cols = [col for col in valid_df.columns if col.startswith('d_')]\n",
    "valid_d_cols1 = [col for col in index_df.columns if col.startswith('d_')]\n",
    "if not all([col in valid_df.columns for col in fixed_cols]):\n",
    "    valid_df = pd.concat([train_df[fixed_cols],valid_df],axis=1,sort=False)\n",
    "weight_df = compute_weights(train_df,valid_df,weight_cols,groupbys,fixed_cols)\n",
    "train_42840_df = convert_to_42840(train_df, train_d_cols, groupbys)\n",
    "valid_42840_df = convert_to_42840(valid_df, valid_d_cols, groupbys)\n",
    "\n",
    "final_predictions_rf = pd.DataFrame()\n",
    "#training the best model with the best hyper-parameters\n",
    "rf_reg_best = RandomForestRegressor(n_estimators=best_alpha, max_depth=best_d,n_jobs=-1)\n",
    "rf_reg_best.fit(X_tr,y_tr)\n",
    "#forecasting sales for the test data from day 1914 to 1941\n",
    "for i in range(1914,1942):\n",
    "    final_predictions_rf['d_'+str(i)] = rf_reg_best.predict(X_te[X_te['d']==i])\n",
    "final_predictions_rf = pd.concat([valid_df[fixed_cols], final_predictions_rf],axis=1,sort=False)\n",
    "pred_42840_df = convert_to_42840(final_predictions_rf,valid_d_cols1,groupbys)\n",
    "#WRMSSE of test data\n",
    "WRMSSE_rf_te = custom_metric(train_42840_df,valid_42840_df,pred_42840_df,weight_df)"
   ]
  },
  {
   "cell_type": "code",
   "execution_count": 97,
   "metadata": {},
   "outputs": [
    {
     "data": {
      "text/plain": [
       "Index(['id', 'item_id', 'dept_id', 'cat_id', 'store_id', 'state_id', 'for_all',\n",
       "       'd_1914', 'd_1915', 'd_1916', 'd_1917', 'd_1918', 'd_1919', 'd_1920',\n",
       "       'd_1921', 'd_1922', 'd_1923', 'd_1924', 'd_1925', 'd_1926', 'd_1927',\n",
       "       'd_1928', 'd_1929', 'd_1930', 'd_1931', 'd_1932', 'd_1933', 'd_1934',\n",
       "       'd_1935', 'd_1936', 'd_1937', 'd_1938', 'd_1939', 'd_1940', 'd_1941'],\n",
       "      dtype='object')"
      ]
     },
     "execution_count": 97,
     "metadata": {},
     "output_type": "execute_result"
    }
   ],
   "source": [
    "final_predictions_rf.columns"
   ]
  },
  {
   "cell_type": "code",
   "execution_count": 98,
   "metadata": {},
   "outputs": [
    {
     "data": {
      "text/plain": [
       "Index(['id', 'item_id', 'dept_id', 'cat_id', 'store_id', 'state_id', 'for_all',\n",
       "       'd_1886', 'd_1887', 'd_1888', 'd_1889', 'd_1890', 'd_1891', 'd_1892',\n",
       "       'd_1893', 'd_1894', 'd_1895', 'd_1896', 'd_1897', 'd_1898', 'd_1899',\n",
       "       'd_1900', 'd_1901', 'd_1902', 'd_1903', 'd_1904', 'd_1905', 'd_1906',\n",
       "       'd_1907', 'd_1908', 'd_1909', 'd_1910', 'd_1911', 'd_1912', 'd_1913'],\n",
       "      dtype='object')"
      ]
     },
     "execution_count": 98,
     "metadata": {},
     "output_type": "execute_result"
    }
   ],
   "source": [
    "valid_df.columns"
   ]
  },
  {
   "cell_type": "code",
   "execution_count": 99,
   "metadata": {},
   "outputs": [
    {
     "data": {
      "text/plain": [
       "['d_1886',\n",
       " 'd_1887',\n",
       " 'd_1888',\n",
       " 'd_1889',\n",
       " 'd_1890',\n",
       " 'd_1891',\n",
       " 'd_1892',\n",
       " 'd_1893',\n",
       " 'd_1894',\n",
       " 'd_1895',\n",
       " 'd_1896',\n",
       " 'd_1897',\n",
       " 'd_1898',\n",
       " 'd_1899',\n",
       " 'd_1900',\n",
       " 'd_1901',\n",
       " 'd_1902',\n",
       " 'd_1903',\n",
       " 'd_1904',\n",
       " 'd_1905',\n",
       " 'd_1906',\n",
       " 'd_1907',\n",
       " 'd_1908',\n",
       " 'd_1909',\n",
       " 'd_1910',\n",
       " 'd_1911',\n",
       " 'd_1912',\n",
       " 'd_1913']"
      ]
     },
     "execution_count": 99,
     "metadata": {},
     "output_type": "execute_result"
    }
   ],
   "source": [
    "valid_d_cols"
   ]
  },
  {
   "cell_type": "code",
   "execution_count": 100,
   "metadata": {},
   "outputs": [
    {
     "data": {
      "text/plain": [
       "Index(['id', 'item_id', 'dept_id', 'cat_id', 'store_id', 'state_id', 'd_1069',\n",
       "       'd_1070', 'd_1071', 'd_1072',\n",
       "       ...\n",
       "       'd_1905', 'd_1906', 'd_1907', 'd_1908', 'd_1909', 'd_1910', 'd_1911',\n",
       "       'd_1912', 'd_1913', 'for_all'],\n",
       "      dtype='object', length=852)"
      ]
     },
     "execution_count": 100,
     "metadata": {},
     "output_type": "execute_result"
    }
   ],
   "source": [
    "train_df.columns"
   ]
  },
  {
   "cell_type": "raw",
   "metadata": {},
   "source": []
  },
  {
   "cell_type": "code",
   "execution_count": 101,
   "metadata": {},
   "outputs": [
    {
     "name": "stdout",
     "output_type": "stream",
     "text": [
      "WRMSSE on test data using randomforestregressor is:  0.6377966678605471\n"
     ]
    }
   ],
   "source": [
    "print('WRMSSE on test data using randomforestregressor is: ',WRMSSE_rf_te)"
   ]
  },
  {
   "cell_type": "code",
   "execution_count": 102,
   "metadata": {},
   "outputs": [
    {
     "data": {
      "text/plain": [
       "['rf_reg_best.pkl']"
      ]
     },
     "execution_count": 102,
     "metadata": {},
     "output_type": "execute_result"
    }
   ],
   "source": [
    "joblib.dump(rf_reg_best,'rf_reg_best.pkl') #storing the best model"
   ]
  },
  {
   "cell_type": "code",
   "execution_count": 103,
   "metadata": {},
   "outputs": [],
   "source": [
    "rf_reg_best = joblib.load('rf_reg_best.pkl')"
   ]
  },
  {
   "cell_type": "code",
   "execution_count": 104,
   "metadata": {},
   "outputs": [],
   "source": [
    "final_predictions_rf.to_csv('final_predictions_rf.csv',index=False)"
   ]
  },
  {
   "cell_type": "code",
   "execution_count": 105,
   "metadata": {},
   "outputs": [
    {
     "data": {
      "text/html": [
       "<div>\n",
       "<style scoped>\n",
       "    .dataframe tbody tr th:only-of-type {\n",
       "        vertical-align: middle;\n",
       "    }\n",
       "\n",
       "    .dataframe tbody tr th {\n",
       "        vertical-align: top;\n",
       "    }\n",
       "\n",
       "    .dataframe thead th {\n",
       "        text-align: right;\n",
       "    }\n",
       "</style>\n",
       "<table border=\"1\" class=\"dataframe\">\n",
       "  <thead>\n",
       "    <tr style=\"text-align: right;\">\n",
       "      <th></th>\n",
       "      <th>id</th>\n",
       "      <th>item_id</th>\n",
       "      <th>dept_id</th>\n",
       "      <th>cat_id</th>\n",
       "      <th>store_id</th>\n",
       "      <th>state_id</th>\n",
       "      <th>for_all</th>\n",
       "      <th>d_1914</th>\n",
       "      <th>d_1915</th>\n",
       "      <th>d_1916</th>\n",
       "      <th>...</th>\n",
       "      <th>d_1932</th>\n",
       "      <th>d_1933</th>\n",
       "      <th>d_1934</th>\n",
       "      <th>d_1935</th>\n",
       "      <th>d_1936</th>\n",
       "      <th>d_1937</th>\n",
       "      <th>d_1938</th>\n",
       "      <th>d_1939</th>\n",
       "      <th>d_1940</th>\n",
       "      <th>d_1941</th>\n",
       "    </tr>\n",
       "  </thead>\n",
       "  <tbody>\n",
       "    <tr>\n",
       "      <th>0</th>\n",
       "      <td>HOBBIES_1_001_CA_1_evaluation</td>\n",
       "      <td>HOBBIES_1_001</td>\n",
       "      <td>HOBBIES_1</td>\n",
       "      <td>HOBBIES</td>\n",
       "      <td>CA_1</td>\n",
       "      <td>CA</td>\n",
       "      <td>all</td>\n",
       "      <td>0.88</td>\n",
       "      <td>0.87</td>\n",
       "      <td>0.87</td>\n",
       "      <td>...</td>\n",
       "      <td>0.86</td>\n",
       "      <td>1.24</td>\n",
       "      <td>1.21</td>\n",
       "      <td>0.92</td>\n",
       "      <td>0.91</td>\n",
       "      <td>0.89</td>\n",
       "      <td>0.97</td>\n",
       "      <td>0.90</td>\n",
       "      <td>1.21</td>\n",
       "      <td>1.20</td>\n",
       "    </tr>\n",
       "    <tr>\n",
       "      <th>1</th>\n",
       "      <td>HOBBIES_1_002_CA_1_evaluation</td>\n",
       "      <td>HOBBIES_1_002</td>\n",
       "      <td>HOBBIES_1</td>\n",
       "      <td>HOBBIES</td>\n",
       "      <td>CA_1</td>\n",
       "      <td>CA</td>\n",
       "      <td>all</td>\n",
       "      <td>0.25</td>\n",
       "      <td>0.25</td>\n",
       "      <td>0.25</td>\n",
       "      <td>...</td>\n",
       "      <td>0.20</td>\n",
       "      <td>0.23</td>\n",
       "      <td>0.23</td>\n",
       "      <td>0.19</td>\n",
       "      <td>0.19</td>\n",
       "      <td>0.19</td>\n",
       "      <td>0.19</td>\n",
       "      <td>0.19</td>\n",
       "      <td>0.22</td>\n",
       "      <td>0.22</td>\n",
       "    </tr>\n",
       "  </tbody>\n",
       "</table>\n",
       "<p>2 rows × 35 columns</p>\n",
       "</div>"
      ],
      "text/plain": [
       "                              id        item_id    dept_id   cat_id store_id  \\\n",
       "0  HOBBIES_1_001_CA_1_evaluation  HOBBIES_1_001  HOBBIES_1  HOBBIES     CA_1   \n",
       "1  HOBBIES_1_002_CA_1_evaluation  HOBBIES_1_002  HOBBIES_1  HOBBIES     CA_1   \n",
       "\n",
       "  state_id for_all  d_1914  d_1915  d_1916  ...  d_1932  d_1933  d_1934  \\\n",
       "0       CA     all    0.88    0.87    0.87  ...    0.86    1.24    1.21   \n",
       "1       CA     all    0.25    0.25    0.25  ...    0.20    0.23    0.23   \n",
       "\n",
       "   d_1935  d_1936  d_1937  d_1938  d_1939  d_1940  d_1941  \n",
       "0    0.92    0.91    0.89    0.97    0.90    1.21    1.20  \n",
       "1    0.19    0.19    0.19    0.19    0.19    0.22    0.22  \n",
       "\n",
       "[2 rows x 35 columns]"
      ]
     },
     "execution_count": 105,
     "metadata": {},
     "output_type": "execute_result"
    }
   ],
   "source": [
    "#forecasted sales from from day 1914 till 1941\n",
    "final_predictions_rf = pd.read_csv('final_predictions_rf.csv')\n",
    "final_predictions_rf.head(2)"
   ]
  },
  {
   "cell_type": "code",
   "execution_count": 106,
   "metadata": {},
   "outputs": [
    {
     "data": {
      "text/plain": [
       "'submit_val = final_predictions_rf[[\\'id\\']]\\nfor i in range(28):\\n    submit_val[\\'F\\'+str(i+1)] = final_predictions_rf[\\'d_\\'+str(1914+i)]\\nsubmit_val[\\'id\\'] =  submit_val[\\'id\\'].apply(lambda x: x.replace(\\'evaluation\\',\\'validation\\'))\\nsubmit_eval = submit_val.copy()\\nsubmit_eval[\"id\"] = submit_eval[\"id\"].apply(lambda x: x.replace(\\'validation\\',\\'evaluation\\'))\\nrandom_forest_predictions = submit_val.append(submit_eval).reset_index(drop=True)'"
      ]
     },
     "execution_count": 106,
     "metadata": {},
     "output_type": "execute_result"
    }
   ],
   "source": [
    "\"\"\"submit_val = final_predictions_rf[['id']]\n",
    "for i in range(28):\n",
    "    submit_val['F'+str(i+1)] = final_predictions_rf['d_'+str(1914+i)]\n",
    "submit_val['id'] =  submit_val['id'].apply(lambda x: x.replace('evaluation','validation'))\n",
    "submit_eval = submit_val.copy()\n",
    "submit_eval[\"id\"] = submit_eval[\"id\"].apply(lambda x: x.replace('validation','evaluation'))\n",
    "random_forest_predictions = submit_val.append(submit_eval).reset_index(drop=True)\"\"\""
   ]
  },
  {
   "cell_type": "code",
   "execution_count": 107,
   "metadata": {},
   "outputs": [],
   "source": [
    "#random_forest_predictions.to_csv(\"random_forest_predictions.csv\", index=False)"
   ]
  },
  {
   "cell_type": "markdown",
   "metadata": {},
   "source": [
    "<h3>LightGbm Model</h3>"
   ]
  },
  {
   "cell_type": "code",
   "execution_count": 111,
   "metadata": {},
   "outputs": [
    {
     "name": "stderr",
     "output_type": "stream",
     "text": [
      "  0%|                                                     | 0/4 [00:00<?, ?it/s]\n",
      "  0%|                                                     | 0/3 [00:00<?, ?it/s]\u001b[A\n",
      " 33%|██████████████▋                             | 1/3 [03:05<06:10, 185.41s/it]\u001b[A\n",
      " 67%|█████████████████████████████▎              | 2/3 [06:00<02:59, 179.25s/it]\u001b[A\n",
      "100%|████████████████████████████████████████████| 3/3 [08:50<00:00, 176.95s/it]\u001b[A\n",
      " 25%|███████████                                 | 1/4 [08:50<26:32, 530.86s/it]\n",
      "  0%|                                                     | 0/3 [00:00<?, ?it/s]\u001b[A\n",
      " 33%|██████████████▋                             | 1/3 [03:12<06:24, 192.48s/it]\u001b[A\n",
      " 67%|█████████████████████████████▎              | 2/3 [06:51<03:28, 208.13s/it]\u001b[A\n",
      "100%|████████████████████████████████████████████| 3/3 [09:52<00:00, 197.36s/it]\u001b[A\n",
      " 50%|██████████████████████                      | 2/4 [18:42<18:53, 566.87s/it]\n",
      "  0%|                                                     | 0/3 [00:00<?, ?it/s]\u001b[A\n",
      " 33%|██████████████▋                             | 1/3 [03:23<06:46, 203.16s/it]\u001b[A\n",
      " 67%|█████████████████████████████▎              | 2/3 [06:33<03:15, 195.37s/it]\u001b[A\n",
      "100%|████████████████████████████████████████████| 3/3 [09:45<00:00, 195.08s/it]\u001b[A\n",
      " 75%|█████████████████████████████████           | 3/4 [28:28<09:35, 575.26s/it]\n",
      "  0%|                                                     | 0/3 [00:00<?, ?it/s]\u001b[A\n",
      " 33%|██████████████▋                             | 1/3 [03:28<06:56, 208.16s/it]\u001b[A\n",
      " 67%|█████████████████████████████▎              | 2/3 [06:43<03:20, 200.68s/it]\u001b[A\n",
      "100%|████████████████████████████████████████████| 3/3 [09:47<00:00, 195.73s/it]\u001b[A\n",
      "100%|████████████████████████████████████████████| 4/4 [38:15<00:00, 573.85s/it]\n"
     ]
    }
   ],
   "source": [
    "#group-bys to group into 12-level hierarchical time series to calculate WRMSSE \n",
    "groupbys = ('for_all', 'state_id', 'store_id', 'cat_id', 'dept_id',['state_id', 'cat_id'],  \n",
    "            ['state_id', 'dept_id'], ['store_id', 'cat_id'],['store_id', 'dept_id'], 'item_id', \n",
    "            ['item_id', 'state_id'], ['item_id', 'store_id'])\n",
    "alpha_lst = [50,75,100,125] #hyper-params num_leaves\n",
    "lr_lst = [0.025,0.05,0.075] #hyper-params learning_rate\n",
    "train_df = pd.concat([sales_df.loc[:,:'state_id'],sales_df.loc[:,'d_1069':]],axis=1,sort=False)\n",
    "index_df = train_df.iloc[:,-28:].copy()\n",
    "train_df = train_df.iloc[:,:-28]\n",
    "valid_df = train_df.iloc[:,-28:].copy()\n",
    "train_d_cols = [col for col in train_df.columns if col.startswith('d_')]\n",
    "weight_cols = train_df.iloc[:,-28:].columns.tolist()\n",
    "train_df['for_all'] = \"all\" #for level 1 aggregation\n",
    "fixed_cols = [col for col in train_df.columns if not col.startswith('d_')]\n",
    "valid_d_cols = [col for col in valid_df.columns if col.startswith('d_')]\n",
    "\n",
    "if not all([col in valid_df.columns for col in fixed_cols]):\n",
    "    valid_df = pd.concat([train_df[fixed_cols],valid_df],axis=1,sort=False)\n",
    "#weights corresponding all the 12-level hierarchical transformed 42840 time-series\n",
    "weight_df = compute_weights(train_df,valid_df,weight_cols,groupbys,fixed_cols)\n",
    "#train data transformed from 30490 timeseries to 42840 hirerachichal time-series\n",
    "train_42840_df = convert_to_42840(train_df, train_d_cols, groupbys)\n",
    "#validation data transformed from 30490 timeseries to 42840 hirerachichal time-series\n",
    "valid_42840_df = convert_to_42840(valid_df, valid_d_cols, groupbys)\n",
    "\n",
    "#LGBMRegressor model training and hyperparameter tuning\n",
    "WRMSSE_lgb = {}\n",
    "for alpha in tqdm(alpha_lst):\n",
    "    for lr in tqdm(lr_lst):\n",
    "        lgb_pred = pd.DataFrame()\n",
    "        lgb_reg = lgb.LGBMRegressor(num_leaves=alpha,n_estimators=100,learning_rate=lr,n_jobs=-1)\n",
    "        lgb_reg.fit(X_tr,y_tr) #fit the model\n",
    "        #predicting the sales of each day from day 1886 to day 1913 cv data\n",
    "        for i in range(1886,1914):\n",
    "            lgb_pred['d_'+str(i)] = lgb_reg.predict(X_val[X_val['d']==i])\n",
    "        lgb_pred = pd.concat([valid_df[fixed_cols], lgb_pred],axis=1,sort=False)\n",
    "        #prediction data transformed from 30490 timeseries to 42840 hirerachichal time-series\n",
    "        pred_42840_df = convert_to_42840(lgb_pred,valid_d_cols,groupbys)\n",
    "        #Computed WRMSSE for each predictions based on hyper-parameters\n",
    "        WRMSSE_lgb[(alpha,lr)] = custom_metric(train_42840_df,valid_42840_df,pred_42840_df,weight_df)"
   ]
  },
  {
   "cell_type": "code",
   "execution_count": 112,
   "metadata": {},
   "outputs": [],
   "source": [
    "pickle.dump(WRMSSE_lgb, open('WRMSSE_lgb', 'wb'))"
   ]
  },
  {
   "cell_type": "code",
   "execution_count": 113,
   "metadata": {},
   "outputs": [
    {
     "name": "stdout",
     "output_type": "stream",
     "text": [
      "WRMSSE for different num_leaves and learning_rate for lgbmregressor model is:\n",
      " {(50, 0.025): 0.8075553879596885, (50, 0.05): 0.6436074339169913, (50, 0.075): 0.5991414850176814, (75, 0.025): 0.7828093856800569, (75, 0.05): 0.6235652005566088, (75, 0.075): 0.588889787995105, (100, 0.025): 0.7670885201798677, (100, 0.05): 0.6163764286631515, (100, 0.075): 0.5862138636053861, (125, 0.025): 0.7540410398076174, (125, 0.05): 0.6046201678928438, (125, 0.075): 0.5849896346083583}\n"
     ]
    }
   ],
   "source": [
    "print('WRMSSE for different num_leaves and learning_rate for lgbmregressor model is:\\n',WRMSSE_lgb)"
   ]
  },
  {
   "cell_type": "code",
   "execution_count": 114,
   "metadata": {},
   "outputs": [
    {
     "name": "stdout",
     "output_type": "stream",
     "text": [
      "The best hyper parameters of lgbmregressor model with lower WRMSEE is:  ((125, 0.075), 0.5849896346083583)\n"
     ]
    }
   ],
   "source": [
    "print('The best hyper parameters of lgbmregressor model with lower WRMSEE is: ', min(WRMSSE_lgb.items(), key=lambda x: x[1])) "
   ]
  },
  {
   "cell_type": "markdown",
   "metadata": {},
   "source": [
    "Training with best hyperparameters to predict sales for the test data"
   ]
  },
  {
   "cell_type": "code",
   "execution_count": 115,
   "metadata": {},
   "outputs": [],
   "source": [
    "sales_eval_df = pd.read_csv('sales_train_evaluation.csv') #reading eval data since we have true labels for days from 1914 till 1941\n",
    "groupbys = ('for_all', 'state_id', 'store_id', 'cat_id', 'dept_id',['state_id', 'cat_id'],  \n",
    "            ['state_id', 'dept_id'], ['store_id', 'cat_id'],['store_id', 'dept_id'], 'item_id', \n",
    "            ['item_id', 'state_id'], ['item_id', 'store_id'])\n",
    "train_df = pd.concat([sales_eval_df.loc[:,:'state_id'],sales_eval_df.loc[:,'d_1069':]],axis=1,sort=False)\n",
    "train_df = train_df.iloc[:,:-28]\n",
    "valid_df = train_df.iloc[:,-28:].copy()\n",
    "train_d_cols = [col for col in train_df.columns if col.startswith('d_')]\n",
    "weight_cols = train_df.iloc[:,-28:].columns.tolist()\n",
    "train_df['for_all'] = \"all\" #for level 1 aggregation\n",
    "fixed_cols = [col for col in train_df.columns if not col.startswith('d_')]\n",
    "valid_d_cols = [col for col in valid_df.columns if col.startswith('d_')]\n",
    "valid_d_cols1 = [col for col in index_df.columns if col.startswith('d_')]\n",
    "if not all([col in valid_df.columns for col in fixed_cols]):\n",
    "    valid_df = pd.concat([train_df[fixed_cols],valid_df],axis=1,sort=False)\n",
    "weight_df = compute_weights(train_df,valid_df,weight_cols,groupbys,fixed_cols)\n",
    "train_42840_df = convert_to_42840(train_df, train_d_cols, groupbys)\n",
    "valid_42840_df = convert_to_42840(valid_df, valid_d_cols, groupbys)\n",
    "\n",
    "alpha = 125\n",
    "lr = 0.075\n",
    "final_predictions_lgb = pd.DataFrame()\n",
    "#training the best model with the best hyper-parameters\n",
    "lgb_reg_best = lgb.LGBMRegressor(num_leaves=alpha,n_estimators=100,learning_rate=lr,n_jobs=-1)\n",
    "lgb_reg_best.fit(X_tr,y_tr) #fit the model\n",
    "#forecasting sales for the test data from day 1914 to 1941 test data\n",
    "for i in range(1914,1942):\n",
    "    final_predictions_lgb['d_'+str(i)] = lgb_reg_best.predict(X_te[X_te['d']==i])\n",
    "final_predictions_lgb = pd.concat([valid_df[fixed_cols], final_predictions_lgb],axis=1,sort=False)\n",
    "pred_42840_df = convert_to_42840(final_predictions_lgb,valid_d_cols1,groupbys)\n",
    "#WRMSSE of test data\n",
    "WRMSSE_lgb_te = custom_metric(train_42840_df,valid_42840_df,pred_42840_df,weight_df)"
   ]
  },
  {
   "cell_type": "code",
   "execution_count": 116,
   "metadata": {},
   "outputs": [
    {
     "name": "stdout",
     "output_type": "stream",
     "text": [
      "WRMSSE on test data using lgbmregressor is:  0.5899743276051983\n"
     ]
    }
   ],
   "source": [
    "print('WRMSSE on test data using lgbmregressor is: ',WRMSSE_lgb_te)"
   ]
  },
  {
   "cell_type": "code",
   "execution_count": 117,
   "metadata": {},
   "outputs": [
    {
     "data": {
      "text/plain": [
       "['lgb_reg_best.pkl']"
      ]
     },
     "execution_count": 117,
     "metadata": {},
     "output_type": "execute_result"
    }
   ],
   "source": [
    "joblib.dump(lgb_reg_best,'lgb_reg_best.pkl') #store the best model"
   ]
  },
  {
   "cell_type": "code",
   "execution_count": 118,
   "metadata": {},
   "outputs": [],
   "source": [
    "lgb_reg_best = joblib.load('lgb_reg_best.pkl')"
   ]
  },
  {
   "cell_type": "code",
   "execution_count": 121,
   "metadata": {},
   "outputs": [
    {
     "data": {
      "text/html": [
       "<div>\n",
       "<style scoped>\n",
       "    .dataframe tbody tr th:only-of-type {\n",
       "        vertical-align: middle;\n",
       "    }\n",
       "\n",
       "    .dataframe tbody tr th {\n",
       "        vertical-align: top;\n",
       "    }\n",
       "\n",
       "    .dataframe thead th {\n",
       "        text-align: right;\n",
       "    }\n",
       "</style>\n",
       "<table border=\"1\" class=\"dataframe\">\n",
       "  <thead>\n",
       "    <tr style=\"text-align: right;\">\n",
       "      <th></th>\n",
       "      <th>id</th>\n",
       "      <th>item_id</th>\n",
       "      <th>dept_id</th>\n",
       "      <th>cat_id</th>\n",
       "      <th>store_id</th>\n",
       "      <th>state_id</th>\n",
       "      <th>for_all</th>\n",
       "      <th>d_1914</th>\n",
       "      <th>d_1915</th>\n",
       "      <th>d_1916</th>\n",
       "      <th>...</th>\n",
       "      <th>d_1932</th>\n",
       "      <th>d_1933</th>\n",
       "      <th>d_1934</th>\n",
       "      <th>d_1935</th>\n",
       "      <th>d_1936</th>\n",
       "      <th>d_1937</th>\n",
       "      <th>d_1938</th>\n",
       "      <th>d_1939</th>\n",
       "      <th>d_1940</th>\n",
       "      <th>d_1941</th>\n",
       "    </tr>\n",
       "  </thead>\n",
       "  <tbody>\n",
       "    <tr>\n",
       "      <th>0</th>\n",
       "      <td>HOBBIES_1_001_CA_1_evaluation</td>\n",
       "      <td>HOBBIES_1_001</td>\n",
       "      <td>HOBBIES_1</td>\n",
       "      <td>HOBBIES</td>\n",
       "      <td>CA_1</td>\n",
       "      <td>CA</td>\n",
       "      <td>all</td>\n",
       "      <td>0.98</td>\n",
       "      <td>0.87</td>\n",
       "      <td>0.84</td>\n",
       "      <td>...</td>\n",
       "      <td>0.89</td>\n",
       "      <td>1.38</td>\n",
       "      <td>1.25</td>\n",
       "      <td>0.99</td>\n",
       "      <td>0.90</td>\n",
       "      <td>0.86</td>\n",
       "      <td>1.01</td>\n",
       "      <td>0.90</td>\n",
       "      <td>1.27</td>\n",
       "      <td>1.22</td>\n",
       "    </tr>\n",
       "    <tr>\n",
       "      <th>1</th>\n",
       "      <td>HOBBIES_1_002_CA_1_evaluation</td>\n",
       "      <td>HOBBIES_1_002</td>\n",
       "      <td>HOBBIES_1</td>\n",
       "      <td>HOBBIES</td>\n",
       "      <td>CA_1</td>\n",
       "      <td>CA</td>\n",
       "      <td>all</td>\n",
       "      <td>0.36</td>\n",
       "      <td>0.29</td>\n",
       "      <td>0.29</td>\n",
       "      <td>...</td>\n",
       "      <td>0.21</td>\n",
       "      <td>0.28</td>\n",
       "      <td>0.27</td>\n",
       "      <td>0.19</td>\n",
       "      <td>0.17</td>\n",
       "      <td>0.19</td>\n",
       "      <td>0.17</td>\n",
       "      <td>0.21</td>\n",
       "      <td>0.29</td>\n",
       "      <td>0.29</td>\n",
       "    </tr>\n",
       "    <tr>\n",
       "      <th>2</th>\n",
       "      <td>HOBBIES_1_003_CA_1_evaluation</td>\n",
       "      <td>HOBBIES_1_003</td>\n",
       "      <td>HOBBIES_1</td>\n",
       "      <td>HOBBIES</td>\n",
       "      <td>CA_1</td>\n",
       "      <td>CA</td>\n",
       "      <td>all</td>\n",
       "      <td>0.40</td>\n",
       "      <td>0.37</td>\n",
       "      <td>0.37</td>\n",
       "      <td>...</td>\n",
       "      <td>0.54</td>\n",
       "      <td>0.68</td>\n",
       "      <td>0.79</td>\n",
       "      <td>0.63</td>\n",
       "      <td>0.60</td>\n",
       "      <td>0.65</td>\n",
       "      <td>0.56</td>\n",
       "      <td>0.63</td>\n",
       "      <td>0.81</td>\n",
       "      <td>0.83</td>\n",
       "    </tr>\n",
       "    <tr>\n",
       "      <th>3</th>\n",
       "      <td>HOBBIES_1_004_CA_1_evaluation</td>\n",
       "      <td>HOBBIES_1_004</td>\n",
       "      <td>HOBBIES_1</td>\n",
       "      <td>HOBBIES</td>\n",
       "      <td>CA_1</td>\n",
       "      <td>CA</td>\n",
       "      <td>all</td>\n",
       "      <td>1.92</td>\n",
       "      <td>1.67</td>\n",
       "      <td>1.66</td>\n",
       "      <td>...</td>\n",
       "      <td>1.62</td>\n",
       "      <td>2.07</td>\n",
       "      <td>2.29</td>\n",
       "      <td>1.74</td>\n",
       "      <td>1.55</td>\n",
       "      <td>1.48</td>\n",
       "      <td>1.43</td>\n",
       "      <td>1.71</td>\n",
       "      <td>2.56</td>\n",
       "      <td>2.51</td>\n",
       "    </tr>\n",
       "    <tr>\n",
       "      <th>4</th>\n",
       "      <td>HOBBIES_1_005_CA_1_evaluation</td>\n",
       "      <td>HOBBIES_1_005</td>\n",
       "      <td>HOBBIES_1</td>\n",
       "      <td>HOBBIES</td>\n",
       "      <td>CA_1</td>\n",
       "      <td>CA</td>\n",
       "      <td>all</td>\n",
       "      <td>0.96</td>\n",
       "      <td>0.88</td>\n",
       "      <td>1.04</td>\n",
       "      <td>...</td>\n",
       "      <td>1.03</td>\n",
       "      <td>1.32</td>\n",
       "      <td>1.35</td>\n",
       "      <td>0.93</td>\n",
       "      <td>0.90</td>\n",
       "      <td>0.90</td>\n",
       "      <td>0.98</td>\n",
       "      <td>1.06</td>\n",
       "      <td>1.44</td>\n",
       "      <td>1.64</td>\n",
       "    </tr>\n",
       "  </tbody>\n",
       "</table>\n",
       "<p>5 rows × 35 columns</p>\n",
       "</div>"
      ],
      "text/plain": [
       "                              id        item_id    dept_id   cat_id store_id  \\\n",
       "0  HOBBIES_1_001_CA_1_evaluation  HOBBIES_1_001  HOBBIES_1  HOBBIES     CA_1   \n",
       "1  HOBBIES_1_002_CA_1_evaluation  HOBBIES_1_002  HOBBIES_1  HOBBIES     CA_1   \n",
       "2  HOBBIES_1_003_CA_1_evaluation  HOBBIES_1_003  HOBBIES_1  HOBBIES     CA_1   \n",
       "3  HOBBIES_1_004_CA_1_evaluation  HOBBIES_1_004  HOBBIES_1  HOBBIES     CA_1   \n",
       "4  HOBBIES_1_005_CA_1_evaluation  HOBBIES_1_005  HOBBIES_1  HOBBIES     CA_1   \n",
       "\n",
       "  state_id for_all  d_1914  d_1915  d_1916  ...  d_1932  d_1933  d_1934  \\\n",
       "0       CA     all    0.98    0.87    0.84  ...    0.89    1.38    1.25   \n",
       "1       CA     all    0.36    0.29    0.29  ...    0.21    0.28    0.27   \n",
       "2       CA     all    0.40    0.37    0.37  ...    0.54    0.68    0.79   \n",
       "3       CA     all    1.92    1.67    1.66  ...    1.62    2.07    2.29   \n",
       "4       CA     all    0.96    0.88    1.04  ...    1.03    1.32    1.35   \n",
       "\n",
       "   d_1935  d_1936  d_1937  d_1938  d_1939  d_1940  d_1941  \n",
       "0    0.99    0.90    0.86    1.01    0.90    1.27    1.22  \n",
       "1    0.19    0.17    0.19    0.17    0.21    0.29    0.29  \n",
       "2    0.63    0.60    0.65    0.56    0.63    0.81    0.83  \n",
       "3    1.74    1.55    1.48    1.43    1.71    2.56    2.51  \n",
       "4    0.93    0.90    0.90    0.98    1.06    1.44    1.64  \n",
       "\n",
       "[5 rows x 35 columns]"
      ]
     },
     "execution_count": 121,
     "metadata": {},
     "output_type": "execute_result"
    }
   ],
   "source": [
    "final_predictions_lgb.to_csv('final_predictions_lgb.csv',index=False)\n",
    "final_predictions_lgb.head()"
   ]
  },
  {
   "cell_type": "code",
   "execution_count": 124,
   "metadata": {},
   "outputs": [
    {
     "data": {
      "text/html": [
       "<div>\n",
       "<style scoped>\n",
       "    .dataframe tbody tr th:only-of-type {\n",
       "        vertical-align: middle;\n",
       "    }\n",
       "\n",
       "    .dataframe tbody tr th {\n",
       "        vertical-align: top;\n",
       "    }\n",
       "\n",
       "    .dataframe thead th {\n",
       "        text-align: right;\n",
       "    }\n",
       "</style>\n",
       "<table border=\"1\" class=\"dataframe\">\n",
       "  <thead>\n",
       "    <tr style=\"text-align: right;\">\n",
       "      <th></th>\n",
       "      <th>id</th>\n",
       "      <th>item_id</th>\n",
       "      <th>dept_id</th>\n",
       "      <th>cat_id</th>\n",
       "      <th>store_id</th>\n",
       "      <th>state_id</th>\n",
       "      <th>for_all</th>\n",
       "      <th>d_1914</th>\n",
       "      <th>d_1915</th>\n",
       "      <th>d_1916</th>\n",
       "      <th>...</th>\n",
       "      <th>d_1932</th>\n",
       "      <th>d_1933</th>\n",
       "      <th>d_1934</th>\n",
       "      <th>d_1935</th>\n",
       "      <th>d_1936</th>\n",
       "      <th>d_1937</th>\n",
       "      <th>d_1938</th>\n",
       "      <th>d_1939</th>\n",
       "      <th>d_1940</th>\n",
       "      <th>d_1941</th>\n",
       "    </tr>\n",
       "  </thead>\n",
       "  <tbody>\n",
       "    <tr>\n",
       "      <th>0</th>\n",
       "      <td>HOBBIES_1_001_CA_1_evaluation</td>\n",
       "      <td>HOBBIES_1_001</td>\n",
       "      <td>HOBBIES_1</td>\n",
       "      <td>HOBBIES</td>\n",
       "      <td>CA_1</td>\n",
       "      <td>CA</td>\n",
       "      <td>all</td>\n",
       "      <td>0.98</td>\n",
       "      <td>0.87</td>\n",
       "      <td>0.84</td>\n",
       "      <td>...</td>\n",
       "      <td>0.89</td>\n",
       "      <td>1.38</td>\n",
       "      <td>1.25</td>\n",
       "      <td>0.99</td>\n",
       "      <td>0.90</td>\n",
       "      <td>0.86</td>\n",
       "      <td>1.01</td>\n",
       "      <td>0.90</td>\n",
       "      <td>1.27</td>\n",
       "      <td>1.22</td>\n",
       "    </tr>\n",
       "    <tr>\n",
       "      <th>1</th>\n",
       "      <td>HOBBIES_1_002_CA_1_evaluation</td>\n",
       "      <td>HOBBIES_1_002</td>\n",
       "      <td>HOBBIES_1</td>\n",
       "      <td>HOBBIES</td>\n",
       "      <td>CA_1</td>\n",
       "      <td>CA</td>\n",
       "      <td>all</td>\n",
       "      <td>0.36</td>\n",
       "      <td>0.29</td>\n",
       "      <td>0.29</td>\n",
       "      <td>...</td>\n",
       "      <td>0.21</td>\n",
       "      <td>0.28</td>\n",
       "      <td>0.27</td>\n",
       "      <td>0.19</td>\n",
       "      <td>0.17</td>\n",
       "      <td>0.19</td>\n",
       "      <td>0.17</td>\n",
       "      <td>0.21</td>\n",
       "      <td>0.29</td>\n",
       "      <td>0.29</td>\n",
       "    </tr>\n",
       "    <tr>\n",
       "      <th>2</th>\n",
       "      <td>HOBBIES_1_003_CA_1_evaluation</td>\n",
       "      <td>HOBBIES_1_003</td>\n",
       "      <td>HOBBIES_1</td>\n",
       "      <td>HOBBIES</td>\n",
       "      <td>CA_1</td>\n",
       "      <td>CA</td>\n",
       "      <td>all</td>\n",
       "      <td>0.40</td>\n",
       "      <td>0.37</td>\n",
       "      <td>0.37</td>\n",
       "      <td>...</td>\n",
       "      <td>0.54</td>\n",
       "      <td>0.68</td>\n",
       "      <td>0.79</td>\n",
       "      <td>0.63</td>\n",
       "      <td>0.60</td>\n",
       "      <td>0.65</td>\n",
       "      <td>0.56</td>\n",
       "      <td>0.63</td>\n",
       "      <td>0.81</td>\n",
       "      <td>0.83</td>\n",
       "    </tr>\n",
       "    <tr>\n",
       "      <th>3</th>\n",
       "      <td>HOBBIES_1_004_CA_1_evaluation</td>\n",
       "      <td>HOBBIES_1_004</td>\n",
       "      <td>HOBBIES_1</td>\n",
       "      <td>HOBBIES</td>\n",
       "      <td>CA_1</td>\n",
       "      <td>CA</td>\n",
       "      <td>all</td>\n",
       "      <td>1.92</td>\n",
       "      <td>1.67</td>\n",
       "      <td>1.66</td>\n",
       "      <td>...</td>\n",
       "      <td>1.62</td>\n",
       "      <td>2.07</td>\n",
       "      <td>2.29</td>\n",
       "      <td>1.74</td>\n",
       "      <td>1.55</td>\n",
       "      <td>1.48</td>\n",
       "      <td>1.43</td>\n",
       "      <td>1.71</td>\n",
       "      <td>2.56</td>\n",
       "      <td>2.51</td>\n",
       "    </tr>\n",
       "    <tr>\n",
       "      <th>4</th>\n",
       "      <td>HOBBIES_1_005_CA_1_evaluation</td>\n",
       "      <td>HOBBIES_1_005</td>\n",
       "      <td>HOBBIES_1</td>\n",
       "      <td>HOBBIES</td>\n",
       "      <td>CA_1</td>\n",
       "      <td>CA</td>\n",
       "      <td>all</td>\n",
       "      <td>0.96</td>\n",
       "      <td>0.88</td>\n",
       "      <td>1.04</td>\n",
       "      <td>...</td>\n",
       "      <td>1.03</td>\n",
       "      <td>1.32</td>\n",
       "      <td>1.35</td>\n",
       "      <td>0.93</td>\n",
       "      <td>0.90</td>\n",
       "      <td>0.90</td>\n",
       "      <td>0.98</td>\n",
       "      <td>1.06</td>\n",
       "      <td>1.44</td>\n",
       "      <td>1.64</td>\n",
       "    </tr>\n",
       "  </tbody>\n",
       "</table>\n",
       "<p>5 rows × 35 columns</p>\n",
       "</div>"
      ],
      "text/plain": [
       "                              id        item_id    dept_id   cat_id store_id  \\\n",
       "0  HOBBIES_1_001_CA_1_evaluation  HOBBIES_1_001  HOBBIES_1  HOBBIES     CA_1   \n",
       "1  HOBBIES_1_002_CA_1_evaluation  HOBBIES_1_002  HOBBIES_1  HOBBIES     CA_1   \n",
       "2  HOBBIES_1_003_CA_1_evaluation  HOBBIES_1_003  HOBBIES_1  HOBBIES     CA_1   \n",
       "3  HOBBIES_1_004_CA_1_evaluation  HOBBIES_1_004  HOBBIES_1  HOBBIES     CA_1   \n",
       "4  HOBBIES_1_005_CA_1_evaluation  HOBBIES_1_005  HOBBIES_1  HOBBIES     CA_1   \n",
       "\n",
       "  state_id for_all  d_1914  d_1915  d_1916  ...  d_1932  d_1933  d_1934  \\\n",
       "0       CA     all    0.98    0.87    0.84  ...    0.89    1.38    1.25   \n",
       "1       CA     all    0.36    0.29    0.29  ...    0.21    0.28    0.27   \n",
       "2       CA     all    0.40    0.37    0.37  ...    0.54    0.68    0.79   \n",
       "3       CA     all    1.92    1.67    1.66  ...    1.62    2.07    2.29   \n",
       "4       CA     all    0.96    0.88    1.04  ...    1.03    1.32    1.35   \n",
       "\n",
       "   d_1935  d_1936  d_1937  d_1938  d_1939  d_1940  d_1941  \n",
       "0    0.99    0.90    0.86    1.01    0.90    1.27    1.22  \n",
       "1    0.19    0.17    0.19    0.17    0.21    0.29    0.29  \n",
       "2    0.63    0.60    0.65    0.56    0.63    0.81    0.83  \n",
       "3    1.74    1.55    1.48    1.43    1.71    2.56    2.51  \n",
       "4    0.93    0.90    0.90    0.98    1.06    1.44    1.64  \n",
       "\n",
       "[5 rows x 35 columns]"
      ]
     },
     "execution_count": 124,
     "metadata": {},
     "output_type": "execute_result"
    }
   ],
   "source": [
    "#forecasted sales from from day 1914 till 1941 test data\n",
    "final_predictions_lgb = pd.read_csv('final_predictions_lgb.csv')\n",
    "final_predictions_lgb.head()"
   ]
  },
  {
   "cell_type": "code",
   "execution_count": null,
   "metadata": {},
   "outputs": [],
   "source": [
    "submit_val = final_predictions_lgb[['id']]\n",
    "for i in range(28):\n",
    "    submit_val['F'+str(i+1)] = final_predictions_lgb['d_'+str(1914+i)]\n",
    "submit_val['id'] =  submit_val['id'].apply(lambda x: x.replace('evaluation','validation'))\n",
    "submit_eval = submit_val.copy()\n",
    "submit_eval[\"id\"] = submit_eval[\"id\"].apply(lambda x: x.replace('validation','evaluation'))\n",
    "submit_lgb = submit_val.append(submit_eval).reset_index(drop=True)"
   ]
  },
  {
   "cell_type": "code",
   "execution_count": null,
   "metadata": {},
   "outputs": [],
   "source": [
    "submit_lgb.to_csv(\"submit_lgb.csv\", index=False)"
   ]
  },
  {
   "cell_type": "markdown",
   "metadata": {},
   "source": [
    "<h3>Linear model - SGDRegressor with squared loss</h3>"
   ]
  },
  {
   "cell_type": "code",
   "execution_count": 125,
   "metadata": {},
   "outputs": [],
   "source": [
    "scalar = StandardScaler()\n",
    "X_tr_scaled = scalar.fit_transform(X_tr)\n",
    "X_val_scaled = scalar.fit_transform(X_val)\n",
    "X_te_scaled = scalar.fit_transform(X_te)"
   ]
  },
  {
   "cell_type": "code",
   "execution_count": 127,
   "metadata": {},
   "outputs": [
    {
     "name": "stderr",
     "output_type": "stream",
     "text": [
      "100%|████████████████████████████████████████████| 7/7 [23:44<00:00, 203.55s/it]\n"
     ]
    }
   ],
   "source": [
    "#group-bys to group into 12-level hierarchical time series to calculate WRMSSE \n",
    "groupbys = ('for_all', 'state_id', 'store_id', 'cat_id', 'dept_id',['state_id', 'cat_id'],  \n",
    "            ['state_id', 'dept_id'], ['store_id', 'cat_id'],['store_id', 'dept_id'], 'item_id', \n",
    "            ['item_id', 'state_id'], ['item_id', 'store_id'])\n",
    "alpha_lst = [0.0001,0.001,0.01,0.1,0.5,0.7,1] #hyper-param constant that multiplies the regularization term\n",
    "train_df = pd.concat([sales_df.loc[:,:'state_id'],sales_df.loc[:,'d_1069':]],axis=1,sort=False)\n",
    "train_df = train_df.iloc[:,:-28]\n",
    "valid_df = train_df.iloc[:,-28:].copy()\n",
    "train_d_cols = [col for col in train_df.columns if col.startswith('d_')]\n",
    "weight_cols = train_df.iloc[:,-28:].columns.tolist()\n",
    "train_df['for_all'] = \"all\" #for level 1 aggregation\n",
    "fixed_cols = [col for col in train_df.columns if not col.startswith('d_')]\n",
    "valid_d_cols = [col for col in valid_df.columns if col.startswith('d_')]\n",
    "if not all([col in valid_df.columns for col in fixed_cols]):\n",
    "    valid_df = pd.concat([train_df[fixed_cols],valid_df],axis=1,sort=False)\n",
    "#weights corresponding all the 12-level hierarchical transformed 42840 time-series\n",
    "weight_df = compute_weights(train_df,valid_df,weight_cols,groupbys,fixed_cols)\n",
    "#train data transformed from 30490 timeseries to 42840 hirerachichal time-series\n",
    "train_42840_df = convert_to_42840(train_df, train_d_cols, groupbys)\n",
    "#validation data transformed from 30490 timeseries to 42840 hirerachichal time-series\n",
    "valid_42840_df = convert_to_42840(valid_df, valid_d_cols, groupbys)\n",
    "\n",
    "#SGDRegressor model training and hyperparameter tuning\n",
    "WRMSSE_sgd = {}\n",
    "for alpha in tqdm(alpha_lst):\n",
    "    sgdreg = SGDRegressor(alpha=alpha,loss='squared_error',early_stopping=True)\n",
    "    sgdreg.fit(X_tr_scaled,y_tr.values)\n",
    "    sgd_predictions = sgdreg.predict(X_val_scaled)\n",
    "    \n",
    "    #slicing the predictions such that to get each day predictions of all the products of cv data\n",
    "    start = 0\n",
    "    t = int(X_val.iloc[0]['d'])\n",
    "    sgd_pred_df = pd.DataFrame()\n",
    "    while start < len(sgd_predictions):\n",
    "        end = start + 30490\n",
    "        sgd_pred_df['d_'+str(t)] = sgd_predictions[start:end]\n",
    "        start = end\n",
    "        t = t+1\n",
    "    sgd_pred_df = pd.concat([valid_df[fixed_cols], sgd_pred_df],axis=1,sort=False)\n",
    "    #prediction data transformed from 30490 timeseries to 42840 hirerachichal time-series\n",
    "    pred_42840_df = convert_to_42840(sgd_pred_df,valid_d_cols,groupbys)\n",
    "    #Computed WRMSSE for each predictions based on hyper-parameters\n",
    "    WRMSSE_sgd[alpha] = custom_metric(train_42840_df,valid_42840_df,pred_42840_df,weight_df)"
   ]
  },
  {
   "cell_type": "code",
   "execution_count": 128,
   "metadata": {
    "scrolled": true
   },
   "outputs": [
    {
     "name": "stdout",
     "output_type": "stream",
     "text": [
      "WRMSSE for different learning_rate of SGDRegressor model is:\n",
      " {0.0001: 0.8477923441603323, 0.001: 0.8477516869688723, 0.01: 1.2227306926098842, 0.1: 1.0519619779454832, 0.5: 0.9365501662754815, 0.7: 1.0057632829015535, 1: 1.049228986312951}\n"
     ]
    }
   ],
   "source": [
    "print('WRMSSE for different learning_rate of SGDRegressor model is:\\n',WRMSSE_sgd)"
   ]
  },
  {
   "cell_type": "code",
   "execution_count": 129,
   "metadata": {},
   "outputs": [],
   "source": [
    "pickle.dump(WRMSSE_sgd, open('WRMSSE_sgd', 'wb'))"
   ]
  },
  {
   "cell_type": "code",
   "execution_count": 130,
   "metadata": {
    "scrolled": true
   },
   "outputs": [
    {
     "name": "stdout",
     "output_type": "stream",
     "text": [
      "The best hyper parameters of SGDRegressor model with lower WRMSEE is:  (0.001, 0.8477516869688723)\n"
     ]
    }
   ],
   "source": [
    "print('The best hyper parameters of SGDRegressor model with lower WRMSEE is: ', min(WRMSSE_sgd.items(), key=lambda x: x[1])) "
   ]
  },
  {
   "cell_type": "markdown",
   "metadata": {},
   "source": [
    "##### Training with best hyperparameters to predict sales for the test data"
   ]
  },
  {
   "cell_type": "code",
   "execution_count": 132,
   "metadata": {},
   "outputs": [],
   "source": [
    "sales_eval_df = pd.read_csv('sales_train_evaluation.csv') #reading eval data since we have true labels for days from 1914 till 1941\n",
    "groupbys = ('for_all', 'state_id', 'store_id', 'cat_id', 'dept_id',['state_id', 'cat_id'],  \n",
    "            ['state_id', 'dept_id'], ['store_id', 'cat_id'],['store_id', 'dept_id'], 'item_id', \n",
    "            ['item_id', 'state_id'], ['item_id', 'store_id'])\n",
    "train_df = pd.concat([sales_eval_df.loc[:,:'state_id'],sales_eval_df.loc[:,'d_1069':]],axis=1,sort=False)\n",
    "train_df = train_df.iloc[:,:-28]\n",
    "valid_df = train_df.iloc[:,-28:].copy()\n",
    "train_d_cols = [col for col in train_df.columns if col.startswith('d_')]\n",
    "weight_cols = train_df.iloc[:,-28:].columns.tolist()\n",
    "train_df['for_all'] = \"all\" #for level 1 aggregation\n",
    "fixed_cols = [col for col in train_df.columns if not col.startswith('d_')]\n",
    "valid_d_cols = [col for col in valid_df.columns if col.startswith('d_')]\n",
    "valid_d_cols1 = [col for col in index_df.columns if col.startswith('d_')]\n",
    "if not all([col in valid_df.columns for col in fixed_cols]):\n",
    "    valid_df = pd.concat([train_df[fixed_cols],valid_df],axis=1,sort=False)\n",
    "weight_df = compute_weights(train_df,valid_df,weight_cols,groupbys,fixed_cols)\n",
    "train_42840_df = convert_to_42840(train_df, train_d_cols, groupbys)\n",
    "valid_42840_df = convert_to_42840(valid_df, valid_d_cols, groupbys)\n",
    "\n",
    "#training the best model with the best hyper-parameters\n",
    "best_alpha = 0.1\n",
    "sgdreg = SGDRegressor(alpha=best_alpha,loss='squared_error',early_stopping=True)\n",
    "sgdreg.fit(X_tr_scaled,y_tr.values)\n",
    "sgd_predictions = sgdreg.predict(X_te_scaled)\n",
    "\n",
    "#slicing the predictions such that to get each day predictions of all the products of test data\n",
    "start = 0\n",
    "t = int(X_te.iloc[0]['d'])\n",
    "sgd_pred_df = pd.DataFrame()\n",
    "while start < len(sgd_predictions):\n",
    "    end = start + 30490\n",
    "    sgd_pred_df['d_'+str(t)] = sgd_predictions[start:end]\n",
    "    start = end\n",
    "    t = t+1\n",
    "sgd_pred_df = pd.concat([valid_df[fixed_cols], sgd_pred_df],axis=1,sort=False)\n",
    "#prediction data transformed from 30490 timeseries to 42840 hirerachichal time-series\n",
    "pred_42840_df = convert_to_42840(sgd_pred_df,valid_d_cols1,groupbys)\n",
    "#Computed WRMSSE for each predictions based on hyper-parameters\n",
    "WRMSSE_sgd_te = custom_metric(train_42840_df,valid_42840_df,pred_42840_df,weight_df)"
   ]
  },
  {
   "cell_type": "code",
   "execution_count": 133,
   "metadata": {},
   "outputs": [
    {
     "name": "stdout",
     "output_type": "stream",
     "text": [
      "WRMSSE on test data using SGDRegressor is:  0.8751914150347138\n"
     ]
    }
   ],
   "source": [
    "print('WRMSSE on test data using SGDRegressor is: ',WRMSSE_sgd_te)"
   ]
  },
  {
   "cell_type": "code",
   "execution_count": 134,
   "metadata": {},
   "outputs": [
    {
     "data": {
      "text/plain": [
       "['best_sgdreg.pkl']"
      ]
     },
     "execution_count": 134,
     "metadata": {},
     "output_type": "execute_result"
    }
   ],
   "source": [
    "joblib.dump(sgdreg,'best_sgdreg.pkl') #store the best model"
   ]
  },
  {
   "cell_type": "code",
   "execution_count": 136,
   "metadata": {},
   "outputs": [],
   "source": [
    "best_sgd_reg = joblib.load('best_sgdreg.pkl')"
   ]
  },
  {
   "cell_type": "code",
   "execution_count": 137,
   "metadata": {},
   "outputs": [],
   "source": [
    "sgd_pred_df.to_csv('final_predictions_sgd.csv',index=False)"
   ]
  },
  {
   "cell_type": "code",
   "execution_count": 138,
   "metadata": {},
   "outputs": [
    {
     "data": {
      "text/html": [
       "<div>\n",
       "<style scoped>\n",
       "    .dataframe tbody tr th:only-of-type {\n",
       "        vertical-align: middle;\n",
       "    }\n",
       "\n",
       "    .dataframe tbody tr th {\n",
       "        vertical-align: top;\n",
       "    }\n",
       "\n",
       "    .dataframe thead th {\n",
       "        text-align: right;\n",
       "    }\n",
       "</style>\n",
       "<table border=\"1\" class=\"dataframe\">\n",
       "  <thead>\n",
       "    <tr style=\"text-align: right;\">\n",
       "      <th></th>\n",
       "      <th>id</th>\n",
       "      <th>item_id</th>\n",
       "      <th>dept_id</th>\n",
       "      <th>cat_id</th>\n",
       "      <th>store_id</th>\n",
       "      <th>state_id</th>\n",
       "      <th>for_all</th>\n",
       "      <th>d_1914</th>\n",
       "      <th>d_1915</th>\n",
       "      <th>d_1916</th>\n",
       "      <th>...</th>\n",
       "      <th>d_1932</th>\n",
       "      <th>d_1933</th>\n",
       "      <th>d_1934</th>\n",
       "      <th>d_1935</th>\n",
       "      <th>d_1936</th>\n",
       "      <th>d_1937</th>\n",
       "      <th>d_1938</th>\n",
       "      <th>d_1939</th>\n",
       "      <th>d_1940</th>\n",
       "      <th>d_1941</th>\n",
       "    </tr>\n",
       "  </thead>\n",
       "  <tbody>\n",
       "    <tr>\n",
       "      <th>0</th>\n",
       "      <td>HOBBIES_1_001_CA_1_evaluation</td>\n",
       "      <td>HOBBIES_1_001</td>\n",
       "      <td>HOBBIES_1</td>\n",
       "      <td>HOBBIES</td>\n",
       "      <td>CA_1</td>\n",
       "      <td>CA</td>\n",
       "      <td>all</td>\n",
       "      <td>0.74</td>\n",
       "      <td>0.87</td>\n",
       "      <td>0.57</td>\n",
       "      <td>...</td>\n",
       "      <td>0.99</td>\n",
       "      <td>1.29</td>\n",
       "      <td>1.11</td>\n",
       "      <td>0.83</td>\n",
       "      <td>0.87</td>\n",
       "      <td>0.80</td>\n",
       "      <td>0.79</td>\n",
       "      <td>0.83</td>\n",
       "      <td>1.09</td>\n",
       "      <td>1.05</td>\n",
       "    </tr>\n",
       "    <tr>\n",
       "      <th>1</th>\n",
       "      <td>HOBBIES_1_002_CA_1_evaluation</td>\n",
       "      <td>HOBBIES_1_002</td>\n",
       "      <td>HOBBIES_1</td>\n",
       "      <td>HOBBIES</td>\n",
       "      <td>CA_1</td>\n",
       "      <td>CA</td>\n",
       "      <td>all</td>\n",
       "      <td>0.41</td>\n",
       "      <td>0.20</td>\n",
       "      <td>0.12</td>\n",
       "      <td>...</td>\n",
       "      <td>-0.04</td>\n",
       "      <td>0.24</td>\n",
       "      <td>0.23</td>\n",
       "      <td>0.01</td>\n",
       "      <td>-0.15</td>\n",
       "      <td>-0.08</td>\n",
       "      <td>0.19</td>\n",
       "      <td>-0.04</td>\n",
       "      <td>0.24</td>\n",
       "      <td>0.22</td>\n",
       "    </tr>\n",
       "    <tr>\n",
       "      <th>2</th>\n",
       "      <td>HOBBIES_1_003_CA_1_evaluation</td>\n",
       "      <td>HOBBIES_1_003</td>\n",
       "      <td>HOBBIES_1</td>\n",
       "      <td>HOBBIES</td>\n",
       "      <td>CA_1</td>\n",
       "      <td>CA</td>\n",
       "      <td>all</td>\n",
       "      <td>0.11</td>\n",
       "      <td>0.25</td>\n",
       "      <td>0.15</td>\n",
       "      <td>...</td>\n",
       "      <td>0.41</td>\n",
       "      <td>0.92</td>\n",
       "      <td>0.70</td>\n",
       "      <td>0.32</td>\n",
       "      <td>0.42</td>\n",
       "      <td>0.31</td>\n",
       "      <td>0.29</td>\n",
       "      <td>0.41</td>\n",
       "      <td>1.04</td>\n",
       "      <td>0.70</td>\n",
       "    </tr>\n",
       "    <tr>\n",
       "      <th>3</th>\n",
       "      <td>HOBBIES_1_004_CA_1_evaluation</td>\n",
       "      <td>HOBBIES_1_004</td>\n",
       "      <td>HOBBIES_1</td>\n",
       "      <td>HOBBIES</td>\n",
       "      <td>CA_1</td>\n",
       "      <td>CA</td>\n",
       "      <td>all</td>\n",
       "      <td>1.94</td>\n",
       "      <td>1.35</td>\n",
       "      <td>1.24</td>\n",
       "      <td>...</td>\n",
       "      <td>1.60</td>\n",
       "      <td>2.11</td>\n",
       "      <td>2.97</td>\n",
       "      <td>1.82</td>\n",
       "      <td>1.07</td>\n",
       "      <td>1.12</td>\n",
       "      <td>1.46</td>\n",
       "      <td>1.45</td>\n",
       "      <td>2.65</td>\n",
       "      <td>3.17</td>\n",
       "    </tr>\n",
       "    <tr>\n",
       "      <th>4</th>\n",
       "      <td>HOBBIES_1_005_CA_1_evaluation</td>\n",
       "      <td>HOBBIES_1_005</td>\n",
       "      <td>HOBBIES_1</td>\n",
       "      <td>HOBBIES</td>\n",
       "      <td>CA_1</td>\n",
       "      <td>CA</td>\n",
       "      <td>all</td>\n",
       "      <td>0.95</td>\n",
       "      <td>1.17</td>\n",
       "      <td>1.03</td>\n",
       "      <td>...</td>\n",
       "      <td>0.90</td>\n",
       "      <td>1.04</td>\n",
       "      <td>1.34</td>\n",
       "      <td>0.88</td>\n",
       "      <td>0.92</td>\n",
       "      <td>0.94</td>\n",
       "      <td>1.03</td>\n",
       "      <td>0.83</td>\n",
       "      <td>1.06</td>\n",
       "      <td>1.49</td>\n",
       "    </tr>\n",
       "  </tbody>\n",
       "</table>\n",
       "<p>5 rows × 35 columns</p>\n",
       "</div>"
      ],
      "text/plain": [
       "                              id        item_id    dept_id   cat_id store_id  \\\n",
       "0  HOBBIES_1_001_CA_1_evaluation  HOBBIES_1_001  HOBBIES_1  HOBBIES     CA_1   \n",
       "1  HOBBIES_1_002_CA_1_evaluation  HOBBIES_1_002  HOBBIES_1  HOBBIES     CA_1   \n",
       "2  HOBBIES_1_003_CA_1_evaluation  HOBBIES_1_003  HOBBIES_1  HOBBIES     CA_1   \n",
       "3  HOBBIES_1_004_CA_1_evaluation  HOBBIES_1_004  HOBBIES_1  HOBBIES     CA_1   \n",
       "4  HOBBIES_1_005_CA_1_evaluation  HOBBIES_1_005  HOBBIES_1  HOBBIES     CA_1   \n",
       "\n",
       "  state_id for_all  d_1914  d_1915  d_1916  ...  d_1932  d_1933  d_1934  \\\n",
       "0       CA     all    0.74    0.87    0.57  ...    0.99    1.29    1.11   \n",
       "1       CA     all    0.41    0.20    0.12  ...   -0.04    0.24    0.23   \n",
       "2       CA     all    0.11    0.25    0.15  ...    0.41    0.92    0.70   \n",
       "3       CA     all    1.94    1.35    1.24  ...    1.60    2.11    2.97   \n",
       "4       CA     all    0.95    1.17    1.03  ...    0.90    1.04    1.34   \n",
       "\n",
       "   d_1935  d_1936  d_1937  d_1938  d_1939  d_1940  d_1941  \n",
       "0    0.83    0.87    0.80    0.79    0.83    1.09    1.05  \n",
       "1    0.01   -0.15   -0.08    0.19   -0.04    0.24    0.22  \n",
       "2    0.32    0.42    0.31    0.29    0.41    1.04    0.70  \n",
       "3    1.82    1.07    1.12    1.46    1.45    2.65    3.17  \n",
       "4    0.88    0.92    0.94    1.03    0.83    1.06    1.49  \n",
       "\n",
       "[5 rows x 35 columns]"
      ]
     },
     "execution_count": 138,
     "metadata": {},
     "output_type": "execute_result"
    }
   ],
   "source": [
    "#forecasted sales from from day 1914 till 1941 test data\n",
    "final_predictions_sgd = pd.read_csv('final_predictions_sgd.csv')\n",
    "final_predictions_sgd.head()"
   ]
  },
  {
   "cell_type": "code",
   "execution_count": 139,
   "metadata": {},
   "outputs": [],
   "source": [
    "submit_val = final_predictions_sgd[['id']]\n",
    "for i in range(28):\n",
    "    submit_val['F'+str(i+1)] = final_predictions_sgd['d_'+str(1914+i)]\n",
    "submit_val['id'] =  submit_val['id'].apply(lambda x: x.replace('evaluation','validation'))\n",
    "submit_eval = submit_val.copy()\n",
    "submit_eval[\"id\"] = submit_eval[\"id\"].apply(lambda x: x.replace('validation','evaluation'))\n",
    "submit_sgd = submit_val.append(submit_eval).reset_index(drop=True)"
   ]
  },
  {
   "cell_type": "code",
   "execution_count": 140,
   "metadata": {},
   "outputs": [],
   "source": [
    "submit_sgd.to_csv(\"submit_sgd.csv\", index=False)"
   ]
  },
  {
   "cell_type": "markdown",
   "metadata": {},
   "source": [
    "<h3> AdaBoost model </h3>"
   ]
  },
  {
   "cell_type": "code",
   "execution_count": 141,
   "metadata": {},
   "outputs": [
    {
     "name": "stderr",
     "output_type": "stream",
     "text": [
      "100%|███████████████████████████████████████| 3/3 [17:50:06<00:00, 21402.26s/it]\n"
     ]
    }
   ],
   "source": [
    "#group-bys to group into 12-level hierarchical time series to calculate WRMSSE \n",
    "groupbys = ('for_all', 'state_id', 'store_id', 'cat_id', 'dept_id',['state_id', 'cat_id'],  \n",
    "            ['state_id', 'dept_id'], ['store_id', 'cat_id'],['store_id', 'dept_id'], 'item_id', \n",
    "            ['item_id', 'state_id'], ['item_id', 'store_id'])\n",
    "train_df = pd.concat([sales_df.loc[:,:'state_id'],sales_df.loc[:,'d_1069':]],axis=1,sort=False)\n",
    "train_df = train_df.iloc[:,:-28]\n",
    "valid_df = train_df.iloc[:,-28:].copy()\n",
    "train_d_cols = [col for col in train_df.columns if col.startswith('d_')]\n",
    "weight_cols = train_df.iloc[:,-28:].columns.tolist()\n",
    "train_df['for_all'] = \"all\" #for level 1 aggregation\n",
    "fixed_cols = [col for col in train_df.columns if not col.startswith('d_')]\n",
    "valid_d_cols = [col for col in valid_df.columns if col.startswith('d_')]\n",
    "if not all([col in valid_df.columns for col in fixed_cols]):\n",
    "    valid_df = pd.concat([train_df[fixed_cols],valid_df],axis=1,sort=False)\n",
    "#weights corresponding all the 12-level hierarchical transformed 42840 time-series\n",
    "weight_df = compute_weights(train_df,valid_df,weight_cols,groupbys,fixed_cols)\n",
    "#train data transformed from 30490 timeseries to 42840 hirerachichal time-series\n",
    "train_42840_df = convert_to_42840(train_df, train_d_cols, groupbys)\n",
    "#validation data transformed from 30490 timeseries to 42840 hirerachichal time-series\n",
    "valid_42840_df = convert_to_42840(valid_df, valid_d_cols, groupbys)\n",
    "\n",
    "#AdaBoostRegressor model training and hyperparameter tuning\n",
    "estimators = 50 #fixing the n_estimators hyper-param\n",
    "lr_lst = [0.025,0.05,0.075] #hyper-params learning_rate\n",
    "WRMSSE_ada = {}\n",
    "for lr in tqdm(lr_lst):\n",
    "    ada_pred = pd.DataFrame()\n",
    "    dt_rg = DecisionTreeRegressor(max_depth=10,max_features=10,random_state=42)\n",
    "    ada_reg = AdaBoostRegressor(base_estimator=dt_rg,n_estimators=estimators,learning_rate=lr,loss='square')\n",
    "    ada_reg.fit(X_tr,y_tr)\n",
    "    #predicting the sales of each day from day 1886 to day 1913 cv data\n",
    "    for i in range(1886,1914):\n",
    "        ada_pred['d_'+str(i)] = ada_reg.predict(X_val[X_val['d']==i])\n",
    "    ada_pred = pd.concat([valid_df[fixed_cols], ada_pred],axis=1,sort=False)\n",
    "    #prediction data transformed from 30490 timeseries to 42840 hirerachichal time-series\n",
    "    pred_42840_df = convert_to_42840(ada_pred,valid_d_cols,groupbys)\n",
    "    #Computed WRMSSE for each predictions based on hyper-parameters\n",
    "    WRMSSE_ada[lr] = custom_metric(train_42840_df,valid_42840_df,pred_42840_df,weight_df)"
   ]
  },
  {
   "cell_type": "code",
   "execution_count": 142,
   "metadata": {},
   "outputs": [
    {
     "name": "stdout",
     "output_type": "stream",
     "text": [
      "WRMSSE for different learning_rate of AdaBoost model is:\n",
      " {0.025: 0.7042897182124207, 0.05: 0.7032019906696145, 0.075: 0.7072809425244098}\n"
     ]
    }
   ],
   "source": [
    "print('WRMSSE for different learning_rate of AdaBoost model is:\\n',WRMSSE_ada)"
   ]
  },
  {
   "cell_type": "code",
   "execution_count": 143,
   "metadata": {},
   "outputs": [],
   "source": [
    "pickle.dump(WRMSSE_ada, open('WRMSSE_ada', 'wb'))"
   ]
  },
  {
   "cell_type": "code",
   "execution_count": 144,
   "metadata": {},
   "outputs": [
    {
     "name": "stdout",
     "output_type": "stream",
     "text": [
      "The best hyper parameters of AdaBoost model with lower WRMSEE is:  (0.05, 0.7032019906696145)\n"
     ]
    }
   ],
   "source": [
    "print('The best hyper parameters of AdaBoost model with lower WRMSEE is: ', min(WRMSSE_ada.items(), key=lambda x: x[1])) "
   ]
  },
  {
   "cell_type": "markdown",
   "metadata": {},
   "source": [
    "##### Training with best hyperparameters to predict sales for the test data"
   ]
  },
  {
   "cell_type": "code",
   "execution_count": 146,
   "metadata": {},
   "outputs": [],
   "source": [
    "sales_eval_df = pd.read_csv('sales_train_evaluation.csv') #reading eval data since we have true labels for days from 1914 till 1941\n",
    "groupbys = ('for_all', 'state_id', 'store_id', 'cat_id', 'dept_id',['state_id', 'cat_id'],  \n",
    "            ['state_id', 'dept_id'], ['store_id', 'cat_id'],['store_id', 'dept_id'], 'item_id', \n",
    "            ['item_id', 'state_id'], ['item_id', 'store_id'])\n",
    "train_df = pd.concat([sales_eval_df.loc[:,:'state_id'],sales_eval_df.loc[:,'d_1069':]],axis=1,sort=False)\n",
    "index_df = train_df.iloc[:,-28:].copy()\n",
    "train_df = train_df.iloc[:,:-28]\n",
    "valid_df = train_df.iloc[:,-28:].copy()\n",
    "train_d_cols = [col for col in train_df.columns if col.startswith('d_')]\n",
    "weight_cols = train_df.iloc[:,-28:].columns.tolist()\n",
    "train_df['for_all'] = \"all\" #for level 1 aggregation\n",
    "fixed_cols = [col for col in train_df.columns if not col.startswith('d_')]\n",
    "valid_d_cols = [col for col in valid_df.columns if col.startswith('d_')]\n",
    "valid_d_cols1 = [col for col in index_df.columns if col.startswith('d_')]\n",
    "if not all([col in valid_df.columns for col in fixed_cols]):\n",
    "    valid_df = pd.concat([train_df[fixed_cols],valid_df],axis=1,sort=False)\n",
    "weight_df = compute_weights(train_df,valid_df,weight_cols,groupbys,fixed_cols)\n",
    "train_42840_df = convert_to_42840(train_df, train_d_cols, groupbys)\n",
    "valid_42840_df = convert_to_42840(valid_df, valid_d_cols, groupbys)\n",
    "\n",
    "estimators = 50 \n",
    "best_lr = 0.075\n",
    "final_predictions_ada = pd.DataFrame()\n",
    "#training the best model with the best hyper-parameters\n",
    "dt_rg = DecisionTreeRegressor(max_depth=10,max_features=10,random_state=42)\n",
    "best_ada_reg = AdaBoostRegressor(base_estimator=dt_rg,n_estimators=estimators,learning_rate=best_lr,loss='square')\n",
    "best_ada_reg.fit(X_tr,y_tr)\n",
    "#predicting the sales of each day from day 1914 to day 1941 test data\n",
    "for i in range(1914,1942):\n",
    "    final_predictions_ada['d_'+str(i)] = best_ada_reg.predict(X_te[X_te['d']==i])\n",
    "final_predictions_ada = pd.concat([valid_df[fixed_cols], final_predictions_ada],axis=1,sort=False)\n",
    "#prediction data transformed from 30490 timeseries to 42840 hirerachichal time-series\n",
    "pred_42840_df = convert_to_42840(final_predictions_ada,valid_d_cols1,groupbys)\n",
    "#Computed WRMSSE for each predictions based on hyper-parameters\n",
    "WRMSSE_ada_te = custom_metric(train_42840_df,valid_42840_df,pred_42840_df,weight_df)"
   ]
  },
  {
   "cell_type": "code",
   "execution_count": 147,
   "metadata": {},
   "outputs": [
    {
     "name": "stdout",
     "output_type": "stream",
     "text": [
      "WRMSSE on test data using AdaBoostRegressor is:  0.6795705532570225\n"
     ]
    }
   ],
   "source": [
    "print('WRMSSE on test data using AdaBoostRegressor is: ',WRMSSE_ada_te)"
   ]
  },
  {
   "cell_type": "code",
   "execution_count": 148,
   "metadata": {},
   "outputs": [
    {
     "data": {
      "text/plain": [
       "['best_ada_reg.pkl']"
      ]
     },
     "execution_count": 148,
     "metadata": {},
     "output_type": "execute_result"
    }
   ],
   "source": [
    "joblib.dump(best_ada_reg,'best_ada_reg.pkl') #store the best model"
   ]
  },
  {
   "cell_type": "code",
   "execution_count": 149,
   "metadata": {},
   "outputs": [],
   "source": [
    "best_ada_reg = joblib.load('best_ada_reg.pkl')"
   ]
  },
  {
   "cell_type": "code",
   "execution_count": 150,
   "metadata": {},
   "outputs": [],
   "source": [
    "final_predictions_ada.to_csv('final_predictions_ada.csv',index=False)"
   ]
  },
  {
   "cell_type": "code",
   "execution_count": 151,
   "metadata": {},
   "outputs": [
    {
     "data": {
      "text/html": [
       "<div>\n",
       "<style scoped>\n",
       "    .dataframe tbody tr th:only-of-type {\n",
       "        vertical-align: middle;\n",
       "    }\n",
       "\n",
       "    .dataframe tbody tr th {\n",
       "        vertical-align: top;\n",
       "    }\n",
       "\n",
       "    .dataframe thead th {\n",
       "        text-align: right;\n",
       "    }\n",
       "</style>\n",
       "<table border=\"1\" class=\"dataframe\">\n",
       "  <thead>\n",
       "    <tr style=\"text-align: right;\">\n",
       "      <th></th>\n",
       "      <th>id</th>\n",
       "      <th>item_id</th>\n",
       "      <th>dept_id</th>\n",
       "      <th>cat_id</th>\n",
       "      <th>store_id</th>\n",
       "      <th>state_id</th>\n",
       "      <th>for_all</th>\n",
       "      <th>d_1914</th>\n",
       "      <th>d_1915</th>\n",
       "      <th>d_1916</th>\n",
       "      <th>...</th>\n",
       "      <th>d_1932</th>\n",
       "      <th>d_1933</th>\n",
       "      <th>d_1934</th>\n",
       "      <th>d_1935</th>\n",
       "      <th>d_1936</th>\n",
       "      <th>d_1937</th>\n",
       "      <th>d_1938</th>\n",
       "      <th>d_1939</th>\n",
       "      <th>d_1940</th>\n",
       "      <th>d_1941</th>\n",
       "    </tr>\n",
       "  </thead>\n",
       "  <tbody>\n",
       "    <tr>\n",
       "      <th>0</th>\n",
       "      <td>HOBBIES_1_001_CA_1_evaluation</td>\n",
       "      <td>HOBBIES_1_001</td>\n",
       "      <td>HOBBIES_1</td>\n",
       "      <td>HOBBIES</td>\n",
       "      <td>CA_1</td>\n",
       "      <td>CA</td>\n",
       "      <td>all</td>\n",
       "      <td>0.91</td>\n",
       "      <td>0.90</td>\n",
       "      <td>0.90</td>\n",
       "      <td>...</td>\n",
       "      <td>0.86</td>\n",
       "      <td>1.25</td>\n",
       "      <td>1.23</td>\n",
       "      <td>0.96</td>\n",
       "      <td>0.92</td>\n",
       "      <td>0.92</td>\n",
       "      <td>0.95</td>\n",
       "      <td>0.88</td>\n",
       "      <td>1.23</td>\n",
       "      <td>1.20</td>\n",
       "    </tr>\n",
       "    <tr>\n",
       "      <th>1</th>\n",
       "      <td>HOBBIES_1_002_CA_1_evaluation</td>\n",
       "      <td>HOBBIES_1_002</td>\n",
       "      <td>HOBBIES_1</td>\n",
       "      <td>HOBBIES</td>\n",
       "      <td>CA_1</td>\n",
       "      <td>CA</td>\n",
       "      <td>all</td>\n",
       "      <td>0.32</td>\n",
       "      <td>0.32</td>\n",
       "      <td>0.32</td>\n",
       "      <td>...</td>\n",
       "      <td>0.19</td>\n",
       "      <td>0.18</td>\n",
       "      <td>0.19</td>\n",
       "      <td>0.18</td>\n",
       "      <td>0.18</td>\n",
       "      <td>0.20</td>\n",
       "      <td>0.20</td>\n",
       "      <td>0.18</td>\n",
       "      <td>0.20</td>\n",
       "      <td>0.20</td>\n",
       "    </tr>\n",
       "    <tr>\n",
       "      <th>2</th>\n",
       "      <td>HOBBIES_1_003_CA_1_evaluation</td>\n",
       "      <td>HOBBIES_1_003</td>\n",
       "      <td>HOBBIES_1</td>\n",
       "      <td>HOBBIES</td>\n",
       "      <td>CA_1</td>\n",
       "      <td>CA</td>\n",
       "      <td>all</td>\n",
       "      <td>0.42</td>\n",
       "      <td>0.42</td>\n",
       "      <td>0.42</td>\n",
       "      <td>...</td>\n",
       "      <td>0.39</td>\n",
       "      <td>0.51</td>\n",
       "      <td>0.61</td>\n",
       "      <td>0.54</td>\n",
       "      <td>0.58</td>\n",
       "      <td>0.66</td>\n",
       "      <td>0.57</td>\n",
       "      <td>0.58</td>\n",
       "      <td>0.70</td>\n",
       "      <td>0.73</td>\n",
       "    </tr>\n",
       "    <tr>\n",
       "      <th>3</th>\n",
       "      <td>HOBBIES_1_004_CA_1_evaluation</td>\n",
       "      <td>HOBBIES_1_004</td>\n",
       "      <td>HOBBIES_1</td>\n",
       "      <td>HOBBIES</td>\n",
       "      <td>CA_1</td>\n",
       "      <td>CA</td>\n",
       "      <td>all</td>\n",
       "      <td>1.89</td>\n",
       "      <td>1.86</td>\n",
       "      <td>1.76</td>\n",
       "      <td>...</td>\n",
       "      <td>1.65</td>\n",
       "      <td>2.06</td>\n",
       "      <td>2.24</td>\n",
       "      <td>1.72</td>\n",
       "      <td>1.71</td>\n",
       "      <td>1.63</td>\n",
       "      <td>1.60</td>\n",
       "      <td>1.65</td>\n",
       "      <td>2.34</td>\n",
       "      <td>2.31</td>\n",
       "    </tr>\n",
       "    <tr>\n",
       "      <th>4</th>\n",
       "      <td>HOBBIES_1_005_CA_1_evaluation</td>\n",
       "      <td>HOBBIES_1_005</td>\n",
       "      <td>HOBBIES_1</td>\n",
       "      <td>HOBBIES</td>\n",
       "      <td>CA_1</td>\n",
       "      <td>CA</td>\n",
       "      <td>all</td>\n",
       "      <td>0.95</td>\n",
       "      <td>0.97</td>\n",
       "      <td>1.00</td>\n",
       "      <td>...</td>\n",
       "      <td>1.02</td>\n",
       "      <td>1.30</td>\n",
       "      <td>1.29</td>\n",
       "      <td>0.95</td>\n",
       "      <td>0.95</td>\n",
       "      <td>0.95</td>\n",
       "      <td>0.99</td>\n",
       "      <td>1.01</td>\n",
       "      <td>1.35</td>\n",
       "      <td>1.47</td>\n",
       "    </tr>\n",
       "  </tbody>\n",
       "</table>\n",
       "<p>5 rows × 35 columns</p>\n",
       "</div>"
      ],
      "text/plain": [
       "                              id        item_id    dept_id   cat_id store_id  \\\n",
       "0  HOBBIES_1_001_CA_1_evaluation  HOBBIES_1_001  HOBBIES_1  HOBBIES     CA_1   \n",
       "1  HOBBIES_1_002_CA_1_evaluation  HOBBIES_1_002  HOBBIES_1  HOBBIES     CA_1   \n",
       "2  HOBBIES_1_003_CA_1_evaluation  HOBBIES_1_003  HOBBIES_1  HOBBIES     CA_1   \n",
       "3  HOBBIES_1_004_CA_1_evaluation  HOBBIES_1_004  HOBBIES_1  HOBBIES     CA_1   \n",
       "4  HOBBIES_1_005_CA_1_evaluation  HOBBIES_1_005  HOBBIES_1  HOBBIES     CA_1   \n",
       "\n",
       "  state_id for_all  d_1914  d_1915  d_1916  ...  d_1932  d_1933  d_1934  \\\n",
       "0       CA     all    0.91    0.90    0.90  ...    0.86    1.25    1.23   \n",
       "1       CA     all    0.32    0.32    0.32  ...    0.19    0.18    0.19   \n",
       "2       CA     all    0.42    0.42    0.42  ...    0.39    0.51    0.61   \n",
       "3       CA     all    1.89    1.86    1.76  ...    1.65    2.06    2.24   \n",
       "4       CA     all    0.95    0.97    1.00  ...    1.02    1.30    1.29   \n",
       "\n",
       "   d_1935  d_1936  d_1937  d_1938  d_1939  d_1940  d_1941  \n",
       "0    0.96    0.92    0.92    0.95    0.88    1.23    1.20  \n",
       "1    0.18    0.18    0.20    0.20    0.18    0.20    0.20  \n",
       "2    0.54    0.58    0.66    0.57    0.58    0.70    0.73  \n",
       "3    1.72    1.71    1.63    1.60    1.65    2.34    2.31  \n",
       "4    0.95    0.95    0.95    0.99    1.01    1.35    1.47  \n",
       "\n",
       "[5 rows x 35 columns]"
      ]
     },
     "execution_count": 151,
     "metadata": {},
     "output_type": "execute_result"
    }
   ],
   "source": [
    "#forecasted sales from from day 1914 till 1941 test data\n",
    "final_predictions_ada = pd.read_csv('final_predictions_ada.csv')\n",
    "final_predictions_ada.head()"
   ]
  },
  {
   "cell_type": "code",
   "execution_count": 152,
   "metadata": {},
   "outputs": [],
   "source": [
    "submit_val = final_predictions_ada[['id']]\n",
    "for i in range(28):\n",
    "    submit_val['F'+str(i+1)] = final_predictions_ada['d_'+str(1914+i)]\n",
    "submit_val['id'] =  submit_val['id'].apply(lambda x: x.replace('evaluation','validation'))\n",
    "submit_eval = submit_val.copy()\n",
    "submit_eval[\"id\"] = submit_eval[\"id\"].apply(lambda x: x.replace('validation','evaluation'))\n",
    "submit_ada = submit_val.append(submit_eval).reset_index(drop=True)"
   ]
  },
  {
   "cell_type": "code",
   "execution_count": 153,
   "metadata": {},
   "outputs": [],
   "source": [
    "submit_ada.to_csv(\"submit_ada.csv\", index=False)"
   ]
  },
  {
   "cell_type": "markdown",
   "metadata": {},
   "source": [
    "<h3>Custom ensemble model</h3>"
   ]
  },
  {
   "cell_type": "code",
   "execution_count": 154,
   "metadata": {},
   "outputs": [],
   "source": [
    "#loading the train,cv, test dataframes\n",
    "X_tr = pd.read_pickle(\"X_tr\")\n",
    "y_tr = pd.read_pickle(\"y_tr\")\n",
    "X_val = pd.read_pickle(\"X_val\")\n",
    "y_val = pd.read_pickle(\"y_val\")\n",
    "X_te = pd.read_pickle(\"X_te\")"
   ]
  },
  {
   "cell_type": "code",
   "execution_count": 155,
   "metadata": {},
   "outputs": [],
   "source": [
    "#dropping initial 3 days rows from 1069-1071 in order for the time-split of data 80-20 to have integer number of days\n",
    "drop_d = [1069,1070,1071]\n",
    "X_tr = X_tr[~X_tr['d'].isin(drop_d)]\n",
    "y_tr = y_tr.loc[X_tr.index]\n",
    "#getting labels of days from 1914-1941 and use them for evaluating WRMSSE score\n",
    "df1 = pd.read_csv('sales_train_evaluation.csv')\n",
    "df1 = pd.melt(df1.iloc[:,-28:],var_name='d',value_name='sales')\n",
    "y_te = df1['sales']\n",
    "X_tr.reset_index(drop=True,inplace=True)\n",
    "X_val.reset_index(drop=True,inplace=True)\n",
    "X_te.reset_index(drop=True,inplace=True)\n",
    "y_tr.reset_index(drop=True,inplace=True)\n",
    "y_val.reset_index(drop=True,inplace=True)\n",
    "y_te.reset_index(drop=True,inplace=True)\n",
    "X = pd.concat([X_tr,X_val,X_te],sort=False)\n",
    "X.reset_index(drop=True,inplace=True)\n",
    "y = pd.concat([y_tr,y_val,y_te],sort=False)\n",
    "y.reset_index(drop=True,inplace=True)"
   ]
  },
  {
   "cell_type": "code",
   "execution_count": 156,
   "metadata": {},
   "outputs": [],
   "source": [
    "#this method returns the dataframes splitted based on specified percentage\n",
    "def split_data(X,y,per):\n",
    "    n_rows = int(len(X)*per)\n",
    "    X1 = X.head(n_rows)\n",
    "    y1 = y.head(n_rows)\n",
    "    X2 = X.loc[X.index.difference(X1.index, sort=False)]\n",
    "    y2 = y.loc[y.index.difference(y1.index, sort=False)]\n",
    "    return X1,y1,X2,y2"
   ]
  },
  {
   "cell_type": "code",
   "execution_count": 157,
   "metadata": {},
   "outputs": [],
   "source": [
    "#formulating X_train,X_test & D1,D2 along with their target values\n",
    "X_train,y_train,X_test,y_test = split_data(X,y,0.8)\n",
    "D1_x,D1_y,D2_x,D2_y = split_data(X_train,y_train,0.5)"
   ]
  },
  {
   "cell_type": "code",
   "execution_count": 158,
   "metadata": {},
   "outputs": [],
   "source": [
    "#this is a custom method where we return the predictions of the test data X_test.\n",
    "#we train N base models with sampled with replacement D1 data and using those models \n",
    "#we get the predictions as features from each model for D2 data and train the meta model \n",
    "#with predicted values of D2 based on N models, D2_y\n",
    "#getting predictions of X_test from N base models we get the final predictions from trained meta model.\n",
    "def custom_ensemble(D1_x,D1_y,D2_x,D2_y,X_test,y_test,N):\n",
    "    #defing some of variables to be used dynamically for base models, sample dataframes, features, predictions\n",
    "    sample_D1_x = ['d'+str(i)+'_x' for i in range(1,N+1)]\n",
    "    sample_D1_y = ['d'+str(i)+'_y' for i in range(1,N+1)]\n",
    "    base_models = ['M'+str(i) for i in range(1,N+1)]\n",
    "    preds_D2_x  = ['pred_d2_'+str(i) for i in range(int(D2_x.iloc[0]['d']),int(D2_x.iloc[-1]['d'])+1)]\n",
    "    preds_X_test  = ['pred_X_test_'+str(i) for i in range(int(X_test.iloc[0]['d']),int(X_test.iloc[-1]['d'])+1)]\n",
    "    features_D2_pred = ['D2_f_'+str(i) for i in range(1,N+1)]\n",
    "    features_X_test_pred = ['X_test_f_'+str(i) for i in range(1,N+1)]\n",
    "    D2_pred = pd.DataFrame()\n",
    "    X_test_pred = pd.DataFrame()\n",
    "    #N represents number of base models\n",
    "    for i in tqdm(range(N)):\n",
    "        #getting the sampled with replacement D1_x\n",
    "        sample_D1_x[i] = D1_x.sample(frac=1,replace=True)\n",
    "        #getting the sampled with replacement D1_y\n",
    "        sample_D1_y[i] = D1_y.loc[sample_D1_x[i].index]\n",
    "        #defing each base model\n",
    "        base_models[i] = DecisionTreeRegressor(max_depth=10,max_features=10,random_state=42)\n",
    "        #training each base model\n",
    "        base_models[i].fit(sample_D1_x[i],sample_D1_y[i])\n",
    "        #predicting for all the days of D2_x using traing N base models and using them as features\n",
    "        preds_D2_x[i] = pd.DataFrame()\n",
    "        for j in range(int(D2_x.iloc[0]['d']),int(D2_x.iloc[-1]['d'])+1):\n",
    "            preds_D2_x[i]['d_'+str(j)] = base_models[i].predict(D2_x[D2_x['d']==j])\n",
    "        df1 = pd.melt(preds_D2_x[i],var_name='d',value_name='sales')\n",
    "        #creating dataframe with features as predictions of D2_x obtained from trained N base models\n",
    "        D2_pred[features_D2_pred[i]] = df1['sales'].values\n",
    "        #predicting for all the days of X_test using traing N base models and using them as features\n",
    "        preds_X_test[i] = pd.DataFrame()\n",
    "        for k in range(int(X_test.iloc[0]['d']),int(X_test.iloc[-1]['d'])+1):\n",
    "            preds_X_test[i]['d_'+str(k)] = base_models[i].predict(X_test[X_test['d']==k])\n",
    "        df2 = pd.melt(preds_X_test[i],var_name='d',value_name='sales')\n",
    "        #creating dataframe with features as predictions of X_test obtained from trained N base models\n",
    "        X_test_pred[features_X_test_pred[i]] = df2['sales'].values\n",
    "    #training meta-model with D2_pred,D2_y\n",
    "    meta_model = xgb.XGBRegressor(n_estimators=200,learning_rate=0.05,max_depth=10,n_jobs=-1,\n",
    "                                  colsample_bytree=0.3,subsample=1,random_state=42)\n",
    "    #fit the model\n",
    "    meta_model.fit(D2_pred.values,D2_y.values)\n",
    "    #getting the predictions for X_test_pred from trained meta-model\n",
    "    meta_model_preds = meta_model.predict(X_test_pred.values)\n",
    "    return meta_model_preds"
   ]
  },
  {
   "cell_type": "code",
   "execution_count": 159,
   "metadata": {},
   "outputs": [
    {
     "name": "stderr",
     "output_type": "stream",
     "text": [
      "100%|██████████████████████████████████████████| 10/10 [19:10<00:00, 115.02s/it]\n"
     ]
    }
   ],
   "source": [
    "#calling the custom_ensemble method and returns the predictions of X_test\n",
    "custom_ensemle_predictions = custom_ensemble(D1_x,D1_y,D2_x,D2_y,X_test,y_test,10)\n",
    "#storing the predictions of X_test\n",
    "pickle.dump(custom_ensemle_predictions, open(\"custom_ensemle_predictions\", \"wb\"))"
   ]
  },
  {
   "cell_type": "code",
   "execution_count": 161,
   "metadata": {},
   "outputs": [],
   "source": [
    "sales_eval_df = pd.read_csv('sales_train_evaluation.csv') #reading eval data since we have true labels for days from 1914 till 1941\n",
    "groupbys = ('for_all', 'state_id', 'store_id', 'cat_id', 'dept_id',['state_id', 'cat_id'],  \n",
    "            ['state_id', 'dept_id'], ['store_id', 'cat_id'],['store_id', 'dept_id'], 'item_id', \n",
    "            ['item_id', 'state_id'], ['item_id', 'store_id'])\n",
    "train_df = pd.concat([sales_eval_df.loc[:,:'state_id'],sales_eval_df.loc[:,'d_1069':]],axis=1,sort=False)\n",
    "index_df = train_df.iloc[:,-28:].copy()\n",
    "train_df = train_df.iloc[:,:-28]\n",
    "valid_df = train_df.iloc[:,-28:].copy()\n",
    "train_d_cols = [col for col in train_df.columns if col.startswith('d_')]\n",
    "weight_cols = train_df.iloc[:,-28:].columns.tolist()\n",
    "train_df['for_all'] = \"all\" #for level 1 aggregation\n",
    "fixed_cols = [col for col in train_df.columns if not col.startswith('d_')]\n",
    "valid_d_cols = [col for col in valid_df.columns if col.startswith('d_')]\n",
    "valid_d_cols1 = [col for col in index_df.columns if col.startswith('d_')]\n",
    "if not all([col in valid_df.columns for col in fixed_cols]):\n",
    "    valid_df = pd.concat([train_df[fixed_cols],valid_df],axis=1,sort=False)\n",
    "weight_df = compute_weights(train_df,valid_df,weight_cols,groupbys,fixed_cols)\n",
    "train_42840_df = convert_to_42840(train_df, train_d_cols, groupbys)\n",
    "valid_42840_df = convert_to_42840(valid_df, valid_d_cols, groupbys)\n",
    "\n",
    "#loading the X_test predictions\n",
    "custom_ensemle_predictions = pickle.load(open('custom_ensemle_predictions', 'rb'))\n",
    "\n",
    "#slicing the predictions such that to get each day predictions of all the products of test data\n",
    "start = 0\n",
    "t = 1768\n",
    "custom_ensemle_predictions_df = pd.DataFrame()\n",
    "while start < len(custom_ensemle_predictions):\n",
    "    end = start + 30490\n",
    "    custom_ensemle_predictions_df['d_'+str(t)] = custom_ensemle_predictions[start:end]\n",
    "    start = end\n",
    "    t = t+1\n",
    "\n",
    "forecast_horizon_pred =  custom_ensemle_predictions_df.iloc[:,-28:]\n",
    "forecast_horizon_pred = pd.concat([valid_df[fixed_cols], forecast_horizon_pred],axis=1,sort=False)\n",
    "#prediction data transformed from 30490 timeseries to 42840 hirerachichal time-series\n",
    "pred_42840_df = convert_to_42840(forecast_horizon_pred,valid_d_cols1,groupbys)\n",
    "#Computed WRMSSE for each predictions based on hyper-parameters\n",
    "WRMSSE_custom_te = custom_metric(train_42840_df,valid_42840_df,pred_42840_df,weight_df)"
   ]
  },
  {
   "cell_type": "code",
   "execution_count": 162,
   "metadata": {},
   "outputs": [
    {
     "name": "stdout",
     "output_type": "stream",
     "text": [
      "WRMSSE on test data using custom ensemble model is:  0.6563485207720899\n"
     ]
    }
   ],
   "source": [
    "print('WRMSSE on test data using custom ensemble model is: ',WRMSSE_custom_te)"
   ]
  },
  {
   "cell_type": "code",
   "execution_count": 163,
   "metadata": {},
   "outputs": [],
   "source": [
    "forecast_horizon_pred.to_csv('forecast_horizon_pred.csv',index=False)"
   ]
  },
  {
   "cell_type": "code",
   "execution_count": 164,
   "metadata": {
    "scrolled": true
   },
   "outputs": [
    {
     "data": {
      "text/html": [
       "<div>\n",
       "<style scoped>\n",
       "    .dataframe tbody tr th:only-of-type {\n",
       "        vertical-align: middle;\n",
       "    }\n",
       "\n",
       "    .dataframe tbody tr th {\n",
       "        vertical-align: top;\n",
       "    }\n",
       "\n",
       "    .dataframe thead th {\n",
       "        text-align: right;\n",
       "    }\n",
       "</style>\n",
       "<table border=\"1\" class=\"dataframe\">\n",
       "  <thead>\n",
       "    <tr style=\"text-align: right;\">\n",
       "      <th></th>\n",
       "      <th>id</th>\n",
       "      <th>item_id</th>\n",
       "      <th>dept_id</th>\n",
       "      <th>cat_id</th>\n",
       "      <th>store_id</th>\n",
       "      <th>state_id</th>\n",
       "      <th>for_all</th>\n",
       "      <th>d_1914</th>\n",
       "      <th>d_1915</th>\n",
       "      <th>d_1916</th>\n",
       "      <th>...</th>\n",
       "      <th>d_1932</th>\n",
       "      <th>d_1933</th>\n",
       "      <th>d_1934</th>\n",
       "      <th>d_1935</th>\n",
       "      <th>d_1936</th>\n",
       "      <th>d_1937</th>\n",
       "      <th>d_1938</th>\n",
       "      <th>d_1939</th>\n",
       "      <th>d_1940</th>\n",
       "      <th>d_1941</th>\n",
       "    </tr>\n",
       "  </thead>\n",
       "  <tbody>\n",
       "    <tr>\n",
       "      <th>0</th>\n",
       "      <td>HOBBIES_1_001_CA_1_evaluation</td>\n",
       "      <td>HOBBIES_1_001</td>\n",
       "      <td>HOBBIES_1</td>\n",
       "      <td>HOBBIES</td>\n",
       "      <td>CA_1</td>\n",
       "      <td>CA</td>\n",
       "      <td>all</td>\n",
       "      <td>0.92</td>\n",
       "      <td>0.87</td>\n",
       "      <td>0.83</td>\n",
       "      <td>...</td>\n",
       "      <td>0.96</td>\n",
       "      <td>1.25</td>\n",
       "      <td>1.20</td>\n",
       "      <td>0.98</td>\n",
       "      <td>0.98</td>\n",
       "      <td>0.94</td>\n",
       "      <td>1.00</td>\n",
       "      <td>0.90</td>\n",
       "      <td>1.22</td>\n",
       "      <td>1.19</td>\n",
       "    </tr>\n",
       "    <tr>\n",
       "      <th>1</th>\n",
       "      <td>HOBBIES_1_002_CA_1_evaluation</td>\n",
       "      <td>HOBBIES_1_002</td>\n",
       "      <td>HOBBIES_1</td>\n",
       "      <td>HOBBIES</td>\n",
       "      <td>CA_1</td>\n",
       "      <td>CA</td>\n",
       "      <td>all</td>\n",
       "      <td>0.30</td>\n",
       "      <td>0.30</td>\n",
       "      <td>0.30</td>\n",
       "      <td>...</td>\n",
       "      <td>0.20</td>\n",
       "      <td>0.21</td>\n",
       "      <td>0.21</td>\n",
       "      <td>0.16</td>\n",
       "      <td>0.16</td>\n",
       "      <td>0.20</td>\n",
       "      <td>0.20</td>\n",
       "      <td>0.22</td>\n",
       "      <td>0.22</td>\n",
       "      <td>0.22</td>\n",
       "    </tr>\n",
       "    <tr>\n",
       "      <th>2</th>\n",
       "      <td>HOBBIES_1_003_CA_1_evaluation</td>\n",
       "      <td>HOBBIES_1_003</td>\n",
       "      <td>HOBBIES_1</td>\n",
       "      <td>HOBBIES</td>\n",
       "      <td>CA_1</td>\n",
       "      <td>CA</td>\n",
       "      <td>all</td>\n",
       "      <td>0.42</td>\n",
       "      <td>0.42</td>\n",
       "      <td>0.42</td>\n",
       "      <td>...</td>\n",
       "      <td>0.40</td>\n",
       "      <td>0.51</td>\n",
       "      <td>0.67</td>\n",
       "      <td>0.51</td>\n",
       "      <td>0.60</td>\n",
       "      <td>0.68</td>\n",
       "      <td>0.51</td>\n",
       "      <td>0.66</td>\n",
       "      <td>0.84</td>\n",
       "      <td>0.79</td>\n",
       "    </tr>\n",
       "    <tr>\n",
       "      <th>3</th>\n",
       "      <td>HOBBIES_1_004_CA_1_evaluation</td>\n",
       "      <td>HOBBIES_1_004</td>\n",
       "      <td>HOBBIES_1</td>\n",
       "      <td>HOBBIES</td>\n",
       "      <td>CA_1</td>\n",
       "      <td>CA</td>\n",
       "      <td>all</td>\n",
       "      <td>1.92</td>\n",
       "      <td>1.87</td>\n",
       "      <td>1.71</td>\n",
       "      <td>...</td>\n",
       "      <td>1.65</td>\n",
       "      <td>2.12</td>\n",
       "      <td>2.35</td>\n",
       "      <td>1.67</td>\n",
       "      <td>1.69</td>\n",
       "      <td>1.50</td>\n",
       "      <td>1.57</td>\n",
       "      <td>1.65</td>\n",
       "      <td>2.48</td>\n",
       "      <td>2.34</td>\n",
       "    </tr>\n",
       "    <tr>\n",
       "      <th>4</th>\n",
       "      <td>HOBBIES_1_005_CA_1_evaluation</td>\n",
       "      <td>HOBBIES_1_005</td>\n",
       "      <td>HOBBIES_1</td>\n",
       "      <td>HOBBIES</td>\n",
       "      <td>CA_1</td>\n",
       "      <td>CA</td>\n",
       "      <td>all</td>\n",
       "      <td>0.92</td>\n",
       "      <td>0.87</td>\n",
       "      <td>0.99</td>\n",
       "      <td>...</td>\n",
       "      <td>1.00</td>\n",
       "      <td>1.27</td>\n",
       "      <td>1.22</td>\n",
       "      <td>0.96</td>\n",
       "      <td>0.95</td>\n",
       "      <td>0.98</td>\n",
       "      <td>0.98</td>\n",
       "      <td>0.97</td>\n",
       "      <td>1.30</td>\n",
       "      <td>1.49</td>\n",
       "    </tr>\n",
       "  </tbody>\n",
       "</table>\n",
       "<p>5 rows × 35 columns</p>\n",
       "</div>"
      ],
      "text/plain": [
       "                              id        item_id    dept_id   cat_id store_id  \\\n",
       "0  HOBBIES_1_001_CA_1_evaluation  HOBBIES_1_001  HOBBIES_1  HOBBIES     CA_1   \n",
       "1  HOBBIES_1_002_CA_1_evaluation  HOBBIES_1_002  HOBBIES_1  HOBBIES     CA_1   \n",
       "2  HOBBIES_1_003_CA_1_evaluation  HOBBIES_1_003  HOBBIES_1  HOBBIES     CA_1   \n",
       "3  HOBBIES_1_004_CA_1_evaluation  HOBBIES_1_004  HOBBIES_1  HOBBIES     CA_1   \n",
       "4  HOBBIES_1_005_CA_1_evaluation  HOBBIES_1_005  HOBBIES_1  HOBBIES     CA_1   \n",
       "\n",
       "  state_id for_all  d_1914  d_1915  d_1916  ...  d_1932  d_1933  d_1934  \\\n",
       "0       CA     all    0.92    0.87    0.83  ...    0.96    1.25    1.20   \n",
       "1       CA     all    0.30    0.30    0.30  ...    0.20    0.21    0.21   \n",
       "2       CA     all    0.42    0.42    0.42  ...    0.40    0.51    0.67   \n",
       "3       CA     all    1.92    1.87    1.71  ...    1.65    2.12    2.35   \n",
       "4       CA     all    0.92    0.87    0.99  ...    1.00    1.27    1.22   \n",
       "\n",
       "   d_1935  d_1936  d_1937  d_1938  d_1939  d_1940  d_1941  \n",
       "0    0.98    0.98    0.94    1.00    0.90    1.22    1.19  \n",
       "1    0.16    0.16    0.20    0.20    0.22    0.22    0.22  \n",
       "2    0.51    0.60    0.68    0.51    0.66    0.84    0.79  \n",
       "3    1.67    1.69    1.50    1.57    1.65    2.48    2.34  \n",
       "4    0.96    0.95    0.98    0.98    0.97    1.30    1.49  \n",
       "\n",
       "[5 rows x 35 columns]"
      ]
     },
     "execution_count": 164,
     "metadata": {},
     "output_type": "execute_result"
    }
   ],
   "source": [
    "#forecasted sales from from day 1914 till 1941 test data\n",
    "forecast_horizon_pred = pd.read_csv('forecast_horizon_pred.csv')\n",
    "forecast_horizon_pred.head()"
   ]
  },
  {
   "cell_type": "code",
   "execution_count": 175,
   "metadata": {},
   "outputs": [],
   "source": [
    "def compute_res(train_df, valid_df, pred_df):\n",
    "    scale_lst = []\n",
    "    for i in range(len(train_df)):\n",
    "        val = train_df.iloc[i].values\n",
    "        # to consider the periods following the first non-zero demand observed for the series under evaluation.\n",
    "        val = val[np.argmax(val!=0):]\n",
    "        #to scale the squared-error as taking the consecutive difference of each day sales\n",
    "        scale = ((val[1:] - val[:-1]) ** 2).mean()\n",
    "        #storing the scale value corresponding to each time series\n",
    "        scale_lst.append(scale)\n",
    "    scale_arr = np.array(scale_lst)\n",
    "    #computing mean squared error\n",
    "    num = ((pred_df - valid_df)**2).mean(axis=1)\n",
    "    #scaled error i.e., root mean squared scaled error\n",
    "    rmsse = (num/scale_arr).map(np.sqrt)\n",
    "    res = pred_df - valid_df\n",
    "    return res"
   ]
  },
  {
   "cell_type": "code",
   "execution_count": 176,
   "metadata": {},
   "outputs": [],
   "source": [
    "res = compute_res(train_42840_df,valid_42840_df,pred_42840_df)"
   ]
  },
  {
   "cell_type": "code",
   "execution_count": 186,
   "metadata": {},
   "outputs": [
    {
     "data": {
      "text/plain": [
       "RangeIndex(start=0, stop=28, step=1)"
      ]
     },
     "execution_count": 186,
     "metadata": {},
     "output_type": "execute_result"
    }
   ],
   "source": []
  },
  {
   "cell_type": "code",
   "execution_count": 178,
   "metadata": {},
   "outputs": [
    {
     "data": {
      "text/plain": [
       "array([[<Axes: title={'center': '0'}>, <Axes: title={'center': '1'}>,\n",
       "        <Axes: title={'center': '2'}>, <Axes: title={'center': '3'}>,\n",
       "        <Axes: title={'center': '4'}>],\n",
       "       [<Axes: title={'center': '5'}>, <Axes: title={'center': '6'}>,\n",
       "        <Axes: title={'center': '7'}>, <Axes: title={'center': '8'}>,\n",
       "        <Axes: title={'center': '9'}>],\n",
       "       [<Axes: title={'center': '10'}>, <Axes: title={'center': '11'}>,\n",
       "        <Axes: title={'center': '12'}>, <Axes: title={'center': '13'}>,\n",
       "        <Axes: title={'center': '14'}>],\n",
       "       [<Axes: title={'center': '15'}>, <Axes: title={'center': '16'}>,\n",
       "        <Axes: title={'center': '17'}>, <Axes: title={'center': '18'}>,\n",
       "        <Axes: title={'center': '19'}>],\n",
       "       [<Axes: title={'center': '20'}>, <Axes: title={'center': '21'}>,\n",
       "        <Axes: title={'center': '22'}>, <Axes: title={'center': '23'}>,\n",
       "        <Axes: title={'center': '24'}>],\n",
       "       [<Axes: title={'center': '25'}>, <Axes: title={'center': '26'}>,\n",
       "        <Axes: title={'center': '27'}>, <Axes: >, <Axes: >]], dtype=object)"
      ]
     },
     "execution_count": 178,
     "metadata": {},
     "output_type": "execute_result"
    },
    {
     "data": {
      "image/png": "[encoded data removed]",
      "text/plain": [
       "<Figure size 640x480 with 30 Axes>"
      ]
     },
     "metadata": {},
     "output_type": "display_data"
    }
   ],
   "source": [
    "res.hist()"
   ]
  },
  {
   "cell_type": "code",
   "execution_count": 182,
   "metadata": {},
   "outputs": [],
   "source": [
    "lgb_reg.evals_result_"
   ]
  },
  {
   "cell_type": "code",
   "execution_count": null,
   "metadata": {},
   "outputs": [],
   "source": []
  },
  {
   "cell_type": "code",
   "execution_count": 165,
   "metadata": {},
   "outputs": [],
   "source": [
    "submit_val = forecast_horizon_pred[['id']]\n",
    "for i in range(28):\n",
    "    submit_val['F'+str(i+1)] = forecast_horizon_pred['d_'+str(1914+i)]\n",
    "submit_val['id'] =  submit_val['id'].apply(lambda x: x.replace('evaluation','validation'))\n",
    "submit_eval = submit_val.copy()\n",
    "submit_eval[\"id\"] = submit_eval[\"id\"].apply(lambda x: x.replace('validation','evaluation'))\n",
    "submit_custom_ensemble = submit_val.append(submit_eval).reset_index(drop=True)"
   ]
  },
  {
   "cell_type": "code",
   "execution_count": 166,
   "metadata": {},
   "outputs": [],
   "source": [
    "submit_custom_ensemble.to_csv(\"submit_custom_ensemble.csv\", index=False)"
   ]
  },
  {
   "cell_type": "code",
   "execution_count": 168,
   "metadata": {},
   "outputs": [
    {
     "name": "stdout",
     "output_type": "stream",
     "text": [
      "Collecting prettytable\n",
      "  Downloading prettytable-3.8.0-py3-none-any.whl (27 kB)\n",
      "Requirement already satisfied: wcwidth in /Users/susanwhite/anaconda3/lib/python3.10/site-packages (from prettytable) (0.2.5)\n",
      "Installing collected packages: prettytable\n",
      "Successfully installed prettytable-3.8.0\n",
      "Note: you may need to restart the kernel to use updated packages.\n"
     ]
    }
   ],
   "source": [
    "pip install prettytable"
   ]
  },
  {
   "cell_type": "code",
   "execution_count": 169,
   "metadata": {},
   "outputs": [
    {
     "name": "stdout",
     "output_type": "stream",
     "text": [
      "+---------------------------------------------------+--------+\n",
      "|                       Model                       | WRMSSE |\n",
      "+---------------------------------------------------+--------+\n",
      "| Mean sales for the past 4 weeks of that dayofweek | 0.7524 |\n",
      "|                   Moving AVerage                  | 1.0567 |\n",
      "|               RandomForestRegressor               | 0.7487 |\n",
      "|                   LgbmRegressor                   | 0.6087 |\n",
      "|                    SGDRegressor                   | 0.9682 |\n",
      "|                 AdaBoostRegressor                 | 0.7944 |\n",
      "|      Custom_ensemble(num of base-models = 10)     | 0.7988 |\n",
      "+---------------------------------------------------+--------+\n"
     ]
    }
   ],
   "source": [
    "from prettytable import PrettyTable\n",
    "res = PrettyTable()\n",
    "res.field_names = [\"Model\", \"WRMSSE\"]\n",
    "res.add_row([\"Mean sales for the past 4 weeks of that dayofweek\", 0.7524])\n",
    "res.add_row([\"Moving Average\", 1.0567])\n",
    "res.add_row([\"RandomForestRegressor\",0.7487])\n",
    "res.add_row([\"LgbmRegressor\", 0.6087])\n",
    "res.add_row([\"SGDRegressor\", 0.9682])\n",
    "res.add_row([\"AdaBoostRegressor\", 0.7944])\n",
    "res.add_row([\"Custom_ensemble(num of base-models = 10)\", 0.7988])\n",
    "print(res)"
   ]
  },
  {
   "cell_type": "code",
   "execution_count": null,
   "metadata": {},
   "outputs": [],
   "source": []
  }
 ],
 "metadata": {
  "kernelspec": {
   "display_name": "Python 3 (ipykernel)",
   "language": "python",
   "name": "python3"
  },
  "language_info": {
   "codemirror_mode": {
    "name": "ipython",
    "version": 3
   },
   "file_extension": ".py",
   "mimetype": "text/x-python",
   "name": "python",
   "nbconvert_exporter": "python",
   "pygments_lexer": "ipython3",
   "version": "3.10.9"
  }
 },
 "nbformat": 4,
 "nbformat_minor": 4
}
